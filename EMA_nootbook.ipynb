{
 "metadata": {
  "language_info": {
   "codemirror_mode": {
    "name": "ipython",
    "version": 3
   },
   "file_extension": ".py",
   "mimetype": "text/x-python",
   "name": "python",
   "nbconvert_exporter": "python",
   "pygments_lexer": "ipython3",
   "version": "3.8.8-final"
  },
  "orig_nbformat": 2,
  "kernelspec": {
   "name": "python388jvsc74a57bd06c313c17cd49812660d49233b46c691bbb6b1e704907687e4545c48258cc969b",
   "display_name": "Python 3.8.8 64-bit ('emsx_3.8.8')"
  },
  "metadata": {
   "interpreter": {
    "hash": "6c313c17cd49812660d49233b46c691bbb6b1e704907687e4545c48258cc969b"
   }
  }
 },
 "nbformat": 4,
 "nbformat_minor": 2,
 "cells": [
  {
   "source": [
    "# Data Cleaning"
   ],
   "cell_type": "markdown",
   "metadata": {}
  },
  {
   "source": [
    "## Indicies of Deprivation 2015 Files"
   ],
   "cell_type": "markdown",
   "metadata": {}
  },
  {
   "source": [
    "I removed all empty spaces between the column headings in the \"File_2_ID2015_Domains_of_deprivation.xlsx\" file to make it easier to work with and renamed the file to \"ID2015_Domains_of_deprivation.xlsa\"."
   ],
   "cell_type": "markdown",
   "metadata": {}
  },
  {
   "source": [],
   "cell_type": "markdown",
   "metadata": {}
  },
  {
   "source": [
    "## Loading in the datasets"
   ],
   "cell_type": "markdown",
   "metadata": {}
  },
  {
   "cell_type": "code",
   "execution_count": 1,
   "metadata": {},
   "outputs": [],
   "source": [
    "import pandas as pd"
   ]
  },
  {
   "cell_type": "code",
   "execution_count": 2,
   "metadata": {},
   "outputs": [],
   "source": [
    "# Load file \"Domains of Deprivation 2015\" into dataframe\n",
    "\n",
    "data = './data/Deprivation_Index/ID2015_Domains_of_deprivation.xlsx'\n",
    "df = pd.read_excel(data, sheet_name='ID2015 Domains')"
   ]
  },
  {
   "cell_type": "code",
   "execution_count": 3,
   "metadata": {},
   "outputs": [
    {
     "output_type": "execute_result",
     "data": {
      "text/plain": [
       "  LSOA_code_2011 LSOA_name_2011 Local_Authority_District_code_2013  \\\n",
       "0      E01031349      Adur 001A                          E07000223   \n",
       "1      E01031350      Adur 001B                          E07000223   \n",
       "2      E01031351      Adur 001C                          E07000223   \n",
       "\n",
       "  Local_Authority_District_name_2013  Index_of_Multiple_Deprivation_IMD_Rank  \\\n",
       "0                               Adur                                   21352   \n",
       "1                               Adur                                    8864   \n",
       "2                               Adur                                   22143   \n",
       "\n",
       "   Index_of_Multiple_Deprivation_IMD_Decile  Income_Rank  Income_Decile  \\\n",
       "0                                         7        18992              6   \n",
       "1                                         3         9233              3   \n",
       "2                                         7        24539              8   \n",
       "\n",
       "   Employment_Rank  Employment_Decile  Education_Skills_and_Training_Rank  \\\n",
       "0            19305                  6                               13727   \n",
       "1             7879                  3                                6969   \n",
       "2            23389                  8                               10213   \n",
       "\n",
       "   Education_Skills_and_Training_Decile  \\\n",
       "0                                     5   \n",
       "1                                     3   \n",
       "2                                     4   \n",
       "\n",
       "   Health_Deprivation_and_Disability_Rank  \\\n",
       "0                                   25876   \n",
       "1                                    6883   \n",
       "2                                   24693   \n",
       "\n",
       "   Health_Deprivation_and_Disability_Decile  Crime_Rank  Crime_Decile  \\\n",
       "0                                         8       12817             4   \n",
       "1                                         3       12781             4   \n",
       "2                                         8        9112             3   \n",
       "\n",
       "   Barriers_to_Housing_and_Services_Rank  \\\n",
       "0                                  28166   \n",
       "1                                  11399   \n",
       "2                                  24743   \n",
       "\n",
       "   Barriers_to_Housing_and_Services_Decile  Living_Environment_Rank  \\\n",
       "0                                        9                    18367   \n",
       "1                                        4                    16242   \n",
       "2                                        8                    22299   \n",
       "\n",
       "   Living_Environment_Decile  \n",
       "0                          6  \n",
       "1                          5  \n",
       "2                          7  "
      ],
      "text/html": "<div>\n<style scoped>\n    .dataframe tbody tr th:only-of-type {\n        vertical-align: middle;\n    }\n\n    .dataframe tbody tr th {\n        vertical-align: top;\n    }\n\n    .dataframe thead th {\n        text-align: right;\n    }\n</style>\n<table border=\"1\" class=\"dataframe\">\n  <thead>\n    <tr style=\"text-align: right;\">\n      <th></th>\n      <th>LSOA_code_2011</th>\n      <th>LSOA_name_2011</th>\n      <th>Local_Authority_District_code_2013</th>\n      <th>Local_Authority_District_name_2013</th>\n      <th>Index_of_Multiple_Deprivation_IMD_Rank</th>\n      <th>Index_of_Multiple_Deprivation_IMD_Decile</th>\n      <th>Income_Rank</th>\n      <th>Income_Decile</th>\n      <th>Employment_Rank</th>\n      <th>Employment_Decile</th>\n      <th>Education_Skills_and_Training_Rank</th>\n      <th>Education_Skills_and_Training_Decile</th>\n      <th>Health_Deprivation_and_Disability_Rank</th>\n      <th>Health_Deprivation_and_Disability_Decile</th>\n      <th>Crime_Rank</th>\n      <th>Crime_Decile</th>\n      <th>Barriers_to_Housing_and_Services_Rank</th>\n      <th>Barriers_to_Housing_and_Services_Decile</th>\n      <th>Living_Environment_Rank</th>\n      <th>Living_Environment_Decile</th>\n    </tr>\n  </thead>\n  <tbody>\n    <tr>\n      <th>0</th>\n      <td>E01031349</td>\n      <td>Adur 001A</td>\n      <td>E07000223</td>\n      <td>Adur</td>\n      <td>21352</td>\n      <td>7</td>\n      <td>18992</td>\n      <td>6</td>\n      <td>19305</td>\n      <td>6</td>\n      <td>13727</td>\n      <td>5</td>\n      <td>25876</td>\n      <td>8</td>\n      <td>12817</td>\n      <td>4</td>\n      <td>28166</td>\n      <td>9</td>\n      <td>18367</td>\n      <td>6</td>\n    </tr>\n    <tr>\n      <th>1</th>\n      <td>E01031350</td>\n      <td>Adur 001B</td>\n      <td>E07000223</td>\n      <td>Adur</td>\n      <td>8864</td>\n      <td>3</td>\n      <td>9233</td>\n      <td>3</td>\n      <td>7879</td>\n      <td>3</td>\n      <td>6969</td>\n      <td>3</td>\n      <td>6883</td>\n      <td>3</td>\n      <td>12781</td>\n      <td>4</td>\n      <td>11399</td>\n      <td>4</td>\n      <td>16242</td>\n      <td>5</td>\n    </tr>\n    <tr>\n      <th>2</th>\n      <td>E01031351</td>\n      <td>Adur 001C</td>\n      <td>E07000223</td>\n      <td>Adur</td>\n      <td>22143</td>\n      <td>7</td>\n      <td>24539</td>\n      <td>8</td>\n      <td>23389</td>\n      <td>8</td>\n      <td>10213</td>\n      <td>4</td>\n      <td>24693</td>\n      <td>8</td>\n      <td>9112</td>\n      <td>3</td>\n      <td>24743</td>\n      <td>8</td>\n      <td>22299</td>\n      <td>7</td>\n    </tr>\n  </tbody>\n</table>\n</div>"
     },
     "metadata": {},
     "execution_count": 3
    }
   ],
   "source": [
    "df.head(3)"
   ]
  },
  {
   "cell_type": "code",
   "execution_count": 8,
   "metadata": {},
   "outputs": [
    {
     "output_type": "execute_result",
     "data": {
      "text/plain": [
       "['LSOA_code_2011',\n",
       " 'LSOA_name_2011',\n",
       " 'Local_Authority_District_code_2013',\n",
       " 'Local_Authority_District_name_2013',\n",
       " 'Index_of_Multiple_Deprivation_IMD_Rank',\n",
       " 'Index_of_Multiple_Deprivation_IMD_Decile',\n",
       " 'Income_Rank',\n",
       " 'Income_Decile',\n",
       " 'Employment_Rank',\n",
       " 'Employment_Decile',\n",
       " 'Education_Skills_and_Training_Rank',\n",
       " 'Education_Skills_and_Training_Decile',\n",
       " 'Health_Deprivation_and_Disability_Rank',\n",
       " 'Health_Deprivation_and_Disability_Decile',\n",
       " 'Crime_Rank',\n",
       " 'Crime_Decile',\n",
       " 'Barriers_to_Housing_and_Services_Rank',\n",
       " 'Barriers_to_Housing_and_Services_Decile',\n",
       " 'Living_Environment_Rank',\n",
       " 'Living_Environment_Decile']"
      ]
     },
     "metadata": {},
     "execution_count": 8
    }
   ],
   "source": [
    "list(df.columns)"
   ]
  },
  {
   "cell_type": "code",
   "execution_count": 9,
   "metadata": {},
   "outputs": [
    {
     "output_type": "stream",
     "name": "stdout",
     "text": [
      "<class 'pandas.core.frame.DataFrame'>\nRangeIndex: 32844 entries, 0 to 32843\nData columns (total 20 columns):\n #   Column                                    Non-Null Count  Dtype \n---  ------                                    --------------  ----- \n 0   LSOA_code_2011                            32844 non-null  object\n 1   LSOA_name_2011                            32844 non-null  object\n 2   Local_Authority_District_code_2013        32844 non-null  object\n 3   Local_Authority_District_name_2013        32844 non-null  object\n 4   Index_of_Multiple_Deprivation_IMD_Rank    32844 non-null  int64 \n 5   Index_of_Multiple_Deprivation_IMD_Decile  32844 non-null  int64 \n 6   Income_Rank                               32844 non-null  int64 \n 7   Income_Decile                             32844 non-null  int64 \n 8   Employment_Rank                           32844 non-null  int64 \n 9   Employment_Decile                         32844 non-null  int64 \n 10  Education_Skills_and_Training_Rank        32844 non-null  int64 \n 11  Education_Skills_and_Training_Decile      32844 non-null  int64 \n 12  Health_Deprivation_and_Disability_Rank    32844 non-null  int64 \n 13  Health_Deprivation_and_Disability_Decile  32844 non-null  int64 \n 14  Crime_Rank                                32844 non-null  int64 \n 15  Crime_Decile                              32844 non-null  int64 \n 16  Barriers_to_Housing_and_Services_Rank     32844 non-null  int64 \n 17  Barriers_to_Housing_and_Services_Decile   32844 non-null  int64 \n 18  Living_Environment_Rank                   32844 non-null  int64 \n 19  Living_Environment_Decile                 32844 non-null  int64 \ndtypes: int64(16), object(4)\nmemory usage: 5.0+ MB\n"
     ]
    }
   ],
   "source": [
    "# Tell me more about the dataset\n",
    "df_info = df.info()"
   ]
  },
  {
   "cell_type": "code",
   "execution_count": 17,
   "metadata": {},
   "outputs": [
    {
     "output_type": "execute_result",
     "data": {
      "text/plain": [
       "       Index_of_Multiple_Deprivation_IMD_Rank  \\\n",
       "count                               32,844.00   \n",
       "mean                                16,422.50   \n",
       "std                                  9,481.39   \n",
       "min                                      1.00   \n",
       "25%                                  8,211.75   \n",
       "50%                                 16,422.50   \n",
       "75%                                 24,633.25   \n",
       "max                                 32,844.00   \n",
       "\n",
       "       Index_of_Multiple_Deprivation_IMD_Decile  Income_Rank  Income_Decile  \\\n",
       "count                                 32,844.00    32,844.00      32,844.00   \n",
       "mean                                       5.50    16,422.50           5.50   \n",
       "std                                        2.87     9,481.39           2.87   \n",
       "min                                        1.00         1.00           1.00   \n",
       "25%                                        3.00     8,211.75           3.00   \n",
       "50%                                        5.50    16,422.50           5.50   \n",
       "75%                                        8.00    24,633.25           8.00   \n",
       "max                                       10.00    32,844.00          10.00   \n",
       "\n",
       "       Employment_Rank  Employment_Decile  Education_Skills_and_Training_Rank  \\\n",
       "count        32,844.00          32,844.00                           32,844.00   \n",
       "mean         16,422.50               5.50                           16,422.50   \n",
       "std           9,481.39               2.87                            9,481.39   \n",
       "min               1.00               1.00                                1.00   \n",
       "25%           8,211.75               3.00                            8,211.75   \n",
       "50%          16,422.50               5.50                           16,422.50   \n",
       "75%          24,633.25               8.00                           24,633.25   \n",
       "max          32,844.00              10.00                           32,844.00   \n",
       "\n",
       "       Education_Skills_and_Training_Decile  \\\n",
       "count                             32,844.00   \n",
       "mean                                   5.50   \n",
       "std                                    2.87   \n",
       "min                                    1.00   \n",
       "25%                                    3.00   \n",
       "50%                                    5.50   \n",
       "75%                                    8.00   \n",
       "max                                   10.00   \n",
       "\n",
       "       Health_Deprivation_and_Disability_Rank  \\\n",
       "count                               32,844.00   \n",
       "mean                                16,422.50   \n",
       "std                                  9,481.39   \n",
       "min                                      1.00   \n",
       "25%                                  8,211.75   \n",
       "50%                                 16,422.50   \n",
       "75%                                 24,633.25   \n",
       "max                                 32,844.00   \n",
       "\n",
       "       Health_Deprivation_and_Disability_Decile  Crime_Rank  Crime_Decile  \\\n",
       "count                                 32,844.00   32,844.00     32,844.00   \n",
       "mean                                       5.50   16,422.50          5.50   \n",
       "std                                        2.87    9,481.39          2.87   \n",
       "min                                        1.00        1.00          1.00   \n",
       "25%                                        3.00    8,211.75          3.00   \n",
       "50%                                        5.50   16,422.50          5.50   \n",
       "75%                                        8.00   24,633.25          8.00   \n",
       "max                                       10.00   32,844.00         10.00   \n",
       "\n",
       "       Barriers_to_Housing_and_Services_Rank  \\\n",
       "count                              32,844.00   \n",
       "mean                               16,422.50   \n",
       "std                                 9,481.39   \n",
       "min                                     1.00   \n",
       "25%                                 8,211.75   \n",
       "50%                                16,422.50   \n",
       "75%                                24,633.25   \n",
       "max                                32,844.00   \n",
       "\n",
       "       Barriers_to_Housing_and_Services_Decile  Living_Environment_Rank  \\\n",
       "count                                32,844.00                32,844.00   \n",
       "mean                                      5.50                16,422.50   \n",
       "std                                       2.87                 9,481.39   \n",
       "min                                       1.00                     1.00   \n",
       "25%                                       3.00                 8,211.75   \n",
       "50%                                       5.50                16,422.50   \n",
       "75%                                       8.00                24,633.25   \n",
       "max                                      10.00                32,844.00   \n",
       "\n",
       "       Living_Environment_Decile  \n",
       "count                  32,844.00  \n",
       "mean                        5.50  \n",
       "std                         2.87  \n",
       "min                         1.00  \n",
       "25%                         3.00  \n",
       "50%                         5.50  \n",
       "75%                         8.00  \n",
       "max                        10.00  "
      ],
      "text/html": "<div>\n<style scoped>\n    .dataframe tbody tr th:only-of-type {\n        vertical-align: middle;\n    }\n\n    .dataframe tbody tr th {\n        vertical-align: top;\n    }\n\n    .dataframe thead th {\n        text-align: right;\n    }\n</style>\n<table border=\"1\" class=\"dataframe\">\n  <thead>\n    <tr style=\"text-align: right;\">\n      <th></th>\n      <th>Index_of_Multiple_Deprivation_IMD_Rank</th>\n      <th>Index_of_Multiple_Deprivation_IMD_Decile</th>\n      <th>Income_Rank</th>\n      <th>Income_Decile</th>\n      <th>Employment_Rank</th>\n      <th>Employment_Decile</th>\n      <th>Education_Skills_and_Training_Rank</th>\n      <th>Education_Skills_and_Training_Decile</th>\n      <th>Health_Deprivation_and_Disability_Rank</th>\n      <th>Health_Deprivation_and_Disability_Decile</th>\n      <th>Crime_Rank</th>\n      <th>Crime_Decile</th>\n      <th>Barriers_to_Housing_and_Services_Rank</th>\n      <th>Barriers_to_Housing_and_Services_Decile</th>\n      <th>Living_Environment_Rank</th>\n      <th>Living_Environment_Decile</th>\n    </tr>\n  </thead>\n  <tbody>\n    <tr>\n      <th>count</th>\n      <td>32,844.00</td>\n      <td>32,844.00</td>\n      <td>32,844.00</td>\n      <td>32,844.00</td>\n      <td>32,844.00</td>\n      <td>32,844.00</td>\n      <td>32,844.00</td>\n      <td>32,844.00</td>\n      <td>32,844.00</td>\n      <td>32,844.00</td>\n      <td>32,844.00</td>\n      <td>32,844.00</td>\n      <td>32,844.00</td>\n      <td>32,844.00</td>\n      <td>32,844.00</td>\n      <td>32,844.00</td>\n    </tr>\n    <tr>\n      <th>mean</th>\n      <td>16,422.50</td>\n      <td>5.50</td>\n      <td>16,422.50</td>\n      <td>5.50</td>\n      <td>16,422.50</td>\n      <td>5.50</td>\n      <td>16,422.50</td>\n      <td>5.50</td>\n      <td>16,422.50</td>\n      <td>5.50</td>\n      <td>16,422.50</td>\n      <td>5.50</td>\n      <td>16,422.50</td>\n      <td>5.50</td>\n      <td>16,422.50</td>\n      <td>5.50</td>\n    </tr>\n    <tr>\n      <th>std</th>\n      <td>9,481.39</td>\n      <td>2.87</td>\n      <td>9,481.39</td>\n      <td>2.87</td>\n      <td>9,481.39</td>\n      <td>2.87</td>\n      <td>9,481.39</td>\n      <td>2.87</td>\n      <td>9,481.39</td>\n      <td>2.87</td>\n      <td>9,481.39</td>\n      <td>2.87</td>\n      <td>9,481.39</td>\n      <td>2.87</td>\n      <td>9,481.39</td>\n      <td>2.87</td>\n    </tr>\n    <tr>\n      <th>min</th>\n      <td>1.00</td>\n      <td>1.00</td>\n      <td>1.00</td>\n      <td>1.00</td>\n      <td>1.00</td>\n      <td>1.00</td>\n      <td>1.00</td>\n      <td>1.00</td>\n      <td>1.00</td>\n      <td>1.00</td>\n      <td>1.00</td>\n      <td>1.00</td>\n      <td>1.00</td>\n      <td>1.00</td>\n      <td>1.00</td>\n      <td>1.00</td>\n    </tr>\n    <tr>\n      <th>25%</th>\n      <td>8,211.75</td>\n      <td>3.00</td>\n      <td>8,211.75</td>\n      <td>3.00</td>\n      <td>8,211.75</td>\n      <td>3.00</td>\n      <td>8,211.75</td>\n      <td>3.00</td>\n      <td>8,211.75</td>\n      <td>3.00</td>\n      <td>8,211.75</td>\n      <td>3.00</td>\n      <td>8,211.75</td>\n      <td>3.00</td>\n      <td>8,211.75</td>\n      <td>3.00</td>\n    </tr>\n    <tr>\n      <th>50%</th>\n      <td>16,422.50</td>\n      <td>5.50</td>\n      <td>16,422.50</td>\n      <td>5.50</td>\n      <td>16,422.50</td>\n      <td>5.50</td>\n      <td>16,422.50</td>\n      <td>5.50</td>\n      <td>16,422.50</td>\n      <td>5.50</td>\n      <td>16,422.50</td>\n      <td>5.50</td>\n      <td>16,422.50</td>\n      <td>5.50</td>\n      <td>16,422.50</td>\n      <td>5.50</td>\n    </tr>\n    <tr>\n      <th>75%</th>\n      <td>24,633.25</td>\n      <td>8.00</td>\n      <td>24,633.25</td>\n      <td>8.00</td>\n      <td>24,633.25</td>\n      <td>8.00</td>\n      <td>24,633.25</td>\n      <td>8.00</td>\n      <td>24,633.25</td>\n      <td>8.00</td>\n      <td>24,633.25</td>\n      <td>8.00</td>\n      <td>24,633.25</td>\n      <td>8.00</td>\n      <td>24,633.25</td>\n      <td>8.00</td>\n    </tr>\n    <tr>\n      <th>max</th>\n      <td>32,844.00</td>\n      <td>10.00</td>\n      <td>32,844.00</td>\n      <td>10.00</td>\n      <td>32,844.00</td>\n      <td>10.00</td>\n      <td>32,844.00</td>\n      <td>10.00</td>\n      <td>32,844.00</td>\n      <td>10.00</td>\n      <td>32,844.00</td>\n      <td>10.00</td>\n      <td>32,844.00</td>\n      <td>10.00</td>\n      <td>32,844.00</td>\n      <td>10.00</td>\n    </tr>\n  </tbody>\n</table>\n</div>"
     },
     "metadata": {},
     "execution_count": 17
    }
   ],
   "source": [
    "# Descibe the dataset please\n",
    "pd.options.display.float_format = '{:,.2f}'.format # Only want to see 2 decimal places\n",
    "df.describe()"
   ]
  },
  {
   "cell_type": "code",
   "execution_count": 33,
   "metadata": {},
   "outputs": [
    {
     "output_type": "execute_result",
     "data": {
      "text/plain": [
       "     LSOA_code_2011  LSOA_name_2011 Local_Authority_District_code_2013  \\\n",
       "2598      E01012673  Blackpool 010A                          E06000009   \n",
       "\n",
       "     Local_Authority_District_name_2013  \\\n",
       "2598                          Blackpool   \n",
       "\n",
       "      Index_of_Multiple_Deprivation_IMD_Rank  \\\n",
       "2598                                       2   \n",
       "\n",
       "      Index_of_Multiple_Deprivation_IMD_Decile  Income_Rank  Income_Decile  \\\n",
       "2598                                         1            1              1   \n",
       "\n",
       "      Employment_Rank  Employment_Decile  Education_Skills_and_Training_Rank  \\\n",
       "2598               10                  1                                  47   \n",
       "\n",
       "      Education_Skills_and_Training_Decile  \\\n",
       "2598                                     1   \n",
       "\n",
       "      Health_Deprivation_and_Disability_Rank  \\\n",
       "2598                                      12   \n",
       "\n",
       "      Health_Deprivation_and_Disability_Decile  Crime_Rank  Crime_Decile  \\\n",
       "2598                                         1          10             1   \n",
       "\n",
       "      Barriers_to_Housing_and_Services_Rank  \\\n",
       "2598                                  24093   \n",
       "\n",
       "      Barriers_to_Housing_and_Services_Decile  Living_Environment_Rank  \\\n",
       "2598                                        8                      766   \n",
       "\n",
       "      Living_Environment_Decile  \n",
       "2598                          1  "
      ],
      "text/html": "<div>\n<style scoped>\n    .dataframe tbody tr th:only-of-type {\n        vertical-align: middle;\n    }\n\n    .dataframe tbody tr th {\n        vertical-align: top;\n    }\n\n    .dataframe thead th {\n        text-align: right;\n    }\n</style>\n<table border=\"1\" class=\"dataframe\">\n  <thead>\n    <tr style=\"text-align: right;\">\n      <th></th>\n      <th>LSOA_code_2011</th>\n      <th>LSOA_name_2011</th>\n      <th>Local_Authority_District_code_2013</th>\n      <th>Local_Authority_District_name_2013</th>\n      <th>Index_of_Multiple_Deprivation_IMD_Rank</th>\n      <th>Index_of_Multiple_Deprivation_IMD_Decile</th>\n      <th>Income_Rank</th>\n      <th>Income_Decile</th>\n      <th>Employment_Rank</th>\n      <th>Employment_Decile</th>\n      <th>Education_Skills_and_Training_Rank</th>\n      <th>Education_Skills_and_Training_Decile</th>\n      <th>Health_Deprivation_and_Disability_Rank</th>\n      <th>Health_Deprivation_and_Disability_Decile</th>\n      <th>Crime_Rank</th>\n      <th>Crime_Decile</th>\n      <th>Barriers_to_Housing_and_Services_Rank</th>\n      <th>Barriers_to_Housing_and_Services_Decile</th>\n      <th>Living_Environment_Rank</th>\n      <th>Living_Environment_Decile</th>\n    </tr>\n  </thead>\n  <tbody>\n    <tr>\n      <th>2598</th>\n      <td>E01012673</td>\n      <td>Blackpool 010A</td>\n      <td>E06000009</td>\n      <td>Blackpool</td>\n      <td>2</td>\n      <td>1</td>\n      <td>1</td>\n      <td>1</td>\n      <td>10</td>\n      <td>1</td>\n      <td>47</td>\n      <td>1</td>\n      <td>12</td>\n      <td>1</td>\n      <td>10</td>\n      <td>1</td>\n      <td>24093</td>\n      <td>8</td>\n      <td>766</td>\n      <td>1</td>\n    </tr>\n  </tbody>\n</table>\n</div>"
     },
     "metadata": {},
     "execution_count": 33
    }
   ],
   "source": [
    "# Who has the worst income in England?\n",
    "df[df['Income_Rank'] == 1]"
   ]
  },
  {
   "source": [
    "## Census data\n"
   ],
   "cell_type": "markdown",
   "metadata": {}
  },
  {
   "cell_type": "code",
   "execution_count": 44,
   "metadata": {},
   "outputs": [
    {
     "output_type": "execute_result",
     "data": {
      "text/plain": [
       "  2011 super output area - middle layer   mnemonic  \\\n",
       "0                        Darlington 001  E02002559   \n",
       "1                        Darlington 002  E02002560   \n",
       "2                        Darlington 003  E02002561   \n",
       "3                        Darlington 004  E02002562   \n",
       "4                        Darlington 005  E02002563   \n",
       "\n",
       "   1.1 Large employers and higher managerial and administrative occupations  \\\n",
       "0                                               2.00                          \n",
       "1                                               3.00                          \n",
       "2                                               2.00                          \n",
       "3                                               2.00                          \n",
       "4                                               0.00                          \n",
       "\n",
       "   1.2 Higher professional occupations  \\\n",
       "0                                14.00   \n",
       "1                                 9.00   \n",
       "2                                 7.00   \n",
       "3                                 4.00   \n",
       "4                                11.00   \n",
       "\n",
       "   2. Lower managerial, administrative and professional occupations  \\\n",
       "0                                              77.00                  \n",
       "1                                              35.00                  \n",
       "2                                              55.00                  \n",
       "3                                              50.00                  \n",
       "4                                              52.00                  \n",
       "\n",
       "   3. Intermediate occupations  4. Small employers and own account workers  \\\n",
       "0                        89.00                                       11.00   \n",
       "1                        80.00                                        9.00   \n",
       "2                        70.00                                        5.00   \n",
       "3                        87.00                                        8.00   \n",
       "4                        58.00                                        7.00   \n",
       "\n",
       "   5. Lower supervisory and technical occupations  \\\n",
       "0                                           39.00   \n",
       "1                                           43.00   \n",
       "2                                           37.00   \n",
       "3                                           42.00   \n",
       "4                                           28.00   \n",
       "\n",
       "   6. Semi-routine occupations  7. Routine occupations  L14.1 Never worked  \\\n",
       "0                        92.00                   66.00               23.00   \n",
       "1                        97.00                   60.00               25.00   \n",
       "2                        77.00                   39.00               26.00   \n",
       "3                       130.00                   89.00               60.00   \n",
       "4                        90.00                   67.00               47.00   \n",
       "\n",
       "   L14.2 Long-term unemployed  L15 Full-time students  \\\n",
       "0                        3.00                  321.00   \n",
       "1                        7.00                  242.00   \n",
       "2                        5.00                  217.00   \n",
       "3                       25.00                  240.00   \n",
       "4                        8.00                  186.00   \n",
       "\n",
       "   L17 Not classifiable for other reasons  \n",
       "0                                    0.00  \n",
       "1                                    0.00  \n",
       "2                                    0.00  \n",
       "3                                    0.00  \n",
       "4                                    0.00  "
      ],
      "text/html": "<div>\n<style scoped>\n    .dataframe tbody tr th:only-of-type {\n        vertical-align: middle;\n    }\n\n    .dataframe tbody tr th {\n        vertical-align: top;\n    }\n\n    .dataframe thead th {\n        text-align: right;\n    }\n</style>\n<table border=\"1\" class=\"dataframe\">\n  <thead>\n    <tr style=\"text-align: right;\">\n      <th></th>\n      <th>2011 super output area - middle layer</th>\n      <th>mnemonic</th>\n      <th>1.1 Large employers and higher managerial and administrative occupations</th>\n      <th>1.2 Higher professional occupations</th>\n      <th>2. Lower managerial, administrative and professional occupations</th>\n      <th>3. Intermediate occupations</th>\n      <th>4. Small employers and own account workers</th>\n      <th>5. Lower supervisory and technical occupations</th>\n      <th>6. Semi-routine occupations</th>\n      <th>7. Routine occupations</th>\n      <th>L14.1 Never worked</th>\n      <th>L14.2 Long-term unemployed</th>\n      <th>L15 Full-time students</th>\n      <th>L17 Not classifiable for other reasons</th>\n    </tr>\n  </thead>\n  <tbody>\n    <tr>\n      <th>0</th>\n      <td>Darlington 001</td>\n      <td>E02002559</td>\n      <td>2.00</td>\n      <td>14.00</td>\n      <td>77.00</td>\n      <td>89.00</td>\n      <td>11.00</td>\n      <td>39.00</td>\n      <td>92.00</td>\n      <td>66.00</td>\n      <td>23.00</td>\n      <td>3.00</td>\n      <td>321.00</td>\n      <td>0.00</td>\n    </tr>\n    <tr>\n      <th>1</th>\n      <td>Darlington 002</td>\n      <td>E02002560</td>\n      <td>3.00</td>\n      <td>9.00</td>\n      <td>35.00</td>\n      <td>80.00</td>\n      <td>9.00</td>\n      <td>43.00</td>\n      <td>97.00</td>\n      <td>60.00</td>\n      <td>25.00</td>\n      <td>7.00</td>\n      <td>242.00</td>\n      <td>0.00</td>\n    </tr>\n    <tr>\n      <th>2</th>\n      <td>Darlington 003</td>\n      <td>E02002561</td>\n      <td>2.00</td>\n      <td>7.00</td>\n      <td>55.00</td>\n      <td>70.00</td>\n      <td>5.00</td>\n      <td>37.00</td>\n      <td>77.00</td>\n      <td>39.00</td>\n      <td>26.00</td>\n      <td>5.00</td>\n      <td>217.00</td>\n      <td>0.00</td>\n    </tr>\n    <tr>\n      <th>3</th>\n      <td>Darlington 004</td>\n      <td>E02002562</td>\n      <td>2.00</td>\n      <td>4.00</td>\n      <td>50.00</td>\n      <td>87.00</td>\n      <td>8.00</td>\n      <td>42.00</td>\n      <td>130.00</td>\n      <td>89.00</td>\n      <td>60.00</td>\n      <td>25.00</td>\n      <td>240.00</td>\n      <td>0.00</td>\n    </tr>\n    <tr>\n      <th>4</th>\n      <td>Darlington 005</td>\n      <td>E02002563</td>\n      <td>0.00</td>\n      <td>11.00</td>\n      <td>52.00</td>\n      <td>58.00</td>\n      <td>7.00</td>\n      <td>28.00</td>\n      <td>90.00</td>\n      <td>67.00</td>\n      <td>47.00</td>\n      <td>8.00</td>\n      <td>186.00</td>\n      <td>0.00</td>\n    </tr>\n  </tbody>\n</table>\n</div>"
     },
     "metadata": {},
     "execution_count": 44
    }
   ],
   "source": [
    "df1 = pd.read_csv(\"./data/census/NS_SeC_16_to_24.csv\")\n",
    "df1.head()"
   ]
  }
 ]
}