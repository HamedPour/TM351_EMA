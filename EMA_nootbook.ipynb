{
 "metadata": {
  "language_info": {
   "codemirror_mode": {
    "name": "ipython",
    "version": 3
   },
   "file_extension": ".py",
   "mimetype": "text/x-python",
   "name": "python",
   "nbconvert_exporter": "python",
   "pygments_lexer": "ipython3",
   "version": "3.8.8-final"
  },
  "orig_nbformat": 2,
  "kernelspec": {
   "name": "python388jvsc74a57bd06c313c17cd49812660d49233b46c691bbb6b1e704907687e4545c48258cc969b",
   "display_name": "Python 3.8.8 64-bit ('emsx_3.8.8')"
  },
  "metadata": {
   "interpreter": {
    "hash": "6c313c17cd49812660d49233b46c691bbb6b1e704907687e4545c48258cc969b"
   }
  }
 },
 "nbformat": 4,
 "nbformat_minor": 2,
 "cells": [
  {
   "source": [
    "# Data Cleaning"
   ],
   "cell_type": "markdown",
   "metadata": {}
  },
  {
   "source": [
    "## Indicies of Deprivation 2015 Files"
   ],
   "cell_type": "markdown",
   "metadata": {}
  },
  {
   "source": [
    "### File Refactoring:\n",
    "I removed all empty spaces between the column headings in the \"File_2_ID2015_Domains_of_deprivation.xlsx\" file to make it easier to work with and renamed the file to \"ID2015_Domains_of_deprivation.xlsa\"."
   ],
   "cell_type": "markdown",
   "metadata": {}
  },
  {
   "cell_type": "code",
   "execution_count": 2,
   "metadata": {},
   "outputs": [],
   "source": [
    "import pandas as pd"
   ]
  },
  {
   "cell_type": "code",
   "execution_count": 2,
   "metadata": {},
   "outputs": [],
   "source": [
    "# Load file \"Domains of Deprivation 2015\" into dataframe\n",
    "\n",
    "data = './data/Deprivation_Index/ID2015_Domains_of_deprivation.xlsx'\n",
    "df = pd.read_excel(data, sheet_name='ID2015 Domains')"
   ]
  },
  {
   "cell_type": "code",
   "execution_count": 54,
   "metadata": {},
   "outputs": [
    {
     "output_type": "execute_result",
     "data": {
      "text/plain": [
       "  LSOA_code_2011 LSOA_name_2011 Local_Authority_District_code_2013  \\\n",
       "0      E01031349      Adur 001A                          E07000223   \n",
       "1      E01031350      Adur 001B                          E07000223   \n",
       "2      E01031351      Adur 001C                          E07000223   \n",
       "3      E01031352      Adur 001D                          E07000223   \n",
       "4      E01031370      Adur 001E                          E07000223   \n",
       "5      E01031374      Adur 001F                          E07000223   \n",
       "6      E01031338      Adur 002A                          E07000223   \n",
       "7      E01031339      Adur 002B                          E07000223   \n",
       "8      E01031340      Adur 002C                          E07000223   \n",
       "9      E01031365      Adur 002D                          E07000223   \n",
       "\n",
       "  Local_Authority_District_name_2013  Index_of_Multiple_Deprivation_IMD_Rank  \\\n",
       "0                               Adur                                   21352   \n",
       "1                               Adur                                    8864   \n",
       "2                               Adur                                   22143   \n",
       "3                               Adur                                   17252   \n",
       "4                               Adur                                   15643   \n",
       "5                               Adur                                   21176   \n",
       "6                               Adur                                   27934   \n",
       "7                               Adur                                   28249   \n",
       "8                               Adur                                   27569   \n",
       "9                               Adur                                   18352   \n",
       "\n",
       "   Index_of_Multiple_Deprivation_IMD_Decile  Income_Rank  Income_Decile  \\\n",
       "0                                         7        18992              6   \n",
       "1                                         3         9233              3   \n",
       "2                                         7        24539              8   \n",
       "3                                         6        16087              5   \n",
       "4                                         5        17918              6   \n",
       "5                                         7        23201              8   \n",
       "6                                         9        25105              8   \n",
       "7                                         9        23260              8   \n",
       "8                                         9        30776             10   \n",
       "9                                         6        14577              5   \n",
       "\n",
       "   Employment_Rank  Employment_Decile  Education_Skills_and_Training_Rank  \\\n",
       "0            19305                  6                               13727   \n",
       "1             7879                  3                                6969   \n",
       "2            23389                  8                               10213   \n",
       "3            13699                  5                               10468   \n",
       "4            13322                  5                                7819   \n",
       "5            18948                  6                               18006   \n",
       "6            24672                  8                               23320   \n",
       "7            26753                  9                               28719   \n",
       "8            30033                 10                               18895   \n",
       "9            15724                  5                               20284   \n",
       "\n",
       "   Education_Skills_and_Training_Decile  \\\n",
       "0                                     5   \n",
       "1                                     3   \n",
       "2                                     4   \n",
       "3                                     4   \n",
       "4                                     3   \n",
       "5                                     6   \n",
       "6                                     8   \n",
       "7                                     9   \n",
       "8                                     6   \n",
       "9                                     7   \n",
       "\n",
       "   Health_Deprivation_and_Disability_Rank  \\\n",
       "0                                   25876   \n",
       "1                                    6883   \n",
       "2                                   24693   \n",
       "3                                   19627   \n",
       "4                                   14893   \n",
       "5                                   18846   \n",
       "6                                   19734   \n",
       "7                                   22885   \n",
       "8                                   25426   \n",
       "9                                   16349   \n",
       "\n",
       "   Health_Deprivation_and_Disability_Decile  Crime_Rank  Crime_Decile  \\\n",
       "0                                         8       12817             4   \n",
       "1                                         3       12781             4   \n",
       "2                                         8        9112             3   \n",
       "3                                         6       16127             5   \n",
       "4                                         5       13723             5   \n",
       "5                                         6       14566             5   \n",
       "6                                         7       24708             8   \n",
       "7                                         7       31928            10   \n",
       "8                                         8       11383             4   \n",
       "9                                         5       12413             4   \n",
       "\n",
       "   Barriers_to_Housing_and_Services_Rank  \\\n",
       "0                                  28166   \n",
       "1                                  11399   \n",
       "2                                  24743   \n",
       "3                                  19559   \n",
       "4                                  22433   \n",
       "5                                  22170   \n",
       "6                                  30180   \n",
       "7                                  16896   \n",
       "8                                  21712   \n",
       "9                                  28520   \n",
       "\n",
       "   Barriers_to_Housing_and_Services_Decile  Living_Environment_Rank  \\\n",
       "0                                        9                    18367   \n",
       "1                                        4                    16242   \n",
       "2                                        8                    22299   \n",
       "3                                        6                    22819   \n",
       "4                                        7                    18191   \n",
       "5                                        7                    13264   \n",
       "6                                       10                    22234   \n",
       "7                                        6                    20275   \n",
       "8                                        7                    20427   \n",
       "9                                        9                    16154   \n",
       "\n",
       "   Living_Environment_Decile  \n",
       "0                          6  \n",
       "1                          5  \n",
       "2                          7  \n",
       "3                          7  \n",
       "4                          6  \n",
       "5                          5  \n",
       "6                          7  \n",
       "7                          7  \n",
       "8                          7  \n",
       "9                          5  "
      ],
      "text/html": "<div>\n<style scoped>\n    .dataframe tbody tr th:only-of-type {\n        vertical-align: middle;\n    }\n\n    .dataframe tbody tr th {\n        vertical-align: top;\n    }\n\n    .dataframe thead th {\n        text-align: right;\n    }\n</style>\n<table border=\"1\" class=\"dataframe\">\n  <thead>\n    <tr style=\"text-align: right;\">\n      <th></th>\n      <th>LSOA_code_2011</th>\n      <th>LSOA_name_2011</th>\n      <th>Local_Authority_District_code_2013</th>\n      <th>Local_Authority_District_name_2013</th>\n      <th>Index_of_Multiple_Deprivation_IMD_Rank</th>\n      <th>Index_of_Multiple_Deprivation_IMD_Decile</th>\n      <th>Income_Rank</th>\n      <th>Income_Decile</th>\n      <th>Employment_Rank</th>\n      <th>Employment_Decile</th>\n      <th>Education_Skills_and_Training_Rank</th>\n      <th>Education_Skills_and_Training_Decile</th>\n      <th>Health_Deprivation_and_Disability_Rank</th>\n      <th>Health_Deprivation_and_Disability_Decile</th>\n      <th>Crime_Rank</th>\n      <th>Crime_Decile</th>\n      <th>Barriers_to_Housing_and_Services_Rank</th>\n      <th>Barriers_to_Housing_and_Services_Decile</th>\n      <th>Living_Environment_Rank</th>\n      <th>Living_Environment_Decile</th>\n    </tr>\n  </thead>\n  <tbody>\n    <tr>\n      <th>0</th>\n      <td>E01031349</td>\n      <td>Adur 001A</td>\n      <td>E07000223</td>\n      <td>Adur</td>\n      <td>21352</td>\n      <td>7</td>\n      <td>18992</td>\n      <td>6</td>\n      <td>19305</td>\n      <td>6</td>\n      <td>13727</td>\n      <td>5</td>\n      <td>25876</td>\n      <td>8</td>\n      <td>12817</td>\n      <td>4</td>\n      <td>28166</td>\n      <td>9</td>\n      <td>18367</td>\n      <td>6</td>\n    </tr>\n    <tr>\n      <th>1</th>\n      <td>E01031350</td>\n      <td>Adur 001B</td>\n      <td>E07000223</td>\n      <td>Adur</td>\n      <td>8864</td>\n      <td>3</td>\n      <td>9233</td>\n      <td>3</td>\n      <td>7879</td>\n      <td>3</td>\n      <td>6969</td>\n      <td>3</td>\n      <td>6883</td>\n      <td>3</td>\n      <td>12781</td>\n      <td>4</td>\n      <td>11399</td>\n      <td>4</td>\n      <td>16242</td>\n      <td>5</td>\n    </tr>\n    <tr>\n      <th>2</th>\n      <td>E01031351</td>\n      <td>Adur 001C</td>\n      <td>E07000223</td>\n      <td>Adur</td>\n      <td>22143</td>\n      <td>7</td>\n      <td>24539</td>\n      <td>8</td>\n      <td>23389</td>\n      <td>8</td>\n      <td>10213</td>\n      <td>4</td>\n      <td>24693</td>\n      <td>8</td>\n      <td>9112</td>\n      <td>3</td>\n      <td>24743</td>\n      <td>8</td>\n      <td>22299</td>\n      <td>7</td>\n    </tr>\n    <tr>\n      <th>3</th>\n      <td>E01031352</td>\n      <td>Adur 001D</td>\n      <td>E07000223</td>\n      <td>Adur</td>\n      <td>17252</td>\n      <td>6</td>\n      <td>16087</td>\n      <td>5</td>\n      <td>13699</td>\n      <td>5</td>\n      <td>10468</td>\n      <td>4</td>\n      <td>19627</td>\n      <td>6</td>\n      <td>16127</td>\n      <td>5</td>\n      <td>19559</td>\n      <td>6</td>\n      <td>22819</td>\n      <td>7</td>\n    </tr>\n    <tr>\n      <th>4</th>\n      <td>E01031370</td>\n      <td>Adur 001E</td>\n      <td>E07000223</td>\n      <td>Adur</td>\n      <td>15643</td>\n      <td>5</td>\n      <td>17918</td>\n      <td>6</td>\n      <td>13322</td>\n      <td>5</td>\n      <td>7819</td>\n      <td>3</td>\n      <td>14893</td>\n      <td>5</td>\n      <td>13723</td>\n      <td>5</td>\n      <td>22433</td>\n      <td>7</td>\n      <td>18191</td>\n      <td>6</td>\n    </tr>\n    <tr>\n      <th>5</th>\n      <td>E01031374</td>\n      <td>Adur 001F</td>\n      <td>E07000223</td>\n      <td>Adur</td>\n      <td>21176</td>\n      <td>7</td>\n      <td>23201</td>\n      <td>8</td>\n      <td>18948</td>\n      <td>6</td>\n      <td>18006</td>\n      <td>6</td>\n      <td>18846</td>\n      <td>6</td>\n      <td>14566</td>\n      <td>5</td>\n      <td>22170</td>\n      <td>7</td>\n      <td>13264</td>\n      <td>5</td>\n    </tr>\n    <tr>\n      <th>6</th>\n      <td>E01031338</td>\n      <td>Adur 002A</td>\n      <td>E07000223</td>\n      <td>Adur</td>\n      <td>27934</td>\n      <td>9</td>\n      <td>25105</td>\n      <td>8</td>\n      <td>24672</td>\n      <td>8</td>\n      <td>23320</td>\n      <td>8</td>\n      <td>19734</td>\n      <td>7</td>\n      <td>24708</td>\n      <td>8</td>\n      <td>30180</td>\n      <td>10</td>\n      <td>22234</td>\n      <td>7</td>\n    </tr>\n    <tr>\n      <th>7</th>\n      <td>E01031339</td>\n      <td>Adur 002B</td>\n      <td>E07000223</td>\n      <td>Adur</td>\n      <td>28249</td>\n      <td>9</td>\n      <td>23260</td>\n      <td>8</td>\n      <td>26753</td>\n      <td>9</td>\n      <td>28719</td>\n      <td>9</td>\n      <td>22885</td>\n      <td>7</td>\n      <td>31928</td>\n      <td>10</td>\n      <td>16896</td>\n      <td>6</td>\n      <td>20275</td>\n      <td>7</td>\n    </tr>\n    <tr>\n      <th>8</th>\n      <td>E01031340</td>\n      <td>Adur 002C</td>\n      <td>E07000223</td>\n      <td>Adur</td>\n      <td>27569</td>\n      <td>9</td>\n      <td>30776</td>\n      <td>10</td>\n      <td>30033</td>\n      <td>10</td>\n      <td>18895</td>\n      <td>6</td>\n      <td>25426</td>\n      <td>8</td>\n      <td>11383</td>\n      <td>4</td>\n      <td>21712</td>\n      <td>7</td>\n      <td>20427</td>\n      <td>7</td>\n    </tr>\n    <tr>\n      <th>9</th>\n      <td>E01031365</td>\n      <td>Adur 002D</td>\n      <td>E07000223</td>\n      <td>Adur</td>\n      <td>18352</td>\n      <td>6</td>\n      <td>14577</td>\n      <td>5</td>\n      <td>15724</td>\n      <td>5</td>\n      <td>20284</td>\n      <td>7</td>\n      <td>16349</td>\n      <td>5</td>\n      <td>12413</td>\n      <td>4</td>\n      <td>28520</td>\n      <td>9</td>\n      <td>16154</td>\n      <td>5</td>\n    </tr>\n  </tbody>\n</table>\n</div>"
     },
     "metadata": {},
     "execution_count": 54
    }
   ],
   "source": [
    "df.head(10)"
   ]
  },
  {
   "cell_type": "code",
   "execution_count": 8,
   "metadata": {},
   "outputs": [
    {
     "output_type": "execute_result",
     "data": {
      "text/plain": [
       "['LSOA_code_2011',\n",
       " 'LSOA_name_2011',\n",
       " 'Local_Authority_District_code_2013',\n",
       " 'Local_Authority_District_name_2013',\n",
       " 'Index_of_Multiple_Deprivation_IMD_Rank',\n",
       " 'Index_of_Multiple_Deprivation_IMD_Decile',\n",
       " 'Income_Rank',\n",
       " 'Income_Decile',\n",
       " 'Employment_Rank',\n",
       " 'Employment_Decile',\n",
       " 'Education_Skills_and_Training_Rank',\n",
       " 'Education_Skills_and_Training_Decile',\n",
       " 'Health_Deprivation_and_Disability_Rank',\n",
       " 'Health_Deprivation_and_Disability_Decile',\n",
       " 'Crime_Rank',\n",
       " 'Crime_Decile',\n",
       " 'Barriers_to_Housing_and_Services_Rank',\n",
       " 'Barriers_to_Housing_and_Services_Decile',\n",
       " 'Living_Environment_Rank',\n",
       " 'Living_Environment_Decile']"
      ]
     },
     "metadata": {},
     "execution_count": 8
    }
   ],
   "source": [
    "list(df.columns)"
   ]
  },
  {
   "cell_type": "code",
   "execution_count": 9,
   "metadata": {},
   "outputs": [
    {
     "output_type": "stream",
     "name": "stdout",
     "text": [
      "<class 'pandas.core.frame.DataFrame'>\nRangeIndex: 32844 entries, 0 to 32843\nData columns (total 20 columns):\n #   Column                                    Non-Null Count  Dtype \n---  ------                                    --------------  ----- \n 0   LSOA_code_2011                            32844 non-null  object\n 1   LSOA_name_2011                            32844 non-null  object\n 2   Local_Authority_District_code_2013        32844 non-null  object\n 3   Local_Authority_District_name_2013        32844 non-null  object\n 4   Index_of_Multiple_Deprivation_IMD_Rank    32844 non-null  int64 \n 5   Index_of_Multiple_Deprivation_IMD_Decile  32844 non-null  int64 \n 6   Income_Rank                               32844 non-null  int64 \n 7   Income_Decile                             32844 non-null  int64 \n 8   Employment_Rank                           32844 non-null  int64 \n 9   Employment_Decile                         32844 non-null  int64 \n 10  Education_Skills_and_Training_Rank        32844 non-null  int64 \n 11  Education_Skills_and_Training_Decile      32844 non-null  int64 \n 12  Health_Deprivation_and_Disability_Rank    32844 non-null  int64 \n 13  Health_Deprivation_and_Disability_Decile  32844 non-null  int64 \n 14  Crime_Rank                                32844 non-null  int64 \n 15  Crime_Decile                              32844 non-null  int64 \n 16  Barriers_to_Housing_and_Services_Rank     32844 non-null  int64 \n 17  Barriers_to_Housing_and_Services_Decile   32844 non-null  int64 \n 18  Living_Environment_Rank                   32844 non-null  int64 \n 19  Living_Environment_Decile                 32844 non-null  int64 \ndtypes: int64(16), object(4)\nmemory usage: 5.0+ MB\n"
     ]
    }
   ],
   "source": [
    "# Tell me more about the dataset\n",
    "df_info = df.info()"
   ]
  },
  {
   "cell_type": "code",
   "execution_count": 48,
   "metadata": {},
   "outputs": [
    {
     "output_type": "execute_result",
     "data": {
      "text/plain": [
       "       Index_of_Multiple_Deprivation_IMD_Rank  \\\n",
       "count                            32844.000000   \n",
       "mean                             16422.499391   \n",
       "std                               9481.390618   \n",
       "min                                  1.000000   \n",
       "25%                               8211.750000   \n",
       "50%                              16422.500000   \n",
       "75%                              24633.250000   \n",
       "max                              32844.000000   \n",
       "\n",
       "       Index_of_Multiple_Deprivation_IMD_Decile   Income_Rank  Income_Decile  \\\n",
       "count                              32844.000000  32844.000000   32844.000000   \n",
       "mean                                   5.500122  16422.498660       5.500122   \n",
       "std                                    2.872325   9481.390331       2.872325   \n",
       "min                                    1.000000      1.000000       1.000000   \n",
       "25%                                    3.000000   8211.750000       3.000000   \n",
       "50%                                    5.500000  16422.500000       5.500000   \n",
       "75%                                    8.000000  24633.250000       8.000000   \n",
       "max                                   10.000000  32844.000000      10.000000   \n",
       "\n",
       "       Employment_Rank  Employment_Decile  Education_Skills_and_Training_Rank  \\\n",
       "count     32844.000000       32844.000000                        32844.000000   \n",
       "mean      16422.498873           5.500122                        16422.499330   \n",
       "std        9481.390246           2.872325                         9481.390748   \n",
       "min           1.000000           1.000000                            1.000000   \n",
       "25%        8211.750000           3.000000                         8211.750000   \n",
       "50%       16422.500000           5.500000                        16422.500000   \n",
       "75%       24633.250000           8.000000                        24633.250000   \n",
       "max       32844.000000          10.000000                        32844.000000   \n",
       "\n",
       "       Education_Skills_and_Training_Decile  \\\n",
       "count                          32844.000000   \n",
       "mean                               5.500122   \n",
       "std                                2.872325   \n",
       "min                                1.000000   \n",
       "25%                                3.000000   \n",
       "50%                                5.500000   \n",
       "75%                                8.000000   \n",
       "max                               10.000000   \n",
       "\n",
       "       Health_Deprivation_and_Disability_Rank  \\\n",
       "count                            32844.000000   \n",
       "mean                             16422.499726   \n",
       "std                               9481.390467   \n",
       "min                                  1.000000   \n",
       "25%                               8211.750000   \n",
       "50%                              16422.500000   \n",
       "75%                              24633.250000   \n",
       "max                              32844.000000   \n",
       "\n",
       "       Health_Deprivation_and_Disability_Decile    Crime_Rank  Crime_Decile  \\\n",
       "count                              32844.000000  32844.000000  32844.000000   \n",
       "mean                                   5.500122  16422.499635      5.500122   \n",
       "std                                    2.872325   9481.390606      2.872325   \n",
       "min                                    1.000000      1.000000      1.000000   \n",
       "25%                                    3.000000   8211.750000      3.000000   \n",
       "50%                                    5.500000  16422.500000      5.500000   \n",
       "75%                                    8.000000  24633.250000      8.000000   \n",
       "max                                   10.000000  32844.000000     10.000000   \n",
       "\n",
       "       Barriers_to_Housing_and_Services_Rank  \\\n",
       "count                           32844.000000   \n",
       "mean                            16422.499208   \n",
       "std                              9481.390574   \n",
       "min                                 1.000000   \n",
       "25%                              8211.750000   \n",
       "50%                             16422.500000   \n",
       "75%                             24633.250000   \n",
       "max                             32844.000000   \n",
       "\n",
       "       Barriers_to_Housing_and_Services_Decile  Living_Environment_Rank  \\\n",
       "count                             32844.000000             32844.000000   \n",
       "mean                                  5.500122             16422.499574   \n",
       "std                                   2.872325              9481.390570   \n",
       "min                                   1.000000                 1.000000   \n",
       "25%                                   3.000000              8211.750000   \n",
       "50%                                   5.500000             16422.500000   \n",
       "75%                                   8.000000             24633.250000   \n",
       "max                                  10.000000             32844.000000   \n",
       "\n",
       "       Living_Environment_Decile  \n",
       "count               32844.000000  \n",
       "mean                    5.500122  \n",
       "std                     2.872325  \n",
       "min                     1.000000  \n",
       "25%                     3.000000  \n",
       "50%                     5.500000  \n",
       "75%                     8.000000  \n",
       "max                    10.000000  "
      ],
      "text/html": "<div>\n<style scoped>\n    .dataframe tbody tr th:only-of-type {\n        vertical-align: middle;\n    }\n\n    .dataframe tbody tr th {\n        vertical-align: top;\n    }\n\n    .dataframe thead th {\n        text-align: right;\n    }\n</style>\n<table border=\"1\" class=\"dataframe\">\n  <thead>\n    <tr style=\"text-align: right;\">\n      <th></th>\n      <th>Index_of_Multiple_Deprivation_IMD_Rank</th>\n      <th>Index_of_Multiple_Deprivation_IMD_Decile</th>\n      <th>Income_Rank</th>\n      <th>Income_Decile</th>\n      <th>Employment_Rank</th>\n      <th>Employment_Decile</th>\n      <th>Education_Skills_and_Training_Rank</th>\n      <th>Education_Skills_and_Training_Decile</th>\n      <th>Health_Deprivation_and_Disability_Rank</th>\n      <th>Health_Deprivation_and_Disability_Decile</th>\n      <th>Crime_Rank</th>\n      <th>Crime_Decile</th>\n      <th>Barriers_to_Housing_and_Services_Rank</th>\n      <th>Barriers_to_Housing_and_Services_Decile</th>\n      <th>Living_Environment_Rank</th>\n      <th>Living_Environment_Decile</th>\n    </tr>\n  </thead>\n  <tbody>\n    <tr>\n      <th>count</th>\n      <td>32844.000000</td>\n      <td>32844.000000</td>\n      <td>32844.000000</td>\n      <td>32844.000000</td>\n      <td>32844.000000</td>\n      <td>32844.000000</td>\n      <td>32844.000000</td>\n      <td>32844.000000</td>\n      <td>32844.000000</td>\n      <td>32844.000000</td>\n      <td>32844.000000</td>\n      <td>32844.000000</td>\n      <td>32844.000000</td>\n      <td>32844.000000</td>\n      <td>32844.000000</td>\n      <td>32844.000000</td>\n    </tr>\n    <tr>\n      <th>mean</th>\n      <td>16422.499391</td>\n      <td>5.500122</td>\n      <td>16422.498660</td>\n      <td>5.500122</td>\n      <td>16422.498873</td>\n      <td>5.500122</td>\n      <td>16422.499330</td>\n      <td>5.500122</td>\n      <td>16422.499726</td>\n      <td>5.500122</td>\n      <td>16422.499635</td>\n      <td>5.500122</td>\n      <td>16422.499208</td>\n      <td>5.500122</td>\n      <td>16422.499574</td>\n      <td>5.500122</td>\n    </tr>\n    <tr>\n      <th>std</th>\n      <td>9481.390618</td>\n      <td>2.872325</td>\n      <td>9481.390331</td>\n      <td>2.872325</td>\n      <td>9481.390246</td>\n      <td>2.872325</td>\n      <td>9481.390748</td>\n      <td>2.872325</td>\n      <td>9481.390467</td>\n      <td>2.872325</td>\n      <td>9481.390606</td>\n      <td>2.872325</td>\n      <td>9481.390574</td>\n      <td>2.872325</td>\n      <td>9481.390570</td>\n      <td>2.872325</td>\n    </tr>\n    <tr>\n      <th>min</th>\n      <td>1.000000</td>\n      <td>1.000000</td>\n      <td>1.000000</td>\n      <td>1.000000</td>\n      <td>1.000000</td>\n      <td>1.000000</td>\n      <td>1.000000</td>\n      <td>1.000000</td>\n      <td>1.000000</td>\n      <td>1.000000</td>\n      <td>1.000000</td>\n      <td>1.000000</td>\n      <td>1.000000</td>\n      <td>1.000000</td>\n      <td>1.000000</td>\n      <td>1.000000</td>\n    </tr>\n    <tr>\n      <th>25%</th>\n      <td>8211.750000</td>\n      <td>3.000000</td>\n      <td>8211.750000</td>\n      <td>3.000000</td>\n      <td>8211.750000</td>\n      <td>3.000000</td>\n      <td>8211.750000</td>\n      <td>3.000000</td>\n      <td>8211.750000</td>\n      <td>3.000000</td>\n      <td>8211.750000</td>\n      <td>3.000000</td>\n      <td>8211.750000</td>\n      <td>3.000000</td>\n      <td>8211.750000</td>\n      <td>3.000000</td>\n    </tr>\n    <tr>\n      <th>50%</th>\n      <td>16422.500000</td>\n      <td>5.500000</td>\n      <td>16422.500000</td>\n      <td>5.500000</td>\n      <td>16422.500000</td>\n      <td>5.500000</td>\n      <td>16422.500000</td>\n      <td>5.500000</td>\n      <td>16422.500000</td>\n      <td>5.500000</td>\n      <td>16422.500000</td>\n      <td>5.500000</td>\n      <td>16422.500000</td>\n      <td>5.500000</td>\n      <td>16422.500000</td>\n      <td>5.500000</td>\n    </tr>\n    <tr>\n      <th>75%</th>\n      <td>24633.250000</td>\n      <td>8.000000</td>\n      <td>24633.250000</td>\n      <td>8.000000</td>\n      <td>24633.250000</td>\n      <td>8.000000</td>\n      <td>24633.250000</td>\n      <td>8.000000</td>\n      <td>24633.250000</td>\n      <td>8.000000</td>\n      <td>24633.250000</td>\n      <td>8.000000</td>\n      <td>24633.250000</td>\n      <td>8.000000</td>\n      <td>24633.250000</td>\n      <td>8.000000</td>\n    </tr>\n    <tr>\n      <th>max</th>\n      <td>32844.000000</td>\n      <td>10.000000</td>\n      <td>32844.000000</td>\n      <td>10.000000</td>\n      <td>32844.000000</td>\n      <td>10.000000</td>\n      <td>32844.000000</td>\n      <td>10.000000</td>\n      <td>32844.000000</td>\n      <td>10.000000</td>\n      <td>32844.000000</td>\n      <td>10.000000</td>\n      <td>32844.000000</td>\n      <td>10.000000</td>\n      <td>32844.000000</td>\n      <td>10.000000</td>\n    </tr>\n  </tbody>\n</table>\n</div>"
     },
     "metadata": {},
     "execution_count": 48
    }
   ],
   "source": [
    "# Descibe the dataset please\n",
    "#pd.options.display.float_format = '{:,.2f}'.format # Only want to see 2 decimal places\n",
    "df.describe()"
   ]
  },
  {
   "cell_type": "code",
   "execution_count": 49,
   "metadata": {},
   "outputs": [
    {
     "output_type": "execute_result",
     "data": {
      "text/plain": [
       "     LSOA_code_2011  LSOA_name_2011 Local_Authority_District_code_2013  \\\n",
       "2598      E01012673  Blackpool 010A                          E06000009   \n",
       "\n",
       "     Local_Authority_District_name_2013  \\\n",
       "2598                          Blackpool   \n",
       "\n",
       "      Index_of_Multiple_Deprivation_IMD_Rank  \\\n",
       "2598                                       2   \n",
       "\n",
       "      Index_of_Multiple_Deprivation_IMD_Decile  Income_Rank  Income_Decile  \\\n",
       "2598                                         1            1              1   \n",
       "\n",
       "      Employment_Rank  Employment_Decile  Education_Skills_and_Training_Rank  \\\n",
       "2598               10                  1                                  47   \n",
       "\n",
       "      Education_Skills_and_Training_Decile  \\\n",
       "2598                                     1   \n",
       "\n",
       "      Health_Deprivation_and_Disability_Rank  \\\n",
       "2598                                      12   \n",
       "\n",
       "      Health_Deprivation_and_Disability_Decile  Crime_Rank  Crime_Decile  \\\n",
       "2598                                         1          10             1   \n",
       "\n",
       "      Barriers_to_Housing_and_Services_Rank  \\\n",
       "2598                                  24093   \n",
       "\n",
       "      Barriers_to_Housing_and_Services_Decile  Living_Environment_Rank  \\\n",
       "2598                                        8                      766   \n",
       "\n",
       "      Living_Environment_Decile  \n",
       "2598                          1  "
      ],
      "text/html": "<div>\n<style scoped>\n    .dataframe tbody tr th:only-of-type {\n        vertical-align: middle;\n    }\n\n    .dataframe tbody tr th {\n        vertical-align: top;\n    }\n\n    .dataframe thead th {\n        text-align: right;\n    }\n</style>\n<table border=\"1\" class=\"dataframe\">\n  <thead>\n    <tr style=\"text-align: right;\">\n      <th></th>\n      <th>LSOA_code_2011</th>\n      <th>LSOA_name_2011</th>\n      <th>Local_Authority_District_code_2013</th>\n      <th>Local_Authority_District_name_2013</th>\n      <th>Index_of_Multiple_Deprivation_IMD_Rank</th>\n      <th>Index_of_Multiple_Deprivation_IMD_Decile</th>\n      <th>Income_Rank</th>\n      <th>Income_Decile</th>\n      <th>Employment_Rank</th>\n      <th>Employment_Decile</th>\n      <th>Education_Skills_and_Training_Rank</th>\n      <th>Education_Skills_and_Training_Decile</th>\n      <th>Health_Deprivation_and_Disability_Rank</th>\n      <th>Health_Deprivation_and_Disability_Decile</th>\n      <th>Crime_Rank</th>\n      <th>Crime_Decile</th>\n      <th>Barriers_to_Housing_and_Services_Rank</th>\n      <th>Barriers_to_Housing_and_Services_Decile</th>\n      <th>Living_Environment_Rank</th>\n      <th>Living_Environment_Decile</th>\n    </tr>\n  </thead>\n  <tbody>\n    <tr>\n      <th>2598</th>\n      <td>E01012673</td>\n      <td>Blackpool 010A</td>\n      <td>E06000009</td>\n      <td>Blackpool</td>\n      <td>2</td>\n      <td>1</td>\n      <td>1</td>\n      <td>1</td>\n      <td>10</td>\n      <td>1</td>\n      <td>47</td>\n      <td>1</td>\n      <td>12</td>\n      <td>1</td>\n      <td>10</td>\n      <td>1</td>\n      <td>24093</td>\n      <td>8</td>\n      <td>766</td>\n      <td>1</td>\n    </tr>\n  </tbody>\n</table>\n</div>"
     },
     "metadata": {},
     "execution_count": 49
    }
   ],
   "source": [
    "# Who has the worst income in England?\n",
    "df[df['Income_Rank'] == 1]"
   ]
  },
  {
   "source": [
    "## Census data\n"
   ],
   "cell_type": "markdown",
   "metadata": {}
  },
  {
   "source": [
    "### File Refactoring\n",
    "File 85043238.csv : The file meta data was removed. All empty spaces in the heading row was replaced with underscore.  The file name was changed to \"NS_SeC_16_to_24.csv\"\n",
    "\n",
    "File 87985007.csv : The file meta data was removed. All empty spaces in the heading row was replaced with underscore. The file name was changed to \"NS_SeC_25_to_49.csv\"\n",
    "\n",
    "File 91695374.csv : The file meta data was removed. All empty spaces in the heading row was replaced with underscore. The file name was changed to \"NS_SeC_50_to_64.csv\"\n",
    "\n",
    "File 93917134.csv : The file meta data was removed. All empty spaces in the heading row was replaced with underscore. The file name was changed to \"NS_SeC_65_to_over.csv\"\n",
    "\n",
    "In all four files the heading \"2011 super output area - middle layer\" was changed to MSOA_2011 and the heading \"mnemonic\" was changed to MSOA_code_2011. The empty row after the heading row was also removed."
   ],
   "cell_type": "markdown",
   "metadata": {}
  },
  {
   "cell_type": "code",
   "execution_count": 7,
   "metadata": {},
   "outputs": [
    {
     "output_type": "execute_result",
     "data": {
      "text/plain": [
       "        MSOA_2011 MSOA_code_2011  \\\n",
       "0  Darlington 001      E02002559   \n",
       "1  Darlington 002      E02002560   \n",
       "2  Darlington 003      E02002561   \n",
       "\n",
       "   1.1_Large_employers_and_higher_managerial_and_administrative_occupations  \\\n",
       "0                                                  2                          \n",
       "1                                                  3                          \n",
       "2                                                  2                          \n",
       "\n",
       "   1.2_Higher_professional_occupations  \\\n",
       "0                                   14   \n",
       "1                                    9   \n",
       "2                                    7   \n",
       "\n",
       "   2._Lower_managerial,_administrative_and_professional_occupations  \\\n",
       "0                                                 77                  \n",
       "1                                                 35                  \n",
       "2                                                 55                  \n",
       "\n",
       "   3._Intermediate_occupations  4._Small_employers_and_own_account_workers  \\\n",
       "0                           89                                          11   \n",
       "1                           80                                           9   \n",
       "2                           70                                           5   \n",
       "\n",
       "   5._Lower_supervisory_and_technical_occupations  \\\n",
       "0                                              39   \n",
       "1                                              43   \n",
       "2                                              37   \n",
       "\n",
       "   6._Semi-routine_occupations  7._Routine_occupations  L14.1_Never_worked  \\\n",
       "0                           92                      66                  23   \n",
       "1                           97                      60                  25   \n",
       "2                           77                      39                  26   \n",
       "\n",
       "   L14.2_Long-term_unemployed  L15_Full-time_students  \\\n",
       "0                           3                     321   \n",
       "1                           7                     242   \n",
       "2                           5                     217   \n",
       "\n",
       "   L17_Not_classifiable_for_other_reasons  \n",
       "0                                       0  \n",
       "1                                       0  \n",
       "2                                       0  "
      ],
      "text/html": "<div>\n<style scoped>\n    .dataframe tbody tr th:only-of-type {\n        vertical-align: middle;\n    }\n\n    .dataframe tbody tr th {\n        vertical-align: top;\n    }\n\n    .dataframe thead th {\n        text-align: right;\n    }\n</style>\n<table border=\"1\" class=\"dataframe\">\n  <thead>\n    <tr style=\"text-align: right;\">\n      <th></th>\n      <th>MSOA_2011</th>\n      <th>MSOA_code_2011</th>\n      <th>1.1_Large_employers_and_higher_managerial_and_administrative_occupations</th>\n      <th>1.2_Higher_professional_occupations</th>\n      <th>2._Lower_managerial,_administrative_and_professional_occupations</th>\n      <th>3._Intermediate_occupations</th>\n      <th>4._Small_employers_and_own_account_workers</th>\n      <th>5._Lower_supervisory_and_technical_occupations</th>\n      <th>6._Semi-routine_occupations</th>\n      <th>7._Routine_occupations</th>\n      <th>L14.1_Never_worked</th>\n      <th>L14.2_Long-term_unemployed</th>\n      <th>L15_Full-time_students</th>\n      <th>L17_Not_classifiable_for_other_reasons</th>\n    </tr>\n  </thead>\n  <tbody>\n    <tr>\n      <th>0</th>\n      <td>Darlington 001</td>\n      <td>E02002559</td>\n      <td>2</td>\n      <td>14</td>\n      <td>77</td>\n      <td>89</td>\n      <td>11</td>\n      <td>39</td>\n      <td>92</td>\n      <td>66</td>\n      <td>23</td>\n      <td>3</td>\n      <td>321</td>\n      <td>0</td>\n    </tr>\n    <tr>\n      <th>1</th>\n      <td>Darlington 002</td>\n      <td>E02002560</td>\n      <td>3</td>\n      <td>9</td>\n      <td>35</td>\n      <td>80</td>\n      <td>9</td>\n      <td>43</td>\n      <td>97</td>\n      <td>60</td>\n      <td>25</td>\n      <td>7</td>\n      <td>242</td>\n      <td>0</td>\n    </tr>\n    <tr>\n      <th>2</th>\n      <td>Darlington 003</td>\n      <td>E02002561</td>\n      <td>2</td>\n      <td>7</td>\n      <td>55</td>\n      <td>70</td>\n      <td>5</td>\n      <td>37</td>\n      <td>77</td>\n      <td>39</td>\n      <td>26</td>\n      <td>5</td>\n      <td>217</td>\n      <td>0</td>\n    </tr>\n  </tbody>\n</table>\n</div>"
     },
     "metadata": {},
     "execution_count": 7
    }
   ],
   "source": [
    "# Lets test to see if all our df are working fine.\n",
    "df1 = pd.read_csv(\"./data/census/NS_SeC_16_to_24.csv\")\n",
    "df1.head(3)"
   ]
  },
  {
   "cell_type": "code",
   "execution_count": 8,
   "metadata": {},
   "outputs": [
    {
     "output_type": "execute_result",
     "data": {
      "text/plain": [
       "        MSOA_2011 MSOA_code_2011  \\\n",
       "0  Darlington 001      E02002559   \n",
       "1  Darlington 002      E02002560   \n",
       "2  Darlington 003      E02002561   \n",
       "\n",
       "   1.1_Large_employers_and_higher_managerial_and_administrative_occupations  \\\n",
       "0                                                145                          \n",
       "1                                                 52                          \n",
       "2                                                 37                          \n",
       "\n",
       "   1.2_Higher_professional_occupations  \\\n",
       "0                                  408   \n",
       "1                                  142   \n",
       "2                                  143   \n",
       "\n",
       "   2._Lower_managerial,_administrative_and_professional_occupations  \\\n",
       "0                                               1112                  \n",
       "1                                                531                  \n",
       "2                                                481                  \n",
       "\n",
       "   3._Intermediate_occupations  4._Small_employers_and_own_account_workers  \\\n",
       "0                          492                                         308   \n",
       "1                          407                                         176   \n",
       "2                          335                                         121   \n",
       "\n",
       "   5._Lower_supervisory_and_technical_occupations  \\\n",
       "0                                             217   \n",
       "1                                             185   \n",
       "2                                             134   \n",
       "\n",
       "   6._Semi-routine_occupations  7._Routine_occupations  L14.1_Never_worked  \\\n",
       "0                          285                     167                  34   \n",
       "1                          310                     220                  38   \n",
       "2                          272                     200                  35   \n",
       "\n",
       "   L14.2_Long-term_unemployed  L15_Full-time_students  \\\n",
       "0                          40                      32   \n",
       "1                          45                      27   \n",
       "2                          33                      19   \n",
       "\n",
       "   L17_Not_classifiable_for_other_reasons  \n",
       "0                                       0  \n",
       "1                                       0  \n",
       "2                                       0  "
      ],
      "text/html": "<div>\n<style scoped>\n    .dataframe tbody tr th:only-of-type {\n        vertical-align: middle;\n    }\n\n    .dataframe tbody tr th {\n        vertical-align: top;\n    }\n\n    .dataframe thead th {\n        text-align: right;\n    }\n</style>\n<table border=\"1\" class=\"dataframe\">\n  <thead>\n    <tr style=\"text-align: right;\">\n      <th></th>\n      <th>MSOA_2011</th>\n      <th>MSOA_code_2011</th>\n      <th>1.1_Large_employers_and_higher_managerial_and_administrative_occupations</th>\n      <th>1.2_Higher_professional_occupations</th>\n      <th>2._Lower_managerial,_administrative_and_professional_occupations</th>\n      <th>3._Intermediate_occupations</th>\n      <th>4._Small_employers_and_own_account_workers</th>\n      <th>5._Lower_supervisory_and_technical_occupations</th>\n      <th>6._Semi-routine_occupations</th>\n      <th>7._Routine_occupations</th>\n      <th>L14.1_Never_worked</th>\n      <th>L14.2_Long-term_unemployed</th>\n      <th>L15_Full-time_students</th>\n      <th>L17_Not_classifiable_for_other_reasons</th>\n    </tr>\n  </thead>\n  <tbody>\n    <tr>\n      <th>0</th>\n      <td>Darlington 001</td>\n      <td>E02002559</td>\n      <td>145</td>\n      <td>408</td>\n      <td>1112</td>\n      <td>492</td>\n      <td>308</td>\n      <td>217</td>\n      <td>285</td>\n      <td>167</td>\n      <td>34</td>\n      <td>40</td>\n      <td>32</td>\n      <td>0</td>\n    </tr>\n    <tr>\n      <th>1</th>\n      <td>Darlington 002</td>\n      <td>E02002560</td>\n      <td>52</td>\n      <td>142</td>\n      <td>531</td>\n      <td>407</td>\n      <td>176</td>\n      <td>185</td>\n      <td>310</td>\n      <td>220</td>\n      <td>38</td>\n      <td>45</td>\n      <td>27</td>\n      <td>0</td>\n    </tr>\n    <tr>\n      <th>2</th>\n      <td>Darlington 003</td>\n      <td>E02002561</td>\n      <td>37</td>\n      <td>143</td>\n      <td>481</td>\n      <td>335</td>\n      <td>121</td>\n      <td>134</td>\n      <td>272</td>\n      <td>200</td>\n      <td>35</td>\n      <td>33</td>\n      <td>19</td>\n      <td>0</td>\n    </tr>\n  </tbody>\n</table>\n</div>"
     },
     "metadata": {},
     "execution_count": 8
    }
   ],
   "source": [
    "df2 = pd.read_csv(\"./data/census/NS_SeC_25_to_49.csv\")\n",
    "df2.head(3)"
   ]
  },
  {
   "cell_type": "code",
   "execution_count": 10,
   "metadata": {},
   "outputs": [
    {
     "output_type": "execute_result",
     "data": {
      "text/plain": [
       "        MSOA_2011 MSOA_code_2011  \\\n",
       "0  Darlington 001      E02002559   \n",
       "1  Darlington 002      E02002560   \n",
       "2  Darlington 003      E02002561   \n",
       "\n",
       "   1.1_Large_employers_and_higher_managerial_and_administrative_occupations  \\\n",
       "0                                                 75                          \n",
       "1                                                 28                          \n",
       "2                                                 55                          \n",
       "\n",
       "   1.2_Higher_professional_occupations  \\\n",
       "0                                  179   \n",
       "1                                   42   \n",
       "2                                   81   \n",
       "\n",
       "   2._Lower_managerial,_administrative_and_professional_occupations  \\\n",
       "0                                                503                  \n",
       "1                                                212                  \n",
       "2                                                327                  \n",
       "\n",
       "   3._Intermediate_occupations  4._Small_employers_and_own_account_workers  \\\n",
       "0                          240                                         281   \n",
       "1                          179                                         124   \n",
       "2                          266                                         116   \n",
       "\n",
       "   5._Lower_supervisory_and_technical_occupations  \\\n",
       "0                                              99   \n",
       "1                                              95   \n",
       "2                                             122   \n",
       "\n",
       "   6._Semi-routine_occupations  7._Routine_occupations  L14.1_Never_worked  \\\n",
       "0                          180                     134                  14   \n",
       "1                          244                     189                  11   \n",
       "2                          264                     186                   8   \n",
       "\n",
       "   L14.2_Long-term_unemployed  L15_Full-time_students  \\\n",
       "0                          18                       3   \n",
       "1                          16                       5   \n",
       "2                          23                       3   \n",
       "\n",
       "   L17_Not_classifiable_for_other_reasons  \n",
       "0                                       0  \n",
       "1                                       0  \n",
       "2                                       0  "
      ],
      "text/html": "<div>\n<style scoped>\n    .dataframe tbody tr th:only-of-type {\n        vertical-align: middle;\n    }\n\n    .dataframe tbody tr th {\n        vertical-align: top;\n    }\n\n    .dataframe thead th {\n        text-align: right;\n    }\n</style>\n<table border=\"1\" class=\"dataframe\">\n  <thead>\n    <tr style=\"text-align: right;\">\n      <th></th>\n      <th>MSOA_2011</th>\n      <th>MSOA_code_2011</th>\n      <th>1.1_Large_employers_and_higher_managerial_and_administrative_occupations</th>\n      <th>1.2_Higher_professional_occupations</th>\n      <th>2._Lower_managerial,_administrative_and_professional_occupations</th>\n      <th>3._Intermediate_occupations</th>\n      <th>4._Small_employers_and_own_account_workers</th>\n      <th>5._Lower_supervisory_and_technical_occupations</th>\n      <th>6._Semi-routine_occupations</th>\n      <th>7._Routine_occupations</th>\n      <th>L14.1_Never_worked</th>\n      <th>L14.2_Long-term_unemployed</th>\n      <th>L15_Full-time_students</th>\n      <th>L17_Not_classifiable_for_other_reasons</th>\n    </tr>\n  </thead>\n  <tbody>\n    <tr>\n      <th>0</th>\n      <td>Darlington 001</td>\n      <td>E02002559</td>\n      <td>75</td>\n      <td>179</td>\n      <td>503</td>\n      <td>240</td>\n      <td>281</td>\n      <td>99</td>\n      <td>180</td>\n      <td>134</td>\n      <td>14</td>\n      <td>18</td>\n      <td>3</td>\n      <td>0</td>\n    </tr>\n    <tr>\n      <th>1</th>\n      <td>Darlington 002</td>\n      <td>E02002560</td>\n      <td>28</td>\n      <td>42</td>\n      <td>212</td>\n      <td>179</td>\n      <td>124</td>\n      <td>95</td>\n      <td>244</td>\n      <td>189</td>\n      <td>11</td>\n      <td>16</td>\n      <td>5</td>\n      <td>0</td>\n    </tr>\n    <tr>\n      <th>2</th>\n      <td>Darlington 003</td>\n      <td>E02002561</td>\n      <td>55</td>\n      <td>81</td>\n      <td>327</td>\n      <td>266</td>\n      <td>116</td>\n      <td>122</td>\n      <td>264</td>\n      <td>186</td>\n      <td>8</td>\n      <td>23</td>\n      <td>3</td>\n      <td>0</td>\n    </tr>\n  </tbody>\n</table>\n</div>"
     },
     "metadata": {},
     "execution_count": 10
    }
   ],
   "source": [
    "df3 = pd.read_csv(\"./data/census/NS_SeC_50_to_64.csv\")\n",
    "df3.head(3)"
   ]
  },
  {
   "cell_type": "code",
   "execution_count": 11,
   "metadata": {},
   "outputs": [
    {
     "output_type": "execute_result",
     "data": {
      "text/plain": [
       "        MSOA_2011 MSOA_code_2011  \\\n",
       "0  Darlington 001      E02002559   \n",
       "1  Darlington 002      E02002560   \n",
       "2  Darlington 003      E02002561   \n",
       "\n",
       "   1.1_Large_employers_and_higher_managerial_and_administrative_occupations  \\\n",
       "0                                               40.0                          \n",
       "1                                               13.0                          \n",
       "2                                               22.0                          \n",
       "\n",
       "   1.2_Higher_professional_occupations  \\\n",
       "0                                100.0   \n",
       "1                                 20.0   \n",
       "2                                 37.0   \n",
       "\n",
       "   2._Lower_managerial,_administrative_and_professional_occupations  \\\n",
       "0                                              295.0                  \n",
       "1                                              120.0                  \n",
       "2                                              168.0                  \n",
       "\n",
       "   3._Intermediate_occupations  4._Small_employers_and_own_account_workers  \\\n",
       "0                        201.0                                       228.0   \n",
       "1                        138.0                                        68.0   \n",
       "2                        162.0                                        70.0   \n",
       "\n",
       "   5._Lower_supervisory_and_technical_occupations  \\\n",
       "0                                           104.0   \n",
       "1                                           127.0   \n",
       "2                                           112.0   \n",
       "\n",
       "   6._Semi-routine_occupations  7._Routine_occupations  L14.1_Never_worked  \\\n",
       "0                        178.0                   127.0                37.0   \n",
       "1                        220.0                   199.0                32.0   \n",
       "2                        205.0                   169.0                41.0   \n",
       "\n",
       "   L14.2_Long-term_unemployed  L15_Full-time_students  \\\n",
       "0                         5.0                     1.0   \n",
       "1                         0.0                     1.0   \n",
       "2                         0.0                     2.0   \n",
       "\n",
       "   L17_Not_classifiable_for_other_reasons  \n",
       "0                                     0.0  \n",
       "1                                     0.0  \n",
       "2                                     0.0  "
      ],
      "text/html": "<div>\n<style scoped>\n    .dataframe tbody tr th:only-of-type {\n        vertical-align: middle;\n    }\n\n    .dataframe tbody tr th {\n        vertical-align: top;\n    }\n\n    .dataframe thead th {\n        text-align: right;\n    }\n</style>\n<table border=\"1\" class=\"dataframe\">\n  <thead>\n    <tr style=\"text-align: right;\">\n      <th></th>\n      <th>MSOA_2011</th>\n      <th>MSOA_code_2011</th>\n      <th>1.1_Large_employers_and_higher_managerial_and_administrative_occupations</th>\n      <th>1.2_Higher_professional_occupations</th>\n      <th>2._Lower_managerial,_administrative_and_professional_occupations</th>\n      <th>3._Intermediate_occupations</th>\n      <th>4._Small_employers_and_own_account_workers</th>\n      <th>5._Lower_supervisory_and_technical_occupations</th>\n      <th>6._Semi-routine_occupations</th>\n      <th>7._Routine_occupations</th>\n      <th>L14.1_Never_worked</th>\n      <th>L14.2_Long-term_unemployed</th>\n      <th>L15_Full-time_students</th>\n      <th>L17_Not_classifiable_for_other_reasons</th>\n    </tr>\n  </thead>\n  <tbody>\n    <tr>\n      <th>0</th>\n      <td>Darlington 001</td>\n      <td>E02002559</td>\n      <td>40.0</td>\n      <td>100.0</td>\n      <td>295.0</td>\n      <td>201.0</td>\n      <td>228.0</td>\n      <td>104.0</td>\n      <td>178.0</td>\n      <td>127.0</td>\n      <td>37.0</td>\n      <td>5.0</td>\n      <td>1.0</td>\n      <td>0.0</td>\n    </tr>\n    <tr>\n      <th>1</th>\n      <td>Darlington 002</td>\n      <td>E02002560</td>\n      <td>13.0</td>\n      <td>20.0</td>\n      <td>120.0</td>\n      <td>138.0</td>\n      <td>68.0</td>\n      <td>127.0</td>\n      <td>220.0</td>\n      <td>199.0</td>\n      <td>32.0</td>\n      <td>0.0</td>\n      <td>1.0</td>\n      <td>0.0</td>\n    </tr>\n    <tr>\n      <th>2</th>\n      <td>Darlington 003</td>\n      <td>E02002561</td>\n      <td>22.0</td>\n      <td>37.0</td>\n      <td>168.0</td>\n      <td>162.0</td>\n      <td>70.0</td>\n      <td>112.0</td>\n      <td>205.0</td>\n      <td>169.0</td>\n      <td>41.0</td>\n      <td>0.0</td>\n      <td>2.0</td>\n      <td>0.0</td>\n    </tr>\n  </tbody>\n</table>\n</div>"
     },
     "metadata": {},
     "execution_count": 11
    }
   ],
   "source": [
    "df4 = pd.read_csv(\"./data/census/NS_SeC_65_to_over.csv\")\n",
    "df4.head(3)"
   ]
  }
 ]
}