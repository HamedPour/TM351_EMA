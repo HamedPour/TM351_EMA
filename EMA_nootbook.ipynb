{
 "metadata": {
  "language_info": {
   "codemirror_mode": {
    "name": "ipython",
    "version": 3
   },
   "file_extension": ".py",
   "mimetype": "text/x-python",
   "name": "python",
   "nbconvert_exporter": "python",
   "pygments_lexer": "ipython3",
   "version": "3.8.8-final"
  },
  "orig_nbformat": 2,
  "kernelspec": {
   "name": "python388jvsc74a57bd06c313c17cd49812660d49233b46c691bbb6b1e704907687e4545c48258cc969b",
   "display_name": "Python 3.8.8 64-bit ('emsx_3.8.8')"
  },
  "metadata": {
   "interpreter": {
    "hash": "6c313c17cd49812660d49233b46c691bbb6b1e704907687e4545c48258cc969b"
   }
  }
 },
 "nbformat": 4,
 "nbformat_minor": 2,
 "cells": [
  {
   "source": [
    "# Data Cleaning"
   ],
   "cell_type": "markdown",
   "metadata": {}
  },
  {
   "source": [
    "## Indicies of Deprivation 2015 Files"
   ],
   "cell_type": "markdown",
   "metadata": {}
  },
  {
   "source": [
    "### File Refactoring:\n",
    "I removed all empty spaces between the column headings in the \"File_2_ID2015_Domains_of_deprivation.xlsx\" file to make it easier to work with and renamed the file to \"ID2015_Domains_of_deprivation.xlsa\"."
   ],
   "cell_type": "markdown",
   "metadata": {}
  },
  {
   "cell_type": "code",
   "execution_count": 1,
   "metadata": {},
   "outputs": [],
   "source": [
    "import pandas as pd"
   ]
  },
  {
   "cell_type": "code",
   "execution_count": 6,
   "metadata": {},
   "outputs": [],
   "source": [
    "# Load file \"Domains of Deprivation 2015\" into dataframe\n",
    "\n",
    "data = './data/Deprivation_Index/ID2015_Domains_of_deprivation.xlsx'\n",
    "df = pd.read_excel(data, sheet_name='ID2015 Domains')"
   ]
  },
  {
   "cell_type": "code",
   "execution_count": 130,
   "metadata": {},
   "outputs": [
    {
     "output_type": "error",
     "ename": "NameError",
     "evalue": "name 'df' is not defined",
     "traceback": [
      "\u001b[0;31m---------------------------------------------------------------------------\u001b[0m",
      "\u001b[0;31mNameError\u001b[0m                                 Traceback (most recent call last)",
      "\u001b[0;32m<ipython-input-130-9447ae629b41>\u001b[0m in \u001b[0;36m<module>\u001b[0;34m\u001b[0m\n\u001b[0;32m----> 1\u001b[0;31m \u001b[0mdf\u001b[0m\u001b[0;34m.\u001b[0m\u001b[0mhead\u001b[0m\u001b[0;34m(\u001b[0m\u001b[0;36m3\u001b[0m\u001b[0;34m)\u001b[0m\u001b[0;34m\u001b[0m\u001b[0;34m\u001b[0m\u001b[0m\n\u001b[0m",
      "\u001b[0;31mNameError\u001b[0m: name 'df' is not defined"
     ]
    }
   ],
   "source": [
    "df.head(3)"
   ]
  },
  {
   "cell_type": "code",
   "execution_count": 8,
   "metadata": {},
   "outputs": [
    {
     "output_type": "execute_result",
     "data": {
      "text/plain": [
       "['LSOA_code_2011',\n",
       " 'LSOA_name_2011',\n",
       " 'Local_Authority_District_code_2013',\n",
       " 'Local_Authority_District_name_2013',\n",
       " 'Index_of_Multiple_Deprivation_IMD_Rank',\n",
       " 'Index_of_Multiple_Deprivation_IMD_Decile',\n",
       " 'Income_Rank',\n",
       " 'Income_Decile',\n",
       " 'Employment_Rank',\n",
       " 'Employment_Decile',\n",
       " 'Education_Skills_and_Training_Rank',\n",
       " 'Education_Skills_and_Training_Decile',\n",
       " 'Health_Deprivation_and_Disability_Rank',\n",
       " 'Health_Deprivation_and_Disability_Decile',\n",
       " 'Crime_Rank',\n",
       " 'Crime_Decile',\n",
       " 'Barriers_to_Housing_and_Services_Rank',\n",
       " 'Barriers_to_Housing_and_Services_Decile',\n",
       " 'Living_Environment_Rank',\n",
       " 'Living_Environment_Decile']"
      ]
     },
     "metadata": {},
     "execution_count": 8
    }
   ],
   "source": [
    "list(df.columns)"
   ]
  },
  {
   "cell_type": "code",
   "execution_count": 9,
   "metadata": {},
   "outputs": [
    {
     "output_type": "stream",
     "name": "stdout",
     "text": [
      "<class 'pandas.core.frame.DataFrame'>\nRangeIndex: 32844 entries, 0 to 32843\nData columns (total 20 columns):\n #   Column                                    Non-Null Count  Dtype \n---  ------                                    --------------  ----- \n 0   LSOA_code_2011                            32844 non-null  object\n 1   LSOA_name_2011                            32844 non-null  object\n 2   Local_Authority_District_code_2013        32844 non-null  object\n 3   Local_Authority_District_name_2013        32844 non-null  object\n 4   Index_of_Multiple_Deprivation_IMD_Rank    32844 non-null  int64 \n 5   Index_of_Multiple_Deprivation_IMD_Decile  32844 non-null  int64 \n 6   Income_Rank                               32844 non-null  int64 \n 7   Income_Decile                             32844 non-null  int64 \n 8   Employment_Rank                           32844 non-null  int64 \n 9   Employment_Decile                         32844 non-null  int64 \n 10  Education_Skills_and_Training_Rank        32844 non-null  int64 \n 11  Education_Skills_and_Training_Decile      32844 non-null  int64 \n 12  Health_Deprivation_and_Disability_Rank    32844 non-null  int64 \n 13  Health_Deprivation_and_Disability_Decile  32844 non-null  int64 \n 14  Crime_Rank                                32844 non-null  int64 \n 15  Crime_Decile                              32844 non-null  int64 \n 16  Barriers_to_Housing_and_Services_Rank     32844 non-null  int64 \n 17  Barriers_to_Housing_and_Services_Decile   32844 non-null  int64 \n 18  Living_Environment_Rank                   32844 non-null  int64 \n 19  Living_Environment_Decile                 32844 non-null  int64 \ndtypes: int64(16), object(4)\nmemory usage: 5.0+ MB\n"
     ]
    }
   ],
   "source": [
    "# Tell me more about the dataset\n",
    "df_info = df.info()"
   ]
  },
  {
   "cell_type": "code",
   "execution_count": 10,
   "metadata": {},
   "outputs": [
    {
     "output_type": "execute_result",
     "data": {
      "text/plain": [
       "       Index_of_Multiple_Deprivation_IMD_Rank  \\\n",
       "count                            32844.000000   \n",
       "mean                             16422.499391   \n",
       "std                               9481.390618   \n",
       "min                                  1.000000   \n",
       "25%                               8211.750000   \n",
       "50%                              16422.500000   \n",
       "75%                              24633.250000   \n",
       "max                              32844.000000   \n",
       "\n",
       "       Index_of_Multiple_Deprivation_IMD_Decile   Income_Rank  Income_Decile  \\\n",
       "count                              32844.000000  32844.000000   32844.000000   \n",
       "mean                                   5.500122  16422.498660       5.500122   \n",
       "std                                    2.872325   9481.390331       2.872325   \n",
       "min                                    1.000000      1.000000       1.000000   \n",
       "25%                                    3.000000   8211.750000       3.000000   \n",
       "50%                                    5.500000  16422.500000       5.500000   \n",
       "75%                                    8.000000  24633.250000       8.000000   \n",
       "max                                   10.000000  32844.000000      10.000000   \n",
       "\n",
       "       Employment_Rank  Employment_Decile  Education_Skills_and_Training_Rank  \\\n",
       "count     32844.000000       32844.000000                        32844.000000   \n",
       "mean      16422.498873           5.500122                        16422.499330   \n",
       "std        9481.390246           2.872325                         9481.390748   \n",
       "min           1.000000           1.000000                            1.000000   \n",
       "25%        8211.750000           3.000000                         8211.750000   \n",
       "50%       16422.500000           5.500000                        16422.500000   \n",
       "75%       24633.250000           8.000000                        24633.250000   \n",
       "max       32844.000000          10.000000                        32844.000000   \n",
       "\n",
       "       Education_Skills_and_Training_Decile  \\\n",
       "count                          32844.000000   \n",
       "mean                               5.500122   \n",
       "std                                2.872325   \n",
       "min                                1.000000   \n",
       "25%                                3.000000   \n",
       "50%                                5.500000   \n",
       "75%                                8.000000   \n",
       "max                               10.000000   \n",
       "\n",
       "       Health_Deprivation_and_Disability_Rank  \\\n",
       "count                            32844.000000   \n",
       "mean                             16422.499726   \n",
       "std                               9481.390467   \n",
       "min                                  1.000000   \n",
       "25%                               8211.750000   \n",
       "50%                              16422.500000   \n",
       "75%                              24633.250000   \n",
       "max                              32844.000000   \n",
       "\n",
       "       Health_Deprivation_and_Disability_Decile    Crime_Rank  Crime_Decile  \\\n",
       "count                              32844.000000  32844.000000  32844.000000   \n",
       "mean                                   5.500122  16422.499635      5.500122   \n",
       "std                                    2.872325   9481.390606      2.872325   \n",
       "min                                    1.000000      1.000000      1.000000   \n",
       "25%                                    3.000000   8211.750000      3.000000   \n",
       "50%                                    5.500000  16422.500000      5.500000   \n",
       "75%                                    8.000000  24633.250000      8.000000   \n",
       "max                                   10.000000  32844.000000     10.000000   \n",
       "\n",
       "       Barriers_to_Housing_and_Services_Rank  \\\n",
       "count                           32844.000000   \n",
       "mean                            16422.499208   \n",
       "std                              9481.390574   \n",
       "min                                 1.000000   \n",
       "25%                              8211.750000   \n",
       "50%                             16422.500000   \n",
       "75%                             24633.250000   \n",
       "max                             32844.000000   \n",
       "\n",
       "       Barriers_to_Housing_and_Services_Decile  Living_Environment_Rank  \\\n",
       "count                             32844.000000             32844.000000   \n",
       "mean                                  5.500122             16422.499574   \n",
       "std                                   2.872325              9481.390570   \n",
       "min                                   1.000000                 1.000000   \n",
       "25%                                   3.000000              8211.750000   \n",
       "50%                                   5.500000             16422.500000   \n",
       "75%                                   8.000000             24633.250000   \n",
       "max                                  10.000000             32844.000000   \n",
       "\n",
       "       Living_Environment_Decile  \n",
       "count               32844.000000  \n",
       "mean                    5.500122  \n",
       "std                     2.872325  \n",
       "min                     1.000000  \n",
       "25%                     3.000000  \n",
       "50%                     5.500000  \n",
       "75%                     8.000000  \n",
       "max                    10.000000  "
      ],
      "text/html": "<div>\n<style scoped>\n    .dataframe tbody tr th:only-of-type {\n        vertical-align: middle;\n    }\n\n    .dataframe tbody tr th {\n        vertical-align: top;\n    }\n\n    .dataframe thead th {\n        text-align: right;\n    }\n</style>\n<table border=\"1\" class=\"dataframe\">\n  <thead>\n    <tr style=\"text-align: right;\">\n      <th></th>\n      <th>Index_of_Multiple_Deprivation_IMD_Rank</th>\n      <th>Index_of_Multiple_Deprivation_IMD_Decile</th>\n      <th>Income_Rank</th>\n      <th>Income_Decile</th>\n      <th>Employment_Rank</th>\n      <th>Employment_Decile</th>\n      <th>Education_Skills_and_Training_Rank</th>\n      <th>Education_Skills_and_Training_Decile</th>\n      <th>Health_Deprivation_and_Disability_Rank</th>\n      <th>Health_Deprivation_and_Disability_Decile</th>\n      <th>Crime_Rank</th>\n      <th>Crime_Decile</th>\n      <th>Barriers_to_Housing_and_Services_Rank</th>\n      <th>Barriers_to_Housing_and_Services_Decile</th>\n      <th>Living_Environment_Rank</th>\n      <th>Living_Environment_Decile</th>\n    </tr>\n  </thead>\n  <tbody>\n    <tr>\n      <th>count</th>\n      <td>32844.000000</td>\n      <td>32844.000000</td>\n      <td>32844.000000</td>\n      <td>32844.000000</td>\n      <td>32844.000000</td>\n      <td>32844.000000</td>\n      <td>32844.000000</td>\n      <td>32844.000000</td>\n      <td>32844.000000</td>\n      <td>32844.000000</td>\n      <td>32844.000000</td>\n      <td>32844.000000</td>\n      <td>32844.000000</td>\n      <td>32844.000000</td>\n      <td>32844.000000</td>\n      <td>32844.000000</td>\n    </tr>\n    <tr>\n      <th>mean</th>\n      <td>16422.499391</td>\n      <td>5.500122</td>\n      <td>16422.498660</td>\n      <td>5.500122</td>\n      <td>16422.498873</td>\n      <td>5.500122</td>\n      <td>16422.499330</td>\n      <td>5.500122</td>\n      <td>16422.499726</td>\n      <td>5.500122</td>\n      <td>16422.499635</td>\n      <td>5.500122</td>\n      <td>16422.499208</td>\n      <td>5.500122</td>\n      <td>16422.499574</td>\n      <td>5.500122</td>\n    </tr>\n    <tr>\n      <th>std</th>\n      <td>9481.390618</td>\n      <td>2.872325</td>\n      <td>9481.390331</td>\n      <td>2.872325</td>\n      <td>9481.390246</td>\n      <td>2.872325</td>\n      <td>9481.390748</td>\n      <td>2.872325</td>\n      <td>9481.390467</td>\n      <td>2.872325</td>\n      <td>9481.390606</td>\n      <td>2.872325</td>\n      <td>9481.390574</td>\n      <td>2.872325</td>\n      <td>9481.390570</td>\n      <td>2.872325</td>\n    </tr>\n    <tr>\n      <th>min</th>\n      <td>1.000000</td>\n      <td>1.000000</td>\n      <td>1.000000</td>\n      <td>1.000000</td>\n      <td>1.000000</td>\n      <td>1.000000</td>\n      <td>1.000000</td>\n      <td>1.000000</td>\n      <td>1.000000</td>\n      <td>1.000000</td>\n      <td>1.000000</td>\n      <td>1.000000</td>\n      <td>1.000000</td>\n      <td>1.000000</td>\n      <td>1.000000</td>\n      <td>1.000000</td>\n    </tr>\n    <tr>\n      <th>25%</th>\n      <td>8211.750000</td>\n      <td>3.000000</td>\n      <td>8211.750000</td>\n      <td>3.000000</td>\n      <td>8211.750000</td>\n      <td>3.000000</td>\n      <td>8211.750000</td>\n      <td>3.000000</td>\n      <td>8211.750000</td>\n      <td>3.000000</td>\n      <td>8211.750000</td>\n      <td>3.000000</td>\n      <td>8211.750000</td>\n      <td>3.000000</td>\n      <td>8211.750000</td>\n      <td>3.000000</td>\n    </tr>\n    <tr>\n      <th>50%</th>\n      <td>16422.500000</td>\n      <td>5.500000</td>\n      <td>16422.500000</td>\n      <td>5.500000</td>\n      <td>16422.500000</td>\n      <td>5.500000</td>\n      <td>16422.500000</td>\n      <td>5.500000</td>\n      <td>16422.500000</td>\n      <td>5.500000</td>\n      <td>16422.500000</td>\n      <td>5.500000</td>\n      <td>16422.500000</td>\n      <td>5.500000</td>\n      <td>16422.500000</td>\n      <td>5.500000</td>\n    </tr>\n    <tr>\n      <th>75%</th>\n      <td>24633.250000</td>\n      <td>8.000000</td>\n      <td>24633.250000</td>\n      <td>8.000000</td>\n      <td>24633.250000</td>\n      <td>8.000000</td>\n      <td>24633.250000</td>\n      <td>8.000000</td>\n      <td>24633.250000</td>\n      <td>8.000000</td>\n      <td>24633.250000</td>\n      <td>8.000000</td>\n      <td>24633.250000</td>\n      <td>8.000000</td>\n      <td>24633.250000</td>\n      <td>8.000000</td>\n    </tr>\n    <tr>\n      <th>max</th>\n      <td>32844.000000</td>\n      <td>10.000000</td>\n      <td>32844.000000</td>\n      <td>10.000000</td>\n      <td>32844.000000</td>\n      <td>10.000000</td>\n      <td>32844.000000</td>\n      <td>10.000000</td>\n      <td>32844.000000</td>\n      <td>10.000000</td>\n      <td>32844.000000</td>\n      <td>10.000000</td>\n      <td>32844.000000</td>\n      <td>10.000000</td>\n      <td>32844.000000</td>\n      <td>10.000000</td>\n    </tr>\n  </tbody>\n</table>\n</div>"
     },
     "metadata": {},
     "execution_count": 10
    }
   ],
   "source": [
    "# Descibe the dataset please\n",
    "#pd.options.display.float_format = '{:,.2f}'.format # Only want to see 2 decimal places\n",
    "df.describe()"
   ]
  },
  {
   "cell_type": "code",
   "execution_count": 11,
   "metadata": {},
   "outputs": [
    {
     "output_type": "execute_result",
     "data": {
      "text/plain": [
       "     LSOA_code_2011  LSOA_name_2011 Local_Authority_District_code_2013  \\\n",
       "2598      E01012673  Blackpool 010A                          E06000009   \n",
       "\n",
       "     Local_Authority_District_name_2013  \\\n",
       "2598                          Blackpool   \n",
       "\n",
       "      Index_of_Multiple_Deprivation_IMD_Rank  \\\n",
       "2598                                       2   \n",
       "\n",
       "      Index_of_Multiple_Deprivation_IMD_Decile  Income_Rank  Income_Decile  \\\n",
       "2598                                         1            1              1   \n",
       "\n",
       "      Employment_Rank  Employment_Decile  Education_Skills_and_Training_Rank  \\\n",
       "2598               10                  1                                  47   \n",
       "\n",
       "      Education_Skills_and_Training_Decile  \\\n",
       "2598                                     1   \n",
       "\n",
       "      Health_Deprivation_and_Disability_Rank  \\\n",
       "2598                                      12   \n",
       "\n",
       "      Health_Deprivation_and_Disability_Decile  Crime_Rank  Crime_Decile  \\\n",
       "2598                                         1          10             1   \n",
       "\n",
       "      Barriers_to_Housing_and_Services_Rank  \\\n",
       "2598                                  24093   \n",
       "\n",
       "      Barriers_to_Housing_and_Services_Decile  Living_Environment_Rank  \\\n",
       "2598                                        8                      766   \n",
       "\n",
       "      Living_Environment_Decile  \n",
       "2598                          1  "
      ],
      "text/html": "<div>\n<style scoped>\n    .dataframe tbody tr th:only-of-type {\n        vertical-align: middle;\n    }\n\n    .dataframe tbody tr th {\n        vertical-align: top;\n    }\n\n    .dataframe thead th {\n        text-align: right;\n    }\n</style>\n<table border=\"1\" class=\"dataframe\">\n  <thead>\n    <tr style=\"text-align: right;\">\n      <th></th>\n      <th>LSOA_code_2011</th>\n      <th>LSOA_name_2011</th>\n      <th>Local_Authority_District_code_2013</th>\n      <th>Local_Authority_District_name_2013</th>\n      <th>Index_of_Multiple_Deprivation_IMD_Rank</th>\n      <th>Index_of_Multiple_Deprivation_IMD_Decile</th>\n      <th>Income_Rank</th>\n      <th>Income_Decile</th>\n      <th>Employment_Rank</th>\n      <th>Employment_Decile</th>\n      <th>Education_Skills_and_Training_Rank</th>\n      <th>Education_Skills_and_Training_Decile</th>\n      <th>Health_Deprivation_and_Disability_Rank</th>\n      <th>Health_Deprivation_and_Disability_Decile</th>\n      <th>Crime_Rank</th>\n      <th>Crime_Decile</th>\n      <th>Barriers_to_Housing_and_Services_Rank</th>\n      <th>Barriers_to_Housing_and_Services_Decile</th>\n      <th>Living_Environment_Rank</th>\n      <th>Living_Environment_Decile</th>\n    </tr>\n  </thead>\n  <tbody>\n    <tr>\n      <th>2598</th>\n      <td>E01012673</td>\n      <td>Blackpool 010A</td>\n      <td>E06000009</td>\n      <td>Blackpool</td>\n      <td>2</td>\n      <td>1</td>\n      <td>1</td>\n      <td>1</td>\n      <td>10</td>\n      <td>1</td>\n      <td>47</td>\n      <td>1</td>\n      <td>12</td>\n      <td>1</td>\n      <td>10</td>\n      <td>1</td>\n      <td>24093</td>\n      <td>8</td>\n      <td>766</td>\n      <td>1</td>\n    </tr>\n  </tbody>\n</table>\n</div>"
     },
     "metadata": {},
     "execution_count": 11
    }
   ],
   "source": [
    "# Who has the worst income in England?\n",
    "df[df['Income_Rank'] == 1]"
   ]
  },
  {
   "source": [
    "## Census data\n"
   ],
   "cell_type": "markdown",
   "metadata": {}
  },
  {
   "source": [
    "### File Refactoring\n",
    "File 85043238.csv : The file meta data was removed. The file name was changed to \"NS_SeC_16_to_24.csv\"\n",
    "\n",
    "File 87985007.csv : The file meta data was removed. The file name was changed to \"NS_SeC_25_to_49.csv\"\n",
    "\n",
    "File 91695374.csv : The file meta data was removed. The file name was changed to \"NS_SeC_50_to_64.csv\"\n",
    "\n",
    "File 93917134.csv : The file meta data was removed. The file name was changed to \"NS_SeC_65_to_over.csv\"\n",
    "\n",
    "In all four files the heading \"2011 super output area - middle layer\" was changed to MSOA_2011 and the heading \"mnemonic\" was changed to MSOA_code_2011. All empty spaces and dashes in the heading row waere replaced with underscores. Finally The empty row after the heading row was removed."
   ],
   "cell_type": "markdown",
   "metadata": {}
  },
  {
   "cell_type": "code",
   "execution_count": 40,
   "metadata": {},
   "outputs": [
    {
     "output_type": "execute_result",
     "data": {
      "text/plain": [
       "        MSOA_2011 MSOA_code_2011  \\\n",
       "0  Darlington 001      E02002559   \n",
       "1  Darlington 002      E02002560   \n",
       "2  Darlington 003      E02002561   \n",
       "\n",
       "   1.1_Large_employers_and_higher_managerial_and_administrative_occupations  \\\n",
       "0                                                  2                          \n",
       "1                                                  3                          \n",
       "2                                                  2                          \n",
       "\n",
       "   1.2_Higher_professional_occupations  \\\n",
       "0                                   14   \n",
       "1                                    9   \n",
       "2                                    7   \n",
       "\n",
       "   2._Lower_managerial,_administrative_and_professional_occupations  \\\n",
       "0                                                 77                  \n",
       "1                                                 35                  \n",
       "2                                                 55                  \n",
       "\n",
       "   3._Intermediate_occupations  4._Small_employers_and_own_account_workers  \\\n",
       "0                           89                                          11   \n",
       "1                           80                                           9   \n",
       "2                           70                                           5   \n",
       "\n",
       "   5._Lower_supervisory_and_technical_occupations  \\\n",
       "0                                              39   \n",
       "1                                              43   \n",
       "2                                              37   \n",
       "\n",
       "   6._Semi_routine_occupations  7._Routine_occupations  L14.1_Never_worked  \\\n",
       "0                           92                      66                  23   \n",
       "1                           97                      60                  25   \n",
       "2                           77                      39                  26   \n",
       "\n",
       "   L14.2_Long_term_unemployed  L15_Full_time_students  \\\n",
       "0                           3                     321   \n",
       "1                           7                     242   \n",
       "2                           5                     217   \n",
       "\n",
       "   L17_Not_classifiable_for_other_reasons  \n",
       "0                                       0  \n",
       "1                                       0  \n",
       "2                                       0  "
      ],
      "text/html": "<div>\n<style scoped>\n    .dataframe tbody tr th:only-of-type {\n        vertical-align: middle;\n    }\n\n    .dataframe tbody tr th {\n        vertical-align: top;\n    }\n\n    .dataframe thead th {\n        text-align: right;\n    }\n</style>\n<table border=\"1\" class=\"dataframe\">\n  <thead>\n    <tr style=\"text-align: right;\">\n      <th></th>\n      <th>MSOA_2011</th>\n      <th>MSOA_code_2011</th>\n      <th>1.1_Large_employers_and_higher_managerial_and_administrative_occupations</th>\n      <th>1.2_Higher_professional_occupations</th>\n      <th>2._Lower_managerial,_administrative_and_professional_occupations</th>\n      <th>3._Intermediate_occupations</th>\n      <th>4._Small_employers_and_own_account_workers</th>\n      <th>5._Lower_supervisory_and_technical_occupations</th>\n      <th>6._Semi_routine_occupations</th>\n      <th>7._Routine_occupations</th>\n      <th>L14.1_Never_worked</th>\n      <th>L14.2_Long_term_unemployed</th>\n      <th>L15_Full_time_students</th>\n      <th>L17_Not_classifiable_for_other_reasons</th>\n    </tr>\n  </thead>\n  <tbody>\n    <tr>\n      <th>0</th>\n      <td>Darlington 001</td>\n      <td>E02002559</td>\n      <td>2</td>\n      <td>14</td>\n      <td>77</td>\n      <td>89</td>\n      <td>11</td>\n      <td>39</td>\n      <td>92</td>\n      <td>66</td>\n      <td>23</td>\n      <td>3</td>\n      <td>321</td>\n      <td>0</td>\n    </tr>\n    <tr>\n      <th>1</th>\n      <td>Darlington 002</td>\n      <td>E02002560</td>\n      <td>3</td>\n      <td>9</td>\n      <td>35</td>\n      <td>80</td>\n      <td>9</td>\n      <td>43</td>\n      <td>97</td>\n      <td>60</td>\n      <td>25</td>\n      <td>7</td>\n      <td>242</td>\n      <td>0</td>\n    </tr>\n    <tr>\n      <th>2</th>\n      <td>Darlington 003</td>\n      <td>E02002561</td>\n      <td>2</td>\n      <td>7</td>\n      <td>55</td>\n      <td>70</td>\n      <td>5</td>\n      <td>37</td>\n      <td>77</td>\n      <td>39</td>\n      <td>26</td>\n      <td>5</td>\n      <td>217</td>\n      <td>0</td>\n    </tr>\n  </tbody>\n</table>\n</div>"
     },
     "metadata": {},
     "execution_count": 40
    }
   ],
   "source": [
    "# Lets test to see if all our df are working fine.\n",
    "df1 = pd.read_csv(\"./data/census/NS_SeC_16_to_24.csv\")\n",
    "df1.head(3)"
   ]
  },
  {
   "cell_type": "code",
   "execution_count": 6,
   "metadata": {},
   "outputs": [
    {
     "output_type": "execute_result",
     "data": {
      "text/plain": [
       "        MSOA_2011 MSOA_code_2011  \\\n",
       "0  Darlington 001      E02002559   \n",
       "1  Darlington 002      E02002560   \n",
       "2  Darlington 003      E02002561   \n",
       "\n",
       "   1.1_Large_employers_and_higher_managerial_and_administrative_occupations  \\\n",
       "0                                                145                          \n",
       "1                                                 52                          \n",
       "2                                                 37                          \n",
       "\n",
       "   1.2_Higher_professional_occupations  \\\n",
       "0                                  408   \n",
       "1                                  142   \n",
       "2                                  143   \n",
       "\n",
       "   2._Lower_managerial,_administrative_and_professional_occupations  \\\n",
       "0                                               1112                  \n",
       "1                                                531                  \n",
       "2                                                481                  \n",
       "\n",
       "   3._Intermediate_occupations  4._Small_employers_and_own_account_workers  \\\n",
       "0                          492                                         308   \n",
       "1                          407                                         176   \n",
       "2                          335                                         121   \n",
       "\n",
       "   5._Lower_supervisory_and_technical_occupations  \\\n",
       "0                                             217   \n",
       "1                                             185   \n",
       "2                                             134   \n",
       "\n",
       "   6._Semi-routine_occupations  7._Routine_occupations  L14.1_Never_worked  \\\n",
       "0                          285                     167                  34   \n",
       "1                          310                     220                  38   \n",
       "2                          272                     200                  35   \n",
       "\n",
       "   L14.2_Long-term_unemployed  L15_Full-time_students  \\\n",
       "0                          40                      32   \n",
       "1                          45                      27   \n",
       "2                          33                      19   \n",
       "\n",
       "   L17_Not_classifiable_for_other_reasons  \n",
       "0                                       0  \n",
       "1                                       0  \n",
       "2                                       0  "
      ],
      "text/html": "<div>\n<style scoped>\n    .dataframe tbody tr th:only-of-type {\n        vertical-align: middle;\n    }\n\n    .dataframe tbody tr th {\n        vertical-align: top;\n    }\n\n    .dataframe thead th {\n        text-align: right;\n    }\n</style>\n<table border=\"1\" class=\"dataframe\">\n  <thead>\n    <tr style=\"text-align: right;\">\n      <th></th>\n      <th>MSOA_2011</th>\n      <th>MSOA_code_2011</th>\n      <th>1.1_Large_employers_and_higher_managerial_and_administrative_occupations</th>\n      <th>1.2_Higher_professional_occupations</th>\n      <th>2._Lower_managerial,_administrative_and_professional_occupations</th>\n      <th>3._Intermediate_occupations</th>\n      <th>4._Small_employers_and_own_account_workers</th>\n      <th>5._Lower_supervisory_and_technical_occupations</th>\n      <th>6._Semi-routine_occupations</th>\n      <th>7._Routine_occupations</th>\n      <th>L14.1_Never_worked</th>\n      <th>L14.2_Long-term_unemployed</th>\n      <th>L15_Full-time_students</th>\n      <th>L17_Not_classifiable_for_other_reasons</th>\n    </tr>\n  </thead>\n  <tbody>\n    <tr>\n      <th>0</th>\n      <td>Darlington 001</td>\n      <td>E02002559</td>\n      <td>145</td>\n      <td>408</td>\n      <td>1112</td>\n      <td>492</td>\n      <td>308</td>\n      <td>217</td>\n      <td>285</td>\n      <td>167</td>\n      <td>34</td>\n      <td>40</td>\n      <td>32</td>\n      <td>0</td>\n    </tr>\n    <tr>\n      <th>1</th>\n      <td>Darlington 002</td>\n      <td>E02002560</td>\n      <td>52</td>\n      <td>142</td>\n      <td>531</td>\n      <td>407</td>\n      <td>176</td>\n      <td>185</td>\n      <td>310</td>\n      <td>220</td>\n      <td>38</td>\n      <td>45</td>\n      <td>27</td>\n      <td>0</td>\n    </tr>\n    <tr>\n      <th>2</th>\n      <td>Darlington 003</td>\n      <td>E02002561</td>\n      <td>37</td>\n      <td>143</td>\n      <td>481</td>\n      <td>335</td>\n      <td>121</td>\n      <td>134</td>\n      <td>272</td>\n      <td>200</td>\n      <td>35</td>\n      <td>33</td>\n      <td>19</td>\n      <td>0</td>\n    </tr>\n  </tbody>\n</table>\n</div>"
     },
     "metadata": {},
     "execution_count": 6
    }
   ],
   "source": [
    "df2 = pd.read_csv(\"./data/census/NS_SeC_25_to_49.csv\")\n",
    "df2.head(3)"
   ]
  },
  {
   "cell_type": "code",
   "execution_count": 7,
   "metadata": {},
   "outputs": [
    {
     "output_type": "execute_result",
     "data": {
      "text/plain": [
       "        MSOA_2011 MSOA_code_2011  \\\n",
       "0  Darlington 001      E02002559   \n",
       "1  Darlington 002      E02002560   \n",
       "2  Darlington 003      E02002561   \n",
       "\n",
       "   1.1_Large_employers_and_higher_managerial_and_administrative_occupations  \\\n",
       "0                                                 75                          \n",
       "1                                                 28                          \n",
       "2                                                 55                          \n",
       "\n",
       "   1.2_Higher_professional_occupations  \\\n",
       "0                                  179   \n",
       "1                                   42   \n",
       "2                                   81   \n",
       "\n",
       "   2._Lower_managerial,_administrative_and_professional_occupations  \\\n",
       "0                                                503                  \n",
       "1                                                212                  \n",
       "2                                                327                  \n",
       "\n",
       "   3._Intermediate_occupations  4._Small_employers_and_own_account_workers  \\\n",
       "0                          240                                         281   \n",
       "1                          179                                         124   \n",
       "2                          266                                         116   \n",
       "\n",
       "   5._Lower_supervisory_and_technical_occupations  \\\n",
       "0                                              99   \n",
       "1                                              95   \n",
       "2                                             122   \n",
       "\n",
       "   6._Semi-routine_occupations  7._Routine_occupations  L14.1_Never_worked  \\\n",
       "0                          180                     134                  14   \n",
       "1                          244                     189                  11   \n",
       "2                          264                     186                   8   \n",
       "\n",
       "   L14.2_Long-term_unemployed  L15_Full-time_students  \\\n",
       "0                          18                       3   \n",
       "1                          16                       5   \n",
       "2                          23                       3   \n",
       "\n",
       "   L17_Not_classifiable_for_other_reasons  \n",
       "0                                       0  \n",
       "1                                       0  \n",
       "2                                       0  "
      ],
      "text/html": "<div>\n<style scoped>\n    .dataframe tbody tr th:only-of-type {\n        vertical-align: middle;\n    }\n\n    .dataframe tbody tr th {\n        vertical-align: top;\n    }\n\n    .dataframe thead th {\n        text-align: right;\n    }\n</style>\n<table border=\"1\" class=\"dataframe\">\n  <thead>\n    <tr style=\"text-align: right;\">\n      <th></th>\n      <th>MSOA_2011</th>\n      <th>MSOA_code_2011</th>\n      <th>1.1_Large_employers_and_higher_managerial_and_administrative_occupations</th>\n      <th>1.2_Higher_professional_occupations</th>\n      <th>2._Lower_managerial,_administrative_and_professional_occupations</th>\n      <th>3._Intermediate_occupations</th>\n      <th>4._Small_employers_and_own_account_workers</th>\n      <th>5._Lower_supervisory_and_technical_occupations</th>\n      <th>6._Semi-routine_occupations</th>\n      <th>7._Routine_occupations</th>\n      <th>L14.1_Never_worked</th>\n      <th>L14.2_Long-term_unemployed</th>\n      <th>L15_Full-time_students</th>\n      <th>L17_Not_classifiable_for_other_reasons</th>\n    </tr>\n  </thead>\n  <tbody>\n    <tr>\n      <th>0</th>\n      <td>Darlington 001</td>\n      <td>E02002559</td>\n      <td>75</td>\n      <td>179</td>\n      <td>503</td>\n      <td>240</td>\n      <td>281</td>\n      <td>99</td>\n      <td>180</td>\n      <td>134</td>\n      <td>14</td>\n      <td>18</td>\n      <td>3</td>\n      <td>0</td>\n    </tr>\n    <tr>\n      <th>1</th>\n      <td>Darlington 002</td>\n      <td>E02002560</td>\n      <td>28</td>\n      <td>42</td>\n      <td>212</td>\n      <td>179</td>\n      <td>124</td>\n      <td>95</td>\n      <td>244</td>\n      <td>189</td>\n      <td>11</td>\n      <td>16</td>\n      <td>5</td>\n      <td>0</td>\n    </tr>\n    <tr>\n      <th>2</th>\n      <td>Darlington 003</td>\n      <td>E02002561</td>\n      <td>55</td>\n      <td>81</td>\n      <td>327</td>\n      <td>266</td>\n      <td>116</td>\n      <td>122</td>\n      <td>264</td>\n      <td>186</td>\n      <td>8</td>\n      <td>23</td>\n      <td>3</td>\n      <td>0</td>\n    </tr>\n  </tbody>\n</table>\n</div>"
     },
     "metadata": {},
     "execution_count": 7
    }
   ],
   "source": [
    "df3 = pd.read_csv(\"./data/census/NS_SeC_50_to_64.csv\")\n",
    "df3.head(3)"
   ]
  },
  {
   "cell_type": "code",
   "execution_count": 8,
   "metadata": {},
   "outputs": [
    {
     "output_type": "execute_result",
     "data": {
      "text/plain": [
       "        MSOA_2011 MSOA_code_2011  \\\n",
       "0  Darlington 001      E02002559   \n",
       "1  Darlington 002      E02002560   \n",
       "2  Darlington 003      E02002561   \n",
       "\n",
       "   1.1_Large_employers_and_higher_managerial_and_administrative_occupations  \\\n",
       "0                                               40.0                          \n",
       "1                                               13.0                          \n",
       "2                                               22.0                          \n",
       "\n",
       "   1.2_Higher_professional_occupations  \\\n",
       "0                                100.0   \n",
       "1                                 20.0   \n",
       "2                                 37.0   \n",
       "\n",
       "   2._Lower_managerial,_administrative_and_professional_occupations  \\\n",
       "0                                              295.0                  \n",
       "1                                              120.0                  \n",
       "2                                              168.0                  \n",
       "\n",
       "   3._Intermediate_occupations  4._Small_employers_and_own_account_workers  \\\n",
       "0                        201.0                                       228.0   \n",
       "1                        138.0                                        68.0   \n",
       "2                        162.0                                        70.0   \n",
       "\n",
       "   5._Lower_supervisory_and_technical_occupations  \\\n",
       "0                                           104.0   \n",
       "1                                           127.0   \n",
       "2                                           112.0   \n",
       "\n",
       "   6._Semi-routine_occupations  7._Routine_occupations  L14.1_Never_worked  \\\n",
       "0                        178.0                   127.0                37.0   \n",
       "1                        220.0                   199.0                32.0   \n",
       "2                        205.0                   169.0                41.0   \n",
       "\n",
       "   L14.2_Long-term_unemployed  L15_Full-time_students  \\\n",
       "0                         5.0                     1.0   \n",
       "1                         0.0                     1.0   \n",
       "2                         0.0                     2.0   \n",
       "\n",
       "   L17_Not_classifiable_for_other_reasons  \n",
       "0                                     0.0  \n",
       "1                                     0.0  \n",
       "2                                     0.0  "
      ],
      "text/html": "<div>\n<style scoped>\n    .dataframe tbody tr th:only-of-type {\n        vertical-align: middle;\n    }\n\n    .dataframe tbody tr th {\n        vertical-align: top;\n    }\n\n    .dataframe thead th {\n        text-align: right;\n    }\n</style>\n<table border=\"1\" class=\"dataframe\">\n  <thead>\n    <tr style=\"text-align: right;\">\n      <th></th>\n      <th>MSOA_2011</th>\n      <th>MSOA_code_2011</th>\n      <th>1.1_Large_employers_and_higher_managerial_and_administrative_occupations</th>\n      <th>1.2_Higher_professional_occupations</th>\n      <th>2._Lower_managerial,_administrative_and_professional_occupations</th>\n      <th>3._Intermediate_occupations</th>\n      <th>4._Small_employers_and_own_account_workers</th>\n      <th>5._Lower_supervisory_and_technical_occupations</th>\n      <th>6._Semi-routine_occupations</th>\n      <th>7._Routine_occupations</th>\n      <th>L14.1_Never_worked</th>\n      <th>L14.2_Long-term_unemployed</th>\n      <th>L15_Full-time_students</th>\n      <th>L17_Not_classifiable_for_other_reasons</th>\n    </tr>\n  </thead>\n  <tbody>\n    <tr>\n      <th>0</th>\n      <td>Darlington 001</td>\n      <td>E02002559</td>\n      <td>40.0</td>\n      <td>100.0</td>\n      <td>295.0</td>\n      <td>201.0</td>\n      <td>228.0</td>\n      <td>104.0</td>\n      <td>178.0</td>\n      <td>127.0</td>\n      <td>37.0</td>\n      <td>5.0</td>\n      <td>1.0</td>\n      <td>0.0</td>\n    </tr>\n    <tr>\n      <th>1</th>\n      <td>Darlington 002</td>\n      <td>E02002560</td>\n      <td>13.0</td>\n      <td>20.0</td>\n      <td>120.0</td>\n      <td>138.0</td>\n      <td>68.0</td>\n      <td>127.0</td>\n      <td>220.0</td>\n      <td>199.0</td>\n      <td>32.0</td>\n      <td>0.0</td>\n      <td>1.0</td>\n      <td>0.0</td>\n    </tr>\n    <tr>\n      <th>2</th>\n      <td>Darlington 003</td>\n      <td>E02002561</td>\n      <td>22.0</td>\n      <td>37.0</td>\n      <td>168.0</td>\n      <td>162.0</td>\n      <td>70.0</td>\n      <td>112.0</td>\n      <td>205.0</td>\n      <td>169.0</td>\n      <td>41.0</td>\n      <td>0.0</td>\n      <td>2.0</td>\n      <td>0.0</td>\n    </tr>\n  </tbody>\n</table>\n</div>"
     },
     "metadata": {},
     "execution_count": 8
    }
   ],
   "source": [
    "df4 = pd.read_csv(\"./data/census/NS_SeC_65_to_over.csv\")\n",
    "df4.head(3)"
   ]
  },
  {
   "source": [
    "Lets look at the MSOAs with the highest number of students in the 16 to 24 age range."
   ],
   "cell_type": "markdown",
   "metadata": {}
  },
  {
   "cell_type": "code",
   "execution_count": 72,
   "metadata": {
    "tags": []
   },
   "outputs": [
    {
     "output_type": "execute_result",
     "data": {
      "text/plain": [
       "                MSOA_2011  L15_Full_time_students\n",
       "5780           Oxford 008                    9581\n",
       "2911       Birmingham 096                    9445\n",
       "39      County Durham 030                    8378\n",
       "1908            Leeds 110                    7236\n",
       "7069          Cardiff 032                    7183\n",
       "...                   ...                     ...\n",
       "5217   West Berkshire 010                     124\n",
       "6495       East Devon 012                     121\n",
       "6622          Purbeck 005                     121\n",
       "6555       South Hams 012                     111\n",
       "6269  Isles of Scilly 001                      16\n",
       "\n",
       "[7201 rows x 2 columns]"
      ],
      "text/html": "<div>\n<style scoped>\n    .dataframe tbody tr th:only-of-type {\n        vertical-align: middle;\n    }\n\n    .dataframe tbody tr th {\n        vertical-align: top;\n    }\n\n    .dataframe thead th {\n        text-align: right;\n    }\n</style>\n<table border=\"1\" class=\"dataframe\">\n  <thead>\n    <tr style=\"text-align: right;\">\n      <th></th>\n      <th>MSOA_2011</th>\n      <th>L15_Full_time_students</th>\n    </tr>\n  </thead>\n  <tbody>\n    <tr>\n      <th>5780</th>\n      <td>Oxford 008</td>\n      <td>9581</td>\n    </tr>\n    <tr>\n      <th>2911</th>\n      <td>Birmingham 096</td>\n      <td>9445</td>\n    </tr>\n    <tr>\n      <th>39</th>\n      <td>County Durham 030</td>\n      <td>8378</td>\n    </tr>\n    <tr>\n      <th>1908</th>\n      <td>Leeds 110</td>\n      <td>7236</td>\n    </tr>\n    <tr>\n      <th>7069</th>\n      <td>Cardiff 032</td>\n      <td>7183</td>\n    </tr>\n    <tr>\n      <th>...</th>\n      <td>...</td>\n      <td>...</td>\n    </tr>\n    <tr>\n      <th>5217</th>\n      <td>West Berkshire 010</td>\n      <td>124</td>\n    </tr>\n    <tr>\n      <th>6495</th>\n      <td>East Devon 012</td>\n      <td>121</td>\n    </tr>\n    <tr>\n      <th>6622</th>\n      <td>Purbeck 005</td>\n      <td>121</td>\n    </tr>\n    <tr>\n      <th>6555</th>\n      <td>South Hams 012</td>\n      <td>111</td>\n    </tr>\n    <tr>\n      <th>6269</th>\n      <td>Isles of Scilly 001</td>\n      <td>16</td>\n    </tr>\n  </tbody>\n</table>\n<p>7201 rows × 2 columns</p>\n</div>"
     },
     "metadata": {},
     "execution_count": 72
    }
   ],
   "source": [
    "students_16_24 = df1[[\"MSOA_2011\", \"L15_Full_time_students\"]]\n",
    "students_16_24.sort_values([\"L15_Full_time_students\"], ascending=False)"
   ]
  },
  {
   "source": [
    "Now lets see the highest number of Higheer Professional occupation between the 25 to 49 age range"
   ],
   "cell_type": "markdown",
   "metadata": {}
  },
  {
   "cell_type": "code",
   "execution_count": 74,
   "metadata": {},
   "outputs": [
    {
     "output_type": "execute_result",
     "data": {
      "text/plain": [
       "                        MSOA_2011  1.2_Higher_professional_occupations\n",
       "4272                Southwark 003                                 2448\n",
       "4344               Wandsworth 010                                 1825\n",
       "4330            Tower Hamlets 028                                 1772\n",
       "5154                  Reading 011                                 1697\n",
       "4342               Wandsworth 008                                 1659\n",
       "...                           ...                                  ...\n",
       "1308       Kingston upon Hull 002                                   23\n",
       "2263             East Lindsey 006                                   22\n",
       "1309       Kingston upon Hull 003                                   17\n",
       "1344  North East Lincolnshire 006                                   17\n",
       "1340  North East Lincolnshire 002                                   13\n",
       "\n",
       "[7201 rows x 2 columns]"
      ],
      "text/html": "<div>\n<style scoped>\n    .dataframe tbody tr th:only-of-type {\n        vertical-align: middle;\n    }\n\n    .dataframe tbody tr th {\n        vertical-align: top;\n    }\n\n    .dataframe thead th {\n        text-align: right;\n    }\n</style>\n<table border=\"1\" class=\"dataframe\">\n  <thead>\n    <tr style=\"text-align: right;\">\n      <th></th>\n      <th>MSOA_2011</th>\n      <th>1.2_Higher_professional_occupations</th>\n    </tr>\n  </thead>\n  <tbody>\n    <tr>\n      <th>4272</th>\n      <td>Southwark 003</td>\n      <td>2448</td>\n    </tr>\n    <tr>\n      <th>4344</th>\n      <td>Wandsworth 010</td>\n      <td>1825</td>\n    </tr>\n    <tr>\n      <th>4330</th>\n      <td>Tower Hamlets 028</td>\n      <td>1772</td>\n    </tr>\n    <tr>\n      <th>5154</th>\n      <td>Reading 011</td>\n      <td>1697</td>\n    </tr>\n    <tr>\n      <th>4342</th>\n      <td>Wandsworth 008</td>\n      <td>1659</td>\n    </tr>\n    <tr>\n      <th>...</th>\n      <td>...</td>\n      <td>...</td>\n    </tr>\n    <tr>\n      <th>1308</th>\n      <td>Kingston upon Hull 002</td>\n      <td>23</td>\n    </tr>\n    <tr>\n      <th>2263</th>\n      <td>East Lindsey 006</td>\n      <td>22</td>\n    </tr>\n    <tr>\n      <th>1309</th>\n      <td>Kingston upon Hull 003</td>\n      <td>17</td>\n    </tr>\n    <tr>\n      <th>1344</th>\n      <td>North East Lincolnshire 006</td>\n      <td>17</td>\n    </tr>\n    <tr>\n      <th>1340</th>\n      <td>North East Lincolnshire 002</td>\n      <td>13</td>\n    </tr>\n  </tbody>\n</table>\n<p>7201 rows × 2 columns</p>\n</div>"
     },
     "metadata": {},
     "execution_count": 74
    }
   ],
   "source": [
    "higher_professional_25_49 = df2[[\"MSOA_2011\", \"1.2_Higher_professional_occupations\"]]\n",
    "higher_professional_25_49.sort_values([\"1.2_Higher_professional_occupations\"], ascending=False)"
   ]
  },
  {
   "source": [
    "No clear connection there really. "
   ],
   "cell_type": "markdown",
   "metadata": {}
  },
  {
   "source": [
    "Let add an extra column to the dataframe named Total that holds the total number of persons in each MSOA"
   ],
   "cell_type": "markdown",
   "metadata": {}
  },
  {
   "cell_type": "code",
   "execution_count": 90,
   "metadata": {},
   "outputs": [
    {
     "output_type": "execute_result",
     "data": {
      "text/plain": [
       "        MSOA_2011 MSOA_code_2011  \\\n",
       "0  Darlington 001      E02002559   \n",
       "\n",
       "   1.1_Large_employers_and_higher_managerial_and_administrative_occupations  \\\n",
       "0                                                  2                          \n",
       "\n",
       "   1.2_Higher_professional_occupations  \\\n",
       "0                                   14   \n",
       "\n",
       "   2._Lower_managerial,_administrative_and_professional_occupations  \\\n",
       "0                                                 77                  \n",
       "\n",
       "   3._Intermediate_occupations  4._Small_employers_and_own_account_workers  \\\n",
       "0                           89                                          11   \n",
       "\n",
       "   5._Lower_supervisory_and_technical_occupations  \\\n",
       "0                                              39   \n",
       "\n",
       "   6._Semi_routine_occupations  7._Routine_occupations  L14.1_Never_worked  \\\n",
       "0                           92                      66                  23   \n",
       "\n",
       "   L14.2_Long_term_unemployed  L15_Full_time_students  \\\n",
       "0                           3                     321   \n",
       "\n",
       "   L17_Not_classifiable_for_other_reasons  Total  \n",
       "0                                       0    737  "
      ],
      "text/html": "<div>\n<style scoped>\n    .dataframe tbody tr th:only-of-type {\n        vertical-align: middle;\n    }\n\n    .dataframe tbody tr th {\n        vertical-align: top;\n    }\n\n    .dataframe thead th {\n        text-align: right;\n    }\n</style>\n<table border=\"1\" class=\"dataframe\">\n  <thead>\n    <tr style=\"text-align: right;\">\n      <th></th>\n      <th>MSOA_2011</th>\n      <th>MSOA_code_2011</th>\n      <th>1.1_Large_employers_and_higher_managerial_and_administrative_occupations</th>\n      <th>1.2_Higher_professional_occupations</th>\n      <th>2._Lower_managerial,_administrative_and_professional_occupations</th>\n      <th>3._Intermediate_occupations</th>\n      <th>4._Small_employers_and_own_account_workers</th>\n      <th>5._Lower_supervisory_and_technical_occupations</th>\n      <th>6._Semi_routine_occupations</th>\n      <th>7._Routine_occupations</th>\n      <th>L14.1_Never_worked</th>\n      <th>L14.2_Long_term_unemployed</th>\n      <th>L15_Full_time_students</th>\n      <th>L17_Not_classifiable_for_other_reasons</th>\n      <th>Total</th>\n    </tr>\n  </thead>\n  <tbody>\n    <tr>\n      <th>0</th>\n      <td>Darlington 001</td>\n      <td>E02002559</td>\n      <td>2</td>\n      <td>14</td>\n      <td>77</td>\n      <td>89</td>\n      <td>11</td>\n      <td>39</td>\n      <td>92</td>\n      <td>66</td>\n      <td>23</td>\n      <td>3</td>\n      <td>321</td>\n      <td>0</td>\n      <td>737</td>\n    </tr>\n  </tbody>\n</table>\n</div>"
     },
     "metadata": {},
     "execution_count": 90
    }
   ],
   "source": [
    "df1[\"Total\"] = df1.iloc[:, 2:13].sum(axis=1)\n",
    "df1.head(1)"
   ]
  },
  {
   "source": [
    "Lets look at the MSOA in Blackpool with the highest number of full time students and compare it with the Oxford."
   ],
   "cell_type": "markdown",
   "metadata": {}
  },
  {
   "cell_type": "code",
   "execution_count": 128,
   "metadata": {},
   "outputs": [
    {
     "output_type": "execute_result",
     "data": {
      "text/plain": [
       "         MSOA_2011 MSOA_code_2011  \\\n",
       "366  Blackpool 009      E02002641   \n",
       "367  Blackpool 010      E02002642   \n",
       "372  Blackpool 015      E02002647   \n",
       "\n",
       "     1.1_Large_employers_and_higher_managerial_and_administrative_occupations  \\\n",
       "366                                                  1                          \n",
       "367                                                  2                          \n",
       "372                                                  1                          \n",
       "\n",
       "     1.2_Higher_professional_occupations  \\\n",
       "366                                   16   \n",
       "367                                    5   \n",
       "372                                   13   \n",
       "\n",
       "     2._Lower_managerial,_administrative_and_professional_occupations  \\\n",
       "366                                                 68                  \n",
       "367                                                 47                  \n",
       "372                                                 48                  \n",
       "\n",
       "     3._Intermediate_occupations  4._Small_employers_and_own_account_workers  \\\n",
       "366                           89                                          19   \n",
       "367                           46                                          19   \n",
       "372                           84                                          26   \n",
       "\n",
       "     5._Lower_supervisory_and_technical_occupations  \\\n",
       "366                                              45   \n",
       "367                                              36   \n",
       "372                                              59   \n",
       "\n",
       "     6._Semi_routine_occupations  7._Routine_occupations  L14.1_Never_worked  \\\n",
       "366                          164                      88                  63   \n",
       "367                          175                     156                 134   \n",
       "372                          188                     109                  84   \n",
       "\n",
       "     L14.2_Long_term_unemployed  L15_Full_time_students  \\\n",
       "366                          20                     388   \n",
       "367                          41                     367   \n",
       "372                          14                     362   \n",
       "\n",
       "     L17_Not_classifiable_for_other_reasons  Total  \n",
       "366                                       0    961  \n",
       "367                                       0   1028  \n",
       "372                                       0    988  "
      ],
      "text/html": "<div>\n<style scoped>\n    .dataframe tbody tr th:only-of-type {\n        vertical-align: middle;\n    }\n\n    .dataframe tbody tr th {\n        vertical-align: top;\n    }\n\n    .dataframe thead th {\n        text-align: right;\n    }\n</style>\n<table border=\"1\" class=\"dataframe\">\n  <thead>\n    <tr style=\"text-align: right;\">\n      <th></th>\n      <th>MSOA_2011</th>\n      <th>MSOA_code_2011</th>\n      <th>1.1_Large_employers_and_higher_managerial_and_administrative_occupations</th>\n      <th>1.2_Higher_professional_occupations</th>\n      <th>2._Lower_managerial,_administrative_and_professional_occupations</th>\n      <th>3._Intermediate_occupations</th>\n      <th>4._Small_employers_and_own_account_workers</th>\n      <th>5._Lower_supervisory_and_technical_occupations</th>\n      <th>6._Semi_routine_occupations</th>\n      <th>7._Routine_occupations</th>\n      <th>L14.1_Never_worked</th>\n      <th>L14.2_Long_term_unemployed</th>\n      <th>L15_Full_time_students</th>\n      <th>L17_Not_classifiable_for_other_reasons</th>\n      <th>Total</th>\n    </tr>\n  </thead>\n  <tbody>\n    <tr>\n      <th>366</th>\n      <td>Blackpool 009</td>\n      <td>E02002641</td>\n      <td>1</td>\n      <td>16</td>\n      <td>68</td>\n      <td>89</td>\n      <td>19</td>\n      <td>45</td>\n      <td>164</td>\n      <td>88</td>\n      <td>63</td>\n      <td>20</td>\n      <td>388</td>\n      <td>0</td>\n      <td>961</td>\n    </tr>\n    <tr>\n      <th>367</th>\n      <td>Blackpool 010</td>\n      <td>E02002642</td>\n      <td>2</td>\n      <td>5</td>\n      <td>47</td>\n      <td>46</td>\n      <td>19</td>\n      <td>36</td>\n      <td>175</td>\n      <td>156</td>\n      <td>134</td>\n      <td>41</td>\n      <td>367</td>\n      <td>0</td>\n      <td>1028</td>\n    </tr>\n    <tr>\n      <th>372</th>\n      <td>Blackpool 015</td>\n      <td>E02002647</td>\n      <td>1</td>\n      <td>13</td>\n      <td>48</td>\n      <td>84</td>\n      <td>26</td>\n      <td>59</td>\n      <td>188</td>\n      <td>109</td>\n      <td>84</td>\n      <td>14</td>\n      <td>362</td>\n      <td>0</td>\n      <td>988</td>\n    </tr>\n  </tbody>\n</table>\n</div>"
     },
     "metadata": {},
     "execution_count": 128
    }
   ],
   "source": [
    "blackpool = df1.loc[df1.MSOA_2011.str.contains(\"Blackpool\")]\n",
    "blackpool.sort_values([\"L15_Full_time_students\"], ascending=False).head(3)"
   ]
  },
  {
   "cell_type": "code",
   "execution_count": 129,
   "metadata": {},
   "outputs": [
    {
     "output_type": "execute_result",
     "data": {
      "text/plain": [
       "       MSOA_2011 MSOA_code_2011  \\\n",
       "5780  Oxford 008      E02005947   \n",
       "5783  Oxford 011      E02005950   \n",
       "5778  Oxford 006      E02005945   \n",
       "\n",
       "      1.1_Large_employers_and_higher_managerial_and_administrative_occupations  \\\n",
       "5780                                                  0                          \n",
       "5783                                                 12                          \n",
       "5778                                                  0                          \n",
       "\n",
       "      1.2_Higher_professional_occupations  \\\n",
       "5780                                   30   \n",
       "5783                                   74   \n",
       "5778                                   61   \n",
       "\n",
       "      2._Lower_managerial,_administrative_and_professional_occupations  \\\n",
       "5780                                                 58                  \n",
       "5783                                                193                  \n",
       "5778                                                116                  \n",
       "\n",
       "      3._Intermediate_occupations  4._Small_employers_and_own_account_workers  \\\n",
       "5780                           42                                          10   \n",
       "5783                          106                                          23   \n",
       "5778                           60                                          10   \n",
       "\n",
       "      5._Lower_supervisory_and_technical_occupations  \\\n",
       "5780                                              16   \n",
       "5783                                              41   \n",
       "5778                                              38   \n",
       "\n",
       "      6._Semi_routine_occupations  7._Routine_occupations  L14.1_Never_worked  \\\n",
       "5780                           46                      48                  36   \n",
       "5783                          108                      80                  68   \n",
       "5778                           76                      54                  36   \n",
       "\n",
       "      L14.2_Long_term_unemployed  L15_Full_time_students  \\\n",
       "5780                           9                    9581   \n",
       "5783                           5                    3860   \n",
       "5778                           5                    2221   \n",
       "\n",
       "      L17_Not_classifiable_for_other_reasons  Total  \n",
       "5780                                       0   9876  \n",
       "5783                                       0   4570  \n",
       "5778                                       0   2677  "
      ],
      "text/html": "<div>\n<style scoped>\n    .dataframe tbody tr th:only-of-type {\n        vertical-align: middle;\n    }\n\n    .dataframe tbody tr th {\n        vertical-align: top;\n    }\n\n    .dataframe thead th {\n        text-align: right;\n    }\n</style>\n<table border=\"1\" class=\"dataframe\">\n  <thead>\n    <tr style=\"text-align: right;\">\n      <th></th>\n      <th>MSOA_2011</th>\n      <th>MSOA_code_2011</th>\n      <th>1.1_Large_employers_and_higher_managerial_and_administrative_occupations</th>\n      <th>1.2_Higher_professional_occupations</th>\n      <th>2._Lower_managerial,_administrative_and_professional_occupations</th>\n      <th>3._Intermediate_occupations</th>\n      <th>4._Small_employers_and_own_account_workers</th>\n      <th>5._Lower_supervisory_and_technical_occupations</th>\n      <th>6._Semi_routine_occupations</th>\n      <th>7._Routine_occupations</th>\n      <th>L14.1_Never_worked</th>\n      <th>L14.2_Long_term_unemployed</th>\n      <th>L15_Full_time_students</th>\n      <th>L17_Not_classifiable_for_other_reasons</th>\n      <th>Total</th>\n    </tr>\n  </thead>\n  <tbody>\n    <tr>\n      <th>5780</th>\n      <td>Oxford 008</td>\n      <td>E02005947</td>\n      <td>0</td>\n      <td>30</td>\n      <td>58</td>\n      <td>42</td>\n      <td>10</td>\n      <td>16</td>\n      <td>46</td>\n      <td>48</td>\n      <td>36</td>\n      <td>9</td>\n      <td>9581</td>\n      <td>0</td>\n      <td>9876</td>\n    </tr>\n    <tr>\n      <th>5783</th>\n      <td>Oxford 011</td>\n      <td>E02005950</td>\n      <td>12</td>\n      <td>74</td>\n      <td>193</td>\n      <td>106</td>\n      <td>23</td>\n      <td>41</td>\n      <td>108</td>\n      <td>80</td>\n      <td>68</td>\n      <td>5</td>\n      <td>3860</td>\n      <td>0</td>\n      <td>4570</td>\n    </tr>\n    <tr>\n      <th>5778</th>\n      <td>Oxford 006</td>\n      <td>E02005945</td>\n      <td>0</td>\n      <td>61</td>\n      <td>116</td>\n      <td>60</td>\n      <td>10</td>\n      <td>38</td>\n      <td>76</td>\n      <td>54</td>\n      <td>36</td>\n      <td>5</td>\n      <td>2221</td>\n      <td>0</td>\n      <td>2677</td>\n    </tr>\n  </tbody>\n</table>\n</div>"
     },
     "metadata": {},
     "execution_count": 129
    }
   ],
   "source": [
    "oxford = df1.loc[df1.MSOA_2011.str.contains(\"Oxford\")]\n",
    "oxford.sort_values([\"L15_Full_time_students\"], ascending=False).head(3)"
   ]
  },
  {
   "source": [
    "Oxford 008 has almost 24 times the amount of full time students than Blackpool 009. That gap did surpirse me.\n",
    "There is something fishy here. Lets look at the total number of MSOAs for each."
   ],
   "cell_type": "markdown",
   "metadata": {}
  },
  {
   "cell_type": "code",
   "execution_count": 127,
   "metadata": {},
   "outputs": [
    {
     "output_type": "execute_result",
     "data": {
      "text/plain": [
       "19"
      ]
     },
     "metadata": {},
     "execution_count": 127
    }
   ],
   "source": [
    "len(blackpool)"
   ]
  },
  {
   "cell_type": "code",
   "execution_count": 126,
   "metadata": {},
   "outputs": [
    {
     "output_type": "execute_result",
     "data": {
      "text/plain": [
       "53"
      ]
     },
     "metadata": {},
     "execution_count": 126
    }
   ],
   "source": [
    "len(oxford)"
   ]
  },
  {
   "source": [
    "That explains things. None of this is therefore useful."
   ],
   "cell_type": "markdown",
   "metadata": {}
  }
 ]
}