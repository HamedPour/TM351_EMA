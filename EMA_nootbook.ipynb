{
 "metadata": {
  "language_info": {
   "codemirror_mode": {
    "name": "ipython",
    "version": 3
   },
   "file_extension": ".py",
   "mimetype": "text/x-python",
   "name": "python",
   "nbconvert_exporter": "python",
   "pygments_lexer": "ipython3",
   "version": "3.8.8-final"
  },
  "orig_nbformat": 2,
  "kernelspec": {
   "name": "python388jvsc74a57bd06c313c17cd49812660d49233b46c691bbb6b1e704907687e4545c48258cc969b",
   "display_name": "Python 3.8.8 64-bit ('emsx_3.8.8')"
  },
  "metadata": {
   "interpreter": {
    "hash": "6c313c17cd49812660d49233b46c691bbb6b1e704907687e4545c48258cc969b"
   }
  }
 },
 "nbformat": 4,
 "nbformat_minor": 2,
 "cells": [
  {
   "source": [
    "# Data Cleaning"
   ],
   "cell_type": "markdown",
   "metadata": {}
  },
  {
   "source": [
    "## Indicies of Deprivation 2015 Files"
   ],
   "cell_type": "markdown",
   "metadata": {}
  },
  {
   "source": [
    "I removed all empty spaces between the column headings in the \"File_2_ID2015_Domains_of_deprivation.xlsx\" file to make it easier to work with and renamed the file to \"ID2015_Domains_of_deprivation.xlsa\"."
   ],
   "cell_type": "markdown",
   "metadata": {}
  },
  {
   "source": [],
   "cell_type": "markdown",
   "metadata": {}
  }
 ]
}