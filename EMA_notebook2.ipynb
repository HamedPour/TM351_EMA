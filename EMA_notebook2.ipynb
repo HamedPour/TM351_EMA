{
 "metadata": {
  "language_info": {
   "codemirror_mode": {
    "name": "ipython",
    "version": 3
   },
   "file_extension": ".py",
   "mimetype": "text/x-python",
   "name": "python",
   "nbconvert_exporter": "python",
   "pygments_lexer": "ipython3",
   "version": "3.8.8"
  },
  "orig_nbformat": 2,
  "kernelspec": {
   "name": "python388jvsc74a57bd06c313c17cd49812660d49233b46c691bbb6b1e704907687e4545c48258cc969b",
   "display_name": "Python 3.8.8 64-bit ('emsx_3.8.8')"
  },
  "metadata": {
   "interpreter": {
    "hash": "6c313c17cd49812660d49233b46c691bbb6b1e704907687e4545c48258cc969b"
   }
  }
 },
 "nbformat": 4,
 "nbformat_minor": 2,
 "cells": [
  {
   "cell_type": "code",
   "execution_count": 2,
   "metadata": {},
   "outputs": [],
   "source": [
    "import pandas as pd"
   ]
  },
  {
   "source": [
    "### Importing Dataframes"
   ],
   "cell_type": "markdown",
   "metadata": {}
  },
  {
   "cell_type": "code",
   "execution_count": 3,
   "metadata": {},
   "outputs": [],
   "source": [
    "data = './data/census/output-area-classification.csv'\n",
    "classifier_df = pd.read_csv(data)"
   ]
  },
  {
   "cell_type": "code",
   "execution_count": 4,
   "metadata": {},
   "outputs": [],
   "source": [
    "data = './data/Deprivation_Index/ID2015_Domains_of_deprivation.xlsx'\n",
    "dod_df = pd.read_excel(data, sheet_name='ID2015 Domains')"
   ]
  },
  {
   "cell_type": "code",
   "execution_count": 5,
   "metadata": {},
   "outputs": [
    {
     "output_type": "execute_result",
     "data": {
      "text/plain": [
       "  LSOA_code_2011 LSOA_name_2011 Local_Authority_District_code_2013  \\\n",
       "0      E01031349      Adur 001A                          E07000223   \n",
       "1      E01031350      Adur 001B                          E07000223   \n",
       "\n",
       "  Local_Authority_District_name_2013  Index_of_Multiple_Deprivation_IMD_Rank  \\\n",
       "0                               Adur                                   21352   \n",
       "1                               Adur                                    8864   \n",
       "\n",
       "   Index_of_Multiple_Deprivation_IMD_Decile  Income_Rank  Income_Decile  \\\n",
       "0                                         7        18992              6   \n",
       "1                                         3         9233              3   \n",
       "\n",
       "   Employment_Rank  Employment_Decile  Education_Skills_and_Training_Rank  \\\n",
       "0            19305                  6                               13727   \n",
       "1             7879                  3                                6969   \n",
       "\n",
       "   Education_Skills_and_Training_Decile  \\\n",
       "0                                     5   \n",
       "1                                     3   \n",
       "\n",
       "   Health_Deprivation_and_Disability_Rank  \\\n",
       "0                                   25876   \n",
       "1                                    6883   \n",
       "\n",
       "   Health_Deprivation_and_Disability_Decile  Crime_Rank  Crime_Decile  \\\n",
       "0                                         8       12817             4   \n",
       "1                                         3       12781             4   \n",
       "\n",
       "   Barriers_to_Housing_and_Services_Rank  \\\n",
       "0                                  28166   \n",
       "1                                  11399   \n",
       "\n",
       "   Barriers_to_Housing_and_Services_Decile  Living_Environment_Rank  \\\n",
       "0                                        9                    18367   \n",
       "1                                        4                    16242   \n",
       "\n",
       "   Living_Environment_Decile  \n",
       "0                          6  \n",
       "1                          5  "
      ],
      "text/html": "<div>\n<style scoped>\n    .dataframe tbody tr th:only-of-type {\n        vertical-align: middle;\n    }\n\n    .dataframe tbody tr th {\n        vertical-align: top;\n    }\n\n    .dataframe thead th {\n        text-align: right;\n    }\n</style>\n<table border=\"1\" class=\"dataframe\">\n  <thead>\n    <tr style=\"text-align: right;\">\n      <th></th>\n      <th>LSOA_code_2011</th>\n      <th>LSOA_name_2011</th>\n      <th>Local_Authority_District_code_2013</th>\n      <th>Local_Authority_District_name_2013</th>\n      <th>Index_of_Multiple_Deprivation_IMD_Rank</th>\n      <th>Index_of_Multiple_Deprivation_IMD_Decile</th>\n      <th>Income_Rank</th>\n      <th>Income_Decile</th>\n      <th>Employment_Rank</th>\n      <th>Employment_Decile</th>\n      <th>Education_Skills_and_Training_Rank</th>\n      <th>Education_Skills_and_Training_Decile</th>\n      <th>Health_Deprivation_and_Disability_Rank</th>\n      <th>Health_Deprivation_and_Disability_Decile</th>\n      <th>Crime_Rank</th>\n      <th>Crime_Decile</th>\n      <th>Barriers_to_Housing_and_Services_Rank</th>\n      <th>Barriers_to_Housing_and_Services_Decile</th>\n      <th>Living_Environment_Rank</th>\n      <th>Living_Environment_Decile</th>\n    </tr>\n  </thead>\n  <tbody>\n    <tr>\n      <th>0</th>\n      <td>E01031349</td>\n      <td>Adur 001A</td>\n      <td>E07000223</td>\n      <td>Adur</td>\n      <td>21352</td>\n      <td>7</td>\n      <td>18992</td>\n      <td>6</td>\n      <td>19305</td>\n      <td>6</td>\n      <td>13727</td>\n      <td>5</td>\n      <td>25876</td>\n      <td>8</td>\n      <td>12817</td>\n      <td>4</td>\n      <td>28166</td>\n      <td>9</td>\n      <td>18367</td>\n      <td>6</td>\n    </tr>\n    <tr>\n      <th>1</th>\n      <td>E01031350</td>\n      <td>Adur 001B</td>\n      <td>E07000223</td>\n      <td>Adur</td>\n      <td>8864</td>\n      <td>3</td>\n      <td>9233</td>\n      <td>3</td>\n      <td>7879</td>\n      <td>3</td>\n      <td>6969</td>\n      <td>3</td>\n      <td>6883</td>\n      <td>3</td>\n      <td>12781</td>\n      <td>4</td>\n      <td>11399</td>\n      <td>4</td>\n      <td>16242</td>\n      <td>5</td>\n    </tr>\n  </tbody>\n</table>\n</div>"
     },
     "metadata": {},
     "execution_count": 5
    }
   ],
   "source": [
    "dod_df.head(2)"
   ]
  },
  {
   "cell_type": "code",
   "execution_count": 6,
   "metadata": {},
   "outputs": [
    {
     "output_type": "execute_result",
     "data": {
      "text/plain": [
       "      OA11CD OAC11CD                          OAC11NM   LSOA11CD  \\\n",
       "0  E00070834     1a2  Established Farming Communities  E01014030   \n",
       "1  E00070835     1a2  Established Farming Communities  E01014028   \n",
       "\n",
       "             LSOA11NM SOAC11CD                     SOAC11NM   MSOA11CD  \\\n",
       "0  Herefordshire 009D       2b  Prospering countryside life  E02002913   \n",
       "1  Herefordshire 009B       2a  Ageing rural neighbourhoods  E02002913   \n",
       "\n",
       "            MSOA11NM    LAD17CD                   LAD17NM LACCD  \\\n",
       "0  Herefordshire 009  E06000019  Herefordshire, County of  3a2r   \n",
       "1  Herefordshire 009  E06000019  Herefordshire, County of  3a2r   \n",
       "\n",
       "                                  LACNM    RGN11CD        RGN11NM   CTRY11CD  \\\n",
       "0  Sparse English and Welsh Countryside  E12000005  West Midlands  E92000001   \n",
       "1  Sparse English and Welsh Countryside  E12000005  West Midlands  E92000001   \n",
       "\n",
       "  CTRY11NM    FID  \n",
       "0  England  11001  \n",
       "1  England  11002  "
      ],
      "text/html": "<div>\n<style scoped>\n    .dataframe tbody tr th:only-of-type {\n        vertical-align: middle;\n    }\n\n    .dataframe tbody tr th {\n        vertical-align: top;\n    }\n\n    .dataframe thead th {\n        text-align: right;\n    }\n</style>\n<table border=\"1\" class=\"dataframe\">\n  <thead>\n    <tr style=\"text-align: right;\">\n      <th></th>\n      <th>OA11CD</th>\n      <th>OAC11CD</th>\n      <th>OAC11NM</th>\n      <th>LSOA11CD</th>\n      <th>LSOA11NM</th>\n      <th>SOAC11CD</th>\n      <th>SOAC11NM</th>\n      <th>MSOA11CD</th>\n      <th>MSOA11NM</th>\n      <th>LAD17CD</th>\n      <th>LAD17NM</th>\n      <th>LACCD</th>\n      <th>LACNM</th>\n      <th>RGN11CD</th>\n      <th>RGN11NM</th>\n      <th>CTRY11CD</th>\n      <th>CTRY11NM</th>\n      <th>FID</th>\n    </tr>\n  </thead>\n  <tbody>\n    <tr>\n      <th>0</th>\n      <td>E00070834</td>\n      <td>1a2</td>\n      <td>Established Farming Communities</td>\n      <td>E01014030</td>\n      <td>Herefordshire 009D</td>\n      <td>2b</td>\n      <td>Prospering countryside life</td>\n      <td>E02002913</td>\n      <td>Herefordshire 009</td>\n      <td>E06000019</td>\n      <td>Herefordshire, County of</td>\n      <td>3a2r</td>\n      <td>Sparse English and Welsh Countryside</td>\n      <td>E12000005</td>\n      <td>West Midlands</td>\n      <td>E92000001</td>\n      <td>England</td>\n      <td>11001</td>\n    </tr>\n    <tr>\n      <th>1</th>\n      <td>E00070835</td>\n      <td>1a2</td>\n      <td>Established Farming Communities</td>\n      <td>E01014028</td>\n      <td>Herefordshire 009B</td>\n      <td>2a</td>\n      <td>Ageing rural neighbourhoods</td>\n      <td>E02002913</td>\n      <td>Herefordshire 009</td>\n      <td>E06000019</td>\n      <td>Herefordshire, County of</td>\n      <td>3a2r</td>\n      <td>Sparse English and Welsh Countryside</td>\n      <td>E12000005</td>\n      <td>West Midlands</td>\n      <td>E92000001</td>\n      <td>England</td>\n      <td>11002</td>\n    </tr>\n  </tbody>\n</table>\n</div>"
     },
     "metadata": {},
     "execution_count": 6
    }
   ],
   "source": [
    "classifier_df.head(2)"
   ]
  },
  {
   "source": [
    "### Changes to output-area-classification dataframe \n",
    "* The columns OA11CD, OAC11CD and OAC11NM are not needed since they are smaller than LSOAs.\n",
    "* The columns RGN11CD and RGN11NM are regions which are also not needed.\n",
    "* The columns SOAC11CD and SOAC11NM are not needed.\n",
    "* the columns LAD17CD, LAD17NM, LACCD and LACNM are not needed since they are duplicated in the deprivation index datasframe.\n",
    "* The column CTRY11CD is country codes which is also not needed since we are only interested in England.\n",
    "* FID is not needed.\n",
    "I will drop all these columns from the dataframe."
   ],
   "cell_type": "markdown",
   "metadata": {}
  },
  {
   "cell_type": "code",
   "execution_count": 7,
   "metadata": {},
   "outputs": [
    {
     "output_type": "execute_result",
     "data": {
      "text/plain": [
       "    LSOA11CD            LSOA11NM   MSOA11CD           MSOA11NM CTRY11NM\n",
       "0  E01014030  Herefordshire 009D  E02002913  Herefordshire 009  England\n",
       "1  E01014028  Herefordshire 009B  E02002913  Herefordshire 009  England"
      ],
      "text/html": "<div>\n<style scoped>\n    .dataframe tbody tr th:only-of-type {\n        vertical-align: middle;\n    }\n\n    .dataframe tbody tr th {\n        vertical-align: top;\n    }\n\n    .dataframe thead th {\n        text-align: right;\n    }\n</style>\n<table border=\"1\" class=\"dataframe\">\n  <thead>\n    <tr style=\"text-align: right;\">\n      <th></th>\n      <th>LSOA11CD</th>\n      <th>LSOA11NM</th>\n      <th>MSOA11CD</th>\n      <th>MSOA11NM</th>\n      <th>CTRY11NM</th>\n    </tr>\n  </thead>\n  <tbody>\n    <tr>\n      <th>0</th>\n      <td>E01014030</td>\n      <td>Herefordshire 009D</td>\n      <td>E02002913</td>\n      <td>Herefordshire 009</td>\n      <td>England</td>\n    </tr>\n    <tr>\n      <th>1</th>\n      <td>E01014028</td>\n      <td>Herefordshire 009B</td>\n      <td>E02002913</td>\n      <td>Herefordshire 009</td>\n      <td>England</td>\n    </tr>\n  </tbody>\n</table>\n</div>"
     },
     "metadata": {},
     "execution_count": 7
    }
   ],
   "source": [
    "classifier_df.drop(columns=['OA11CD', 'OAC11CD', 'OAC11NM', 'RGN11CD', 'RGN11NM', 'SOAC11CD','SOAC11NM', 'LAD17CD', 'LAD17NM', 'LACCD', 'LACNM', 'CTRY11CD', 'FID'], inplace=True)\n",
    "classifier_df.head(2)"
   ]
  },
  {
   "cell_type": "code",
   "execution_count": 8,
   "metadata": {},
   "outputs": [
    {
     "output_type": "stream",
     "name": "stdout",
     "text": [
      "<class 'pandas.core.frame.DataFrame'>\nRangeIndex: 227759 entries, 0 to 227758\nData columns (total 5 columns):\n #   Column    Non-Null Count   Dtype \n---  ------    --------------   ----- \n 0   LSOA11CD  227759 non-null  object\n 1   LSOA11NM  227759 non-null  object\n 2   MSOA11CD  227759 non-null  object\n 3   MSOA11NM  227759 non-null  object\n 4   CTRY11NM  227759 non-null  object\ndtypes: object(5)\nmemory usage: 8.7+ MB\n"
     ]
    }
   ],
   "source": [
    "classifier_df.info()"
   ]
  },
  {
   "source": [
    "The dataframe has data for England, Scotland and Wales. We only need England for this study."
   ],
   "cell_type": "markdown",
   "metadata": {}
  },
  {
   "cell_type": "code",
   "execution_count": 9,
   "metadata": {},
   "outputs": [],
   "source": [
    "classifier_df = classifier_df[classifier_df[\"CTRY11NM\"]==\"England\"]"
   ]
  },
  {
   "cell_type": "code",
   "execution_count": 10,
   "metadata": {},
   "outputs": [],
   "source": [
    "# The CTRY11NM column is no longer needed and is removed\n",
    "classifier_df.drop(columns=[\"CTRY11NM\"], inplace=True)"
   ]
  },
  {
   "source": [
    "The dataframe has a lot of duplications."
   ],
   "cell_type": "markdown",
   "metadata": {}
  },
  {
   "cell_type": "code",
   "execution_count": 11,
   "metadata": {},
   "outputs": [],
   "source": [
    "classifier_df = classifier_df.drop_duplicates()"
   ]
  },
  {
   "cell_type": "code",
   "execution_count": 12,
   "metadata": {},
   "outputs": [
    {
     "output_type": "stream",
     "name": "stdout",
     "text": [
      "<class 'pandas.core.frame.DataFrame'>\nInt64Index: 32844 entries, 0 to 173846\nData columns (total 4 columns):\n #   Column    Non-Null Count  Dtype \n---  ------    --------------  ----- \n 0   LSOA11CD  32844 non-null  object\n 1   LSOA11NM  32844 non-null  object\n 2   MSOA11CD  32844 non-null  object\n 3   MSOA11NM  32844 non-null  object\ndtypes: object(4)\nmemory usage: 1.3+ MB\n"
     ]
    }
   ],
   "source": [
    "classifier_df.info()"
   ]
  },
  {
   "cell_type": "code",
   "execution_count": 13,
   "metadata": {},
   "outputs": [
    {
     "output_type": "execute_result",
     "data": {
      "text/plain": [
       "True"
      ]
     },
     "metadata": {},
     "execution_count": 13
    }
   ],
   "source": [
    "# Double check to make sure that the LSOAs are all unique. \n",
    "len(classifier_df.LSOA11NM.unique()) == 32844"
   ]
  },
  {
   "cell_type": "code",
   "execution_count": 14,
   "metadata": {},
   "outputs": [
    {
     "output_type": "execute_result",
     "data": {
      "text/plain": [
       "      LSOA_code_2011      LSOA_name_2011 Local_Authority_District_code_2013  \\\n",
       "13000      E01014030  Herefordshire 009D                          E06000019   \n",
       "\n",
       "      Local_Authority_District_name_2013  \\\n",
       "13000           Herefordshire, County of   \n",
       "\n",
       "       Index_of_Multiple_Deprivation_IMD_Rank  \\\n",
       "13000                                   18160   \n",
       "\n",
       "       Index_of_Multiple_Deprivation_IMD_Decile  Income_Rank  Income_Decile  \\\n",
       "13000                                         6        21009              7   \n",
       "\n",
       "       Employment_Rank  Employment_Decile  Education_Skills_and_Training_Rank  \\\n",
       "13000            23524                  8                               28723   \n",
       "\n",
       "       Education_Skills_and_Training_Decile  \\\n",
       "13000                                     9   \n",
       "\n",
       "       Health_Deprivation_and_Disability_Rank  \\\n",
       "13000                                   23652   \n",
       "\n",
       "       Health_Deprivation_and_Disability_Decile  Crime_Rank  Crime_Decile  \\\n",
       "13000                                         8       19931             7   \n",
       "\n",
       "       Barriers_to_Housing_and_Services_Rank  \\\n",
       "13000                                   1317   \n",
       "\n",
       "       Barriers_to_Housing_and_Services_Decile  Living_Environment_Rank  \\\n",
       "13000                                        1                     8819   \n",
       "\n",
       "       Living_Environment_Decile  \n",
       "13000                          3  "
      ],
      "text/html": "<div>\n<style scoped>\n    .dataframe tbody tr th:only-of-type {\n        vertical-align: middle;\n    }\n\n    .dataframe tbody tr th {\n        vertical-align: top;\n    }\n\n    .dataframe thead th {\n        text-align: right;\n    }\n</style>\n<table border=\"1\" class=\"dataframe\">\n  <thead>\n    <tr style=\"text-align: right;\">\n      <th></th>\n      <th>LSOA_code_2011</th>\n      <th>LSOA_name_2011</th>\n      <th>Local_Authority_District_code_2013</th>\n      <th>Local_Authority_District_name_2013</th>\n      <th>Index_of_Multiple_Deprivation_IMD_Rank</th>\n      <th>Index_of_Multiple_Deprivation_IMD_Decile</th>\n      <th>Income_Rank</th>\n      <th>Income_Decile</th>\n      <th>Employment_Rank</th>\n      <th>Employment_Decile</th>\n      <th>Education_Skills_and_Training_Rank</th>\n      <th>Education_Skills_and_Training_Decile</th>\n      <th>Health_Deprivation_and_Disability_Rank</th>\n      <th>Health_Deprivation_and_Disability_Decile</th>\n      <th>Crime_Rank</th>\n      <th>Crime_Decile</th>\n      <th>Barriers_to_Housing_and_Services_Rank</th>\n      <th>Barriers_to_Housing_and_Services_Decile</th>\n      <th>Living_Environment_Rank</th>\n      <th>Living_Environment_Decile</th>\n    </tr>\n  </thead>\n  <tbody>\n    <tr>\n      <th>13000</th>\n      <td>E01014030</td>\n      <td>Herefordshire 009D</td>\n      <td>E06000019</td>\n      <td>Herefordshire, County of</td>\n      <td>18160</td>\n      <td>6</td>\n      <td>21009</td>\n      <td>7</td>\n      <td>23524</td>\n      <td>8</td>\n      <td>28723</td>\n      <td>9</td>\n      <td>23652</td>\n      <td>8</td>\n      <td>19931</td>\n      <td>7</td>\n      <td>1317</td>\n      <td>1</td>\n      <td>8819</td>\n      <td>3</td>\n    </tr>\n  </tbody>\n</table>\n</div>"
     },
     "metadata": {},
     "execution_count": 14
    }
   ],
   "source": [
    "dod_df.loc[dod_df.LSOA_name_2011 == \"Herefordshire 009D\", :]"
   ]
  },
  {
   "cell_type": "code",
   "execution_count": 15,
   "metadata": {},
   "outputs": [
    {
     "output_type": "execute_result",
     "data": {
      "text/plain": [
       "    LSOA11CD            LSOA11NM   MSOA11CD           MSOA11NM\n",
       "0  E01014030  Herefordshire 009D  E02002913  Herefordshire 009"
      ],
      "text/html": "<div>\n<style scoped>\n    .dataframe tbody tr th:only-of-type {\n        vertical-align: middle;\n    }\n\n    .dataframe tbody tr th {\n        vertical-align: top;\n    }\n\n    .dataframe thead th {\n        text-align: right;\n    }\n</style>\n<table border=\"1\" class=\"dataframe\">\n  <thead>\n    <tr style=\"text-align: right;\">\n      <th></th>\n      <th>LSOA11CD</th>\n      <th>LSOA11NM</th>\n      <th>MSOA11CD</th>\n      <th>MSOA11NM</th>\n    </tr>\n  </thead>\n  <tbody>\n    <tr>\n      <th>0</th>\n      <td>E01014030</td>\n      <td>Herefordshire 009D</td>\n      <td>E02002913</td>\n      <td>Herefordshire 009</td>\n    </tr>\n  </tbody>\n</table>\n</div>"
     },
     "metadata": {},
     "execution_count": 15
    }
   ],
   "source": [
    "classifier_df.loc[classifier_df.LSOA11NM == \"Herefordshire 009D\", :]"
   ]
  },
  {
   "cell_type": "code",
   "execution_count": 16,
   "metadata": {},
   "outputs": [],
   "source": [
    "# MERGE classififier_df with dod_df\n",
    "dod_merged = pd.merge(classifier_df, dod_df, left_on=\"LSOA11CD\", right_on=\"LSOA_code_2011\",)"
   ]
  },
  {
   "cell_type": "code",
   "execution_count": 17,
   "metadata": {},
   "outputs": [],
   "source": [
    "# The columns LSOA11CD and LSOA11NM are no longer needed since they're the same as LSOA_code_20111 and LSOA_name_2011.\n",
    "dod_merged.drop(columns=[\"LSOA11CD\", \"LSOA11NM\"], inplace=True)"
   ]
  },
  {
   "cell_type": "code",
   "execution_count": 18,
   "metadata": {},
   "outputs": [
    {
     "output_type": "execute_result",
     "data": {
      "text/plain": [
       "    MSOA11CD           MSOA11NM LSOA_code_2011      LSOA_name_2011  \\\n",
       "0  E02002913  Herefordshire 009      E01014030  Herefordshire 009D   \n",
       "1  E02002913  Herefordshire 009      E01014028  Herefordshire 009B   \n",
       "2  E02002913  Herefordshire 009      E01014027  Herefordshire 009A   \n",
       "\n",
       "  Local_Authority_District_code_2013 Local_Authority_District_name_2013  \\\n",
       "0                          E06000019           Herefordshire, County of   \n",
       "1                          E06000019           Herefordshire, County of   \n",
       "2                          E06000019           Herefordshire, County of   \n",
       "\n",
       "   Index_of_Multiple_Deprivation_IMD_Rank  \\\n",
       "0                                   18160   \n",
       "1                                   20409   \n",
       "2                                   13424   \n",
       "\n",
       "   Index_of_Multiple_Deprivation_IMD_Decile  Income_Rank  Income_Decile  ...  \\\n",
       "0                                         6        21009              7  ...   \n",
       "1                                         7        28698              9  ...   \n",
       "2                                         5        19140              6  ...   \n",
       "\n",
       "   Education_Skills_and_Training_Rank  Education_Skills_and_Training_Decile  \\\n",
       "0                               28723                                     9   \n",
       "1                               29666                                    10   \n",
       "2                               22405                                     7   \n",
       "\n",
       "   Health_Deprivation_and_Disability_Rank  \\\n",
       "0                                   23652   \n",
       "1                                   29473   \n",
       "2                                   20814   \n",
       "\n",
       "   Health_Deprivation_and_Disability_Decile  Crime_Rank  Crime_Decile  \\\n",
       "0                                         8       19931             7   \n",
       "1                                         9       26491             9   \n",
       "2                                         7       30668            10   \n",
       "\n",
       "   Barriers_to_Housing_and_Services_Rank  \\\n",
       "0                                   1317   \n",
       "1                                   1379   \n",
       "2                                    468   \n",
       "\n",
       "   Barriers_to_Housing_and_Services_Decile  Living_Environment_Rank  \\\n",
       "0                                        1                     8819   \n",
       "1                                        1                     4769   \n",
       "2                                        1                     2973   \n",
       "\n",
       "   Living_Environment_Decile  \n",
       "0                          3  \n",
       "1                          2  \n",
       "2                          1  \n",
       "\n",
       "[3 rows x 22 columns]"
      ],
      "text/html": "<div>\n<style scoped>\n    .dataframe tbody tr th:only-of-type {\n        vertical-align: middle;\n    }\n\n    .dataframe tbody tr th {\n        vertical-align: top;\n    }\n\n    .dataframe thead th {\n        text-align: right;\n    }\n</style>\n<table border=\"1\" class=\"dataframe\">\n  <thead>\n    <tr style=\"text-align: right;\">\n      <th></th>\n      <th>MSOA11CD</th>\n      <th>MSOA11NM</th>\n      <th>LSOA_code_2011</th>\n      <th>LSOA_name_2011</th>\n      <th>Local_Authority_District_code_2013</th>\n      <th>Local_Authority_District_name_2013</th>\n      <th>Index_of_Multiple_Deprivation_IMD_Rank</th>\n      <th>Index_of_Multiple_Deprivation_IMD_Decile</th>\n      <th>Income_Rank</th>\n      <th>Income_Decile</th>\n      <th>...</th>\n      <th>Education_Skills_and_Training_Rank</th>\n      <th>Education_Skills_and_Training_Decile</th>\n      <th>Health_Deprivation_and_Disability_Rank</th>\n      <th>Health_Deprivation_and_Disability_Decile</th>\n      <th>Crime_Rank</th>\n      <th>Crime_Decile</th>\n      <th>Barriers_to_Housing_and_Services_Rank</th>\n      <th>Barriers_to_Housing_and_Services_Decile</th>\n      <th>Living_Environment_Rank</th>\n      <th>Living_Environment_Decile</th>\n    </tr>\n  </thead>\n  <tbody>\n    <tr>\n      <th>0</th>\n      <td>E02002913</td>\n      <td>Herefordshire 009</td>\n      <td>E01014030</td>\n      <td>Herefordshire 009D</td>\n      <td>E06000019</td>\n      <td>Herefordshire, County of</td>\n      <td>18160</td>\n      <td>6</td>\n      <td>21009</td>\n      <td>7</td>\n      <td>...</td>\n      <td>28723</td>\n      <td>9</td>\n      <td>23652</td>\n      <td>8</td>\n      <td>19931</td>\n      <td>7</td>\n      <td>1317</td>\n      <td>1</td>\n      <td>8819</td>\n      <td>3</td>\n    </tr>\n    <tr>\n      <th>1</th>\n      <td>E02002913</td>\n      <td>Herefordshire 009</td>\n      <td>E01014028</td>\n      <td>Herefordshire 009B</td>\n      <td>E06000019</td>\n      <td>Herefordshire, County of</td>\n      <td>20409</td>\n      <td>7</td>\n      <td>28698</td>\n      <td>9</td>\n      <td>...</td>\n      <td>29666</td>\n      <td>10</td>\n      <td>29473</td>\n      <td>9</td>\n      <td>26491</td>\n      <td>9</td>\n      <td>1379</td>\n      <td>1</td>\n      <td>4769</td>\n      <td>2</td>\n    </tr>\n    <tr>\n      <th>2</th>\n      <td>E02002913</td>\n      <td>Herefordshire 009</td>\n      <td>E01014027</td>\n      <td>Herefordshire 009A</td>\n      <td>E06000019</td>\n      <td>Herefordshire, County of</td>\n      <td>13424</td>\n      <td>5</td>\n      <td>19140</td>\n      <td>6</td>\n      <td>...</td>\n      <td>22405</td>\n      <td>7</td>\n      <td>20814</td>\n      <td>7</td>\n      <td>30668</td>\n      <td>10</td>\n      <td>468</td>\n      <td>1</td>\n      <td>2973</td>\n      <td>1</td>\n    </tr>\n  </tbody>\n</table>\n<p>3 rows × 22 columns</p>\n</div>"
     },
     "metadata": {},
     "execution_count": 18
    }
   ],
   "source": [
    "dod_merged.head(3)"
   ]
  },
  {
   "source": [
    "### Loading census proportions dataframe"
   ],
   "cell_type": "markdown",
   "metadata": {}
  },
  {
   "cell_type": "code",
   "execution_count": 19,
   "metadata": {},
   "outputs": [],
   "source": [
    "data = './data/census/mydata/census_proportions_16_49.csv'\n",
    "proportions_df = pd.read_csv(data)"
   ]
  },
  {
   "cell_type": "code",
   "execution_count": 20,
   "metadata": {},
   "outputs": [
    {
     "output_type": "execute_result",
     "data": {
      "text/plain": [
       "             MSOA  higher_occupation_25_49  fulltime_students_16_24\n",
       "0  Darlington 001                     13.0                     44.0\n",
       "1  Darlington 002                      7.0                     40.0\n",
       "2  Darlington 003                      8.0                     40.0"
      ],
      "text/html": "<div>\n<style scoped>\n    .dataframe tbody tr th:only-of-type {\n        vertical-align: middle;\n    }\n\n    .dataframe tbody tr th {\n        vertical-align: top;\n    }\n\n    .dataframe thead th {\n        text-align: right;\n    }\n</style>\n<table border=\"1\" class=\"dataframe\">\n  <thead>\n    <tr style=\"text-align: right;\">\n      <th></th>\n      <th>MSOA</th>\n      <th>higher_occupation_25_49</th>\n      <th>fulltime_students_16_24</th>\n    </tr>\n  </thead>\n  <tbody>\n    <tr>\n      <th>0</th>\n      <td>Darlington 001</td>\n      <td>13.0</td>\n      <td>44.0</td>\n    </tr>\n    <tr>\n      <th>1</th>\n      <td>Darlington 002</td>\n      <td>7.0</td>\n      <td>40.0</td>\n    </tr>\n    <tr>\n      <th>2</th>\n      <td>Darlington 003</td>\n      <td>8.0</td>\n      <td>40.0</td>\n    </tr>\n  </tbody>\n</table>\n</div>"
     },
     "metadata": {},
     "execution_count": 20
    }
   ],
   "source": [
    "proportions_df.head(3)"
   ]
  },
  {
   "source": [
    "Lets now merge the previously merged dod dataframe with the proportions dataframe. With this we will have all the proportions MSOA data for students and occupations linked to their respected LSOAs."
   ],
   "cell_type": "markdown",
   "metadata": {}
  },
  {
   "cell_type": "code",
   "execution_count": 21,
   "metadata": {},
   "outputs": [],
   "source": [
    "df = pd.merge(proportions_df, dod_merged, left_on=\"MSOA\", right_on=\"MSOA11NM\")\n",
    "# Will drop these two columns since they're just duplicates.\n",
    "df.drop(columns=[\"MSOA11NM\", \"MSOA11CD\"], inplace=True)"
   ]
  },
  {
   "cell_type": "code",
   "execution_count": 39,
   "metadata": {},
   "outputs": [
    {
     "output_type": "execute_result",
     "data": {
      "text/plain": [
       "             MSOA  higher_occupation_25_49  fulltime_students_16_24  \\\n",
       "0  Darlington 001                     13.0                     44.0   \n",
       "1  Darlington 001                     13.0                     44.0   \n",
       "2  Darlington 001                     13.0                     44.0   \n",
       "3  Darlington 001                     13.0                     44.0   \n",
       "4  Darlington 001                     13.0                     44.0   \n",
       "5  Darlington 002                      7.0                     40.0   \n",
       "\n",
       "  LSOA_code_2011   LSOA_name_2011 Local_Authority_District_code_2013  \\\n",
       "0      E01012366  Darlington 001D                          E06000005   \n",
       "1      E01012334  Darlington 001B                          E06000005   \n",
       "2      E01033481  Darlington 001E                          E06000005   \n",
       "3      E01012335  Darlington 001C                          E06000005   \n",
       "4      E01033482  Darlington 001F                          E06000005   \n",
       "5      E01012323  Darlington 002C                          E06000005   \n",
       "\n",
       "  Local_Authority_District_name_2013  Index_of_Multiple_Deprivation_IMD_Rank  \\\n",
       "0                         Darlington                                   20517   \n",
       "1                         Darlington                                   20967   \n",
       "2                         Darlington                                   23959   \n",
       "3                         Darlington                                   28277   \n",
       "4                         Darlington                                   26913   \n",
       "5                         Darlington                                   17496   \n",
       "\n",
       "   Index_of_Multiple_Deprivation_IMD_Decile  Income_Rank  ...  \\\n",
       "0                                         7        21508  ...   \n",
       "1                                         7        30076  ...   \n",
       "2                                         8        29455  ...   \n",
       "3                                         9        28083  ...   \n",
       "4                                         9        26337  ...   \n",
       "5                                         6        15106  ...   \n",
       "\n",
       "   Education_Skills_and_Training_Rank  Education_Skills_and_Training_Decile  \\\n",
       "0                               25324                                     8   \n",
       "1                               29055                                     9   \n",
       "2                               29294                                     9   \n",
       "3                               29737                                    10   \n",
       "4                               25114                                     8   \n",
       "5                               15230                                     5   \n",
       "\n",
       "   Health_Deprivation_and_Disability_Rank  \\\n",
       "0                                   17074   \n",
       "1                                   22336   \n",
       "2                                   12602   \n",
       "3                                   14397   \n",
       "4                                   18195   \n",
       "5                                   10378   \n",
       "\n",
       "   Health_Deprivation_and_Disability_Decile  Crime_Rank  Crime_Decile  \\\n",
       "0                                         6       26994             9   \n",
       "1                                         7       13579             5   \n",
       "2                                         4        8862             3   \n",
       "3                                         5       29504             9   \n",
       "4                                         6       26721             9   \n",
       "5                                         4       13386             5   \n",
       "\n",
       "   Barriers_to_Housing_and_Services_Rank  \\\n",
       "0                                   3336   \n",
       "1                                   1890   \n",
       "2                                   8198   \n",
       "3                                  17316   \n",
       "4                                  10133   \n",
       "5                                  31536   \n",
       "\n",
       "   Barriers_to_Housing_and_Services_Decile  Living_Environment_Rank  \\\n",
       "0                                        2                    23770   \n",
       "1                                        1                    12117   \n",
       "2                                        3                    30523   \n",
       "3                                        6                    30760   \n",
       "4                                        4                    32297   \n",
       "5                                       10                    23534   \n",
       "\n",
       "   Living_Environment_Decile  \n",
       "0                          8  \n",
       "1                          4  \n",
       "2                         10  \n",
       "3                         10  \n",
       "4                         10  \n",
       "5                          8  \n",
       "\n",
       "[6 rows x 23 columns]"
      ],
      "text/html": "<div>\n<style scoped>\n    .dataframe tbody tr th:only-of-type {\n        vertical-align: middle;\n    }\n\n    .dataframe tbody tr th {\n        vertical-align: top;\n    }\n\n    .dataframe thead th {\n        text-align: right;\n    }\n</style>\n<table border=\"1\" class=\"dataframe\">\n  <thead>\n    <tr style=\"text-align: right;\">\n      <th></th>\n      <th>MSOA</th>\n      <th>higher_occupation_25_49</th>\n      <th>fulltime_students_16_24</th>\n      <th>LSOA_code_2011</th>\n      <th>LSOA_name_2011</th>\n      <th>Local_Authority_District_code_2013</th>\n      <th>Local_Authority_District_name_2013</th>\n      <th>Index_of_Multiple_Deprivation_IMD_Rank</th>\n      <th>Index_of_Multiple_Deprivation_IMD_Decile</th>\n      <th>Income_Rank</th>\n      <th>...</th>\n      <th>Education_Skills_and_Training_Rank</th>\n      <th>Education_Skills_and_Training_Decile</th>\n      <th>Health_Deprivation_and_Disability_Rank</th>\n      <th>Health_Deprivation_and_Disability_Decile</th>\n      <th>Crime_Rank</th>\n      <th>Crime_Decile</th>\n      <th>Barriers_to_Housing_and_Services_Rank</th>\n      <th>Barriers_to_Housing_and_Services_Decile</th>\n      <th>Living_Environment_Rank</th>\n      <th>Living_Environment_Decile</th>\n    </tr>\n  </thead>\n  <tbody>\n    <tr>\n      <th>0</th>\n      <td>Darlington 001</td>\n      <td>13.0</td>\n      <td>44.0</td>\n      <td>E01012366</td>\n      <td>Darlington 001D</td>\n      <td>E06000005</td>\n      <td>Darlington</td>\n      <td>20517</td>\n      <td>7</td>\n      <td>21508</td>\n      <td>...</td>\n      <td>25324</td>\n      <td>8</td>\n      <td>17074</td>\n      <td>6</td>\n      <td>26994</td>\n      <td>9</td>\n      <td>3336</td>\n      <td>2</td>\n      <td>23770</td>\n      <td>8</td>\n    </tr>\n    <tr>\n      <th>1</th>\n      <td>Darlington 001</td>\n      <td>13.0</td>\n      <td>44.0</td>\n      <td>E01012334</td>\n      <td>Darlington 001B</td>\n      <td>E06000005</td>\n      <td>Darlington</td>\n      <td>20967</td>\n      <td>7</td>\n      <td>30076</td>\n      <td>...</td>\n      <td>29055</td>\n      <td>9</td>\n      <td>22336</td>\n      <td>7</td>\n      <td>13579</td>\n      <td>5</td>\n      <td>1890</td>\n      <td>1</td>\n      <td>12117</td>\n      <td>4</td>\n    </tr>\n    <tr>\n      <th>2</th>\n      <td>Darlington 001</td>\n      <td>13.0</td>\n      <td>44.0</td>\n      <td>E01033481</td>\n      <td>Darlington 001E</td>\n      <td>E06000005</td>\n      <td>Darlington</td>\n      <td>23959</td>\n      <td>8</td>\n      <td>29455</td>\n      <td>...</td>\n      <td>29294</td>\n      <td>9</td>\n      <td>12602</td>\n      <td>4</td>\n      <td>8862</td>\n      <td>3</td>\n      <td>8198</td>\n      <td>3</td>\n      <td>30523</td>\n      <td>10</td>\n    </tr>\n    <tr>\n      <th>3</th>\n      <td>Darlington 001</td>\n      <td>13.0</td>\n      <td>44.0</td>\n      <td>E01012335</td>\n      <td>Darlington 001C</td>\n      <td>E06000005</td>\n      <td>Darlington</td>\n      <td>28277</td>\n      <td>9</td>\n      <td>28083</td>\n      <td>...</td>\n      <td>29737</td>\n      <td>10</td>\n      <td>14397</td>\n      <td>5</td>\n      <td>29504</td>\n      <td>9</td>\n      <td>17316</td>\n      <td>6</td>\n      <td>30760</td>\n      <td>10</td>\n    </tr>\n    <tr>\n      <th>4</th>\n      <td>Darlington 001</td>\n      <td>13.0</td>\n      <td>44.0</td>\n      <td>E01033482</td>\n      <td>Darlington 001F</td>\n      <td>E06000005</td>\n      <td>Darlington</td>\n      <td>26913</td>\n      <td>9</td>\n      <td>26337</td>\n      <td>...</td>\n      <td>25114</td>\n      <td>8</td>\n      <td>18195</td>\n      <td>6</td>\n      <td>26721</td>\n      <td>9</td>\n      <td>10133</td>\n      <td>4</td>\n      <td>32297</td>\n      <td>10</td>\n    </tr>\n    <tr>\n      <th>5</th>\n      <td>Darlington 002</td>\n      <td>7.0</td>\n      <td>40.0</td>\n      <td>E01012323</td>\n      <td>Darlington 002C</td>\n      <td>E06000005</td>\n      <td>Darlington</td>\n      <td>17496</td>\n      <td>6</td>\n      <td>15106</td>\n      <td>...</td>\n      <td>15230</td>\n      <td>5</td>\n      <td>10378</td>\n      <td>4</td>\n      <td>13386</td>\n      <td>5</td>\n      <td>31536</td>\n      <td>10</td>\n      <td>23534</td>\n      <td>8</td>\n    </tr>\n  </tbody>\n</table>\n<p>6 rows × 23 columns</p>\n</div>"
     },
     "metadata": {},
     "execution_count": 39
    }
   ],
   "source": [
    " df.head(6)"
   ]
  },
  {
   "source": [
    "### Aggregating the dataset for crime"
   ],
   "cell_type": "markdown",
   "metadata": {}
  },
  {
   "source": [
    "I decided to use median instead of mean since mean is largely influenced by outliers."
   ],
   "cell_type": "markdown",
   "metadata": {}
  },
  {
   "cell_type": "code",
   "execution_count": 58,
   "metadata": {},
   "outputs": [],
   "source": [
    "proportions_crime_agg = df.groupby([\"MSOA\"])[[\"higher_occupation_25_49\", \"fulltime_students_16_24\", \"Crime_Rank\", \"Crime_Decile\"]].median()"
   ]
  },
  {
   "cell_type": "code",
   "execution_count": 59,
   "metadata": {},
   "outputs": [
    {
     "output_type": "execute_result",
     "data": {
      "text/plain": [
       "          higher_occupation_25_49  fulltime_students_16_24  Crime_Rank  \\\n",
       "MSOA                                                                     \n",
       "Adur 001                      7.0                     36.0     13270.0   \n",
       "Adur 002                     12.0                     47.0     19925.0   \n",
       "Adur 003                      8.0                     52.0     22258.0   \n",
       "Adur 004                      6.0                     34.0     10491.0   \n",
       "Adur 005                     13.0                     38.0     19712.0   \n",
       "\n",
       "          Crime_Decile  \n",
       "MSOA                    \n",
       "Adur 001           4.5  \n",
       "Adur 002           7.0  \n",
       "Adur 003           7.0  \n",
       "Adur 004           4.0  \n",
       "Adur 005           7.0  "
      ],
      "text/html": "<div>\n<style scoped>\n    .dataframe tbody tr th:only-of-type {\n        vertical-align: middle;\n    }\n\n    .dataframe tbody tr th {\n        vertical-align: top;\n    }\n\n    .dataframe thead th {\n        text-align: right;\n    }\n</style>\n<table border=\"1\" class=\"dataframe\">\n  <thead>\n    <tr style=\"text-align: right;\">\n      <th></th>\n      <th>higher_occupation_25_49</th>\n      <th>fulltime_students_16_24</th>\n      <th>Crime_Rank</th>\n      <th>Crime_Decile</th>\n    </tr>\n    <tr>\n      <th>MSOA</th>\n      <th></th>\n      <th></th>\n      <th></th>\n      <th></th>\n    </tr>\n  </thead>\n  <tbody>\n    <tr>\n      <th>Adur 001</th>\n      <td>7.0</td>\n      <td>36.0</td>\n      <td>13270.0</td>\n      <td>4.5</td>\n    </tr>\n    <tr>\n      <th>Adur 002</th>\n      <td>12.0</td>\n      <td>47.0</td>\n      <td>19925.0</td>\n      <td>7.0</td>\n    </tr>\n    <tr>\n      <th>Adur 003</th>\n      <td>8.0</td>\n      <td>52.0</td>\n      <td>22258.0</td>\n      <td>7.0</td>\n    </tr>\n    <tr>\n      <th>Adur 004</th>\n      <td>6.0</td>\n      <td>34.0</td>\n      <td>10491.0</td>\n      <td>4.0</td>\n    </tr>\n    <tr>\n      <th>Adur 005</th>\n      <td>13.0</td>\n      <td>38.0</td>\n      <td>19712.0</td>\n      <td>7.0</td>\n    </tr>\n  </tbody>\n</table>\n</div>"
     },
     "metadata": {},
     "execution_count": 59
    }
   ],
   "source": [
    "proportions_crime_agg.head()"
   ]
  }
 ]
}