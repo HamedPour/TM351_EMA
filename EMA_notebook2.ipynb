{
 "metadata": {
  "language_info": {
   "codemirror_mode": {
    "name": "ipython",
    "version": 3
   },
   "file_extension": ".py",
   "mimetype": "text/x-python",
   "name": "python",
   "nbconvert_exporter": "python",
   "pygments_lexer": "ipython3",
   "version": "3.8.8"
  },
  "orig_nbformat": 2,
  "kernelspec": {
   "name": "python388jvsc74a57bd06c313c17cd49812660d49233b46c691bbb6b1e704907687e4545c48258cc969b",
   "display_name": "Python 3.8.8 64-bit ('emsx_3.8.8': venv)"
  },
  "metadata": {
   "interpreter": {
    "hash": "6c313c17cd49812660d49233b46c691bbb6b1e704907687e4545c48258cc969b"
   }
  }
 },
 "nbformat": 4,
 "nbformat_minor": 2,
 "cells": [
  {
   "cell_type": "code",
   "execution_count": 39,
   "metadata": {},
   "outputs": [],
   "source": [
    "import pandas as pd"
   ]
  },
  {
   "source": [
    "### Importing Dataframes"
   ],
   "cell_type": "markdown",
   "metadata": {}
  },
  {
   "cell_type": "code",
   "execution_count": 40,
   "metadata": {},
   "outputs": [],
   "source": [
    "data = './data/census/output-area-classification.csv'\n",
    "classifier_df = pd.read_csv(data)"
   ]
  },
  {
   "cell_type": "code",
   "execution_count": 41,
   "metadata": {},
   "outputs": [],
   "source": [
    "data = './data/Deprivation_Index/ID2015_Domains_of_deprivation.xlsx'\n",
    "dod_df = pd.read_excel(data, sheet_name='ID2015 Domains')"
   ]
  },
  {
   "cell_type": "code",
   "execution_count": 43,
   "metadata": {},
   "outputs": [
    {
     "output_type": "execute_result",
     "data": {
      "text/plain": [
       "  LSOA_code_2011 LSOA_name_2011 Local_Authority_District_code_2013  \\\n",
       "0      E01031349      Adur 001A                          E07000223   \n",
       "1      E01031350      Adur 001B                          E07000223   \n",
       "\n",
       "  Local_Authority_District_name_2013  Index_of_Multiple_Deprivation_IMD_Rank  \\\n",
       "0                               Adur                                   21352   \n",
       "1                               Adur                                    8864   \n",
       "\n",
       "   Index_of_Multiple_Deprivation_IMD_Decile  Income_Rank  Income_Decile  \\\n",
       "0                                         7        18992              6   \n",
       "1                                         3         9233              3   \n",
       "\n",
       "   Employment_Rank  Employment_Decile  Education_Skills_and_Training_Rank  \\\n",
       "0            19305                  6                               13727   \n",
       "1             7879                  3                                6969   \n",
       "\n",
       "   Education_Skills_and_Training_Decile  \\\n",
       "0                                     5   \n",
       "1                                     3   \n",
       "\n",
       "   Health_Deprivation_and_Disability_Rank  \\\n",
       "0                                   25876   \n",
       "1                                    6883   \n",
       "\n",
       "   Health_Deprivation_and_Disability_Decile  Crime_Rank  Crime_Decile  \\\n",
       "0                                         8       12817             4   \n",
       "1                                         3       12781             4   \n",
       "\n",
       "   Barriers_to_Housing_and_Services_Rank  \\\n",
       "0                                  28166   \n",
       "1                                  11399   \n",
       "\n",
       "   Barriers_to_Housing_and_Services_Decile  Living_Environment_Rank  \\\n",
       "0                                        9                    18367   \n",
       "1                                        4                    16242   \n",
       "\n",
       "   Living_Environment_Decile  \n",
       "0                          6  \n",
       "1                          5  "
      ],
      "text/html": "<div>\n<style scoped>\n    .dataframe tbody tr th:only-of-type {\n        vertical-align: middle;\n    }\n\n    .dataframe tbody tr th {\n        vertical-align: top;\n    }\n\n    .dataframe thead th {\n        text-align: right;\n    }\n</style>\n<table border=\"1\" class=\"dataframe\">\n  <thead>\n    <tr style=\"text-align: right;\">\n      <th></th>\n      <th>LSOA_code_2011</th>\n      <th>LSOA_name_2011</th>\n      <th>Local_Authority_District_code_2013</th>\n      <th>Local_Authority_District_name_2013</th>\n      <th>Index_of_Multiple_Deprivation_IMD_Rank</th>\n      <th>Index_of_Multiple_Deprivation_IMD_Decile</th>\n      <th>Income_Rank</th>\n      <th>Income_Decile</th>\n      <th>Employment_Rank</th>\n      <th>Employment_Decile</th>\n      <th>Education_Skills_and_Training_Rank</th>\n      <th>Education_Skills_and_Training_Decile</th>\n      <th>Health_Deprivation_and_Disability_Rank</th>\n      <th>Health_Deprivation_and_Disability_Decile</th>\n      <th>Crime_Rank</th>\n      <th>Crime_Decile</th>\n      <th>Barriers_to_Housing_and_Services_Rank</th>\n      <th>Barriers_to_Housing_and_Services_Decile</th>\n      <th>Living_Environment_Rank</th>\n      <th>Living_Environment_Decile</th>\n    </tr>\n  </thead>\n  <tbody>\n    <tr>\n      <th>0</th>\n      <td>E01031349</td>\n      <td>Adur 001A</td>\n      <td>E07000223</td>\n      <td>Adur</td>\n      <td>21352</td>\n      <td>7</td>\n      <td>18992</td>\n      <td>6</td>\n      <td>19305</td>\n      <td>6</td>\n      <td>13727</td>\n      <td>5</td>\n      <td>25876</td>\n      <td>8</td>\n      <td>12817</td>\n      <td>4</td>\n      <td>28166</td>\n      <td>9</td>\n      <td>18367</td>\n      <td>6</td>\n    </tr>\n    <tr>\n      <th>1</th>\n      <td>E01031350</td>\n      <td>Adur 001B</td>\n      <td>E07000223</td>\n      <td>Adur</td>\n      <td>8864</td>\n      <td>3</td>\n      <td>9233</td>\n      <td>3</td>\n      <td>7879</td>\n      <td>3</td>\n      <td>6969</td>\n      <td>3</td>\n      <td>6883</td>\n      <td>3</td>\n      <td>12781</td>\n      <td>4</td>\n      <td>11399</td>\n      <td>4</td>\n      <td>16242</td>\n      <td>5</td>\n    </tr>\n  </tbody>\n</table>\n</div>"
     },
     "metadata": {},
     "execution_count": 43
    }
   ],
   "source": [
    "dod_df.head(2)"
   ]
  },
  {
   "cell_type": "code",
   "execution_count": 44,
   "metadata": {},
   "outputs": [
    {
     "output_type": "execute_result",
     "data": {
      "text/plain": [
       "      OA11CD OAC11CD                          OAC11NM   LSOA11CD  \\\n",
       "0  E00070834     1a2  Established Farming Communities  E01014030   \n",
       "1  E00070835     1a2  Established Farming Communities  E01014028   \n",
       "\n",
       "             LSOA11NM SOAC11CD                     SOAC11NM   MSOA11CD  \\\n",
       "0  Herefordshire 009D       2b  Prospering countryside life  E02002913   \n",
       "1  Herefordshire 009B       2a  Ageing rural neighbourhoods  E02002913   \n",
       "\n",
       "            MSOA11NM    LAD17CD                   LAD17NM LACCD  \\\n",
       "0  Herefordshire 009  E06000019  Herefordshire, County of  3a2r   \n",
       "1  Herefordshire 009  E06000019  Herefordshire, County of  3a2r   \n",
       "\n",
       "                                  LACNM    RGN11CD        RGN11NM   CTRY11CD  \\\n",
       "0  Sparse English and Welsh Countryside  E12000005  West Midlands  E92000001   \n",
       "1  Sparse English and Welsh Countryside  E12000005  West Midlands  E92000001   \n",
       "\n",
       "  CTRY11NM    FID  \n",
       "0  England  11001  \n",
       "1  England  11002  "
      ],
      "text/html": "<div>\n<style scoped>\n    .dataframe tbody tr th:only-of-type {\n        vertical-align: middle;\n    }\n\n    .dataframe tbody tr th {\n        vertical-align: top;\n    }\n\n    .dataframe thead th {\n        text-align: right;\n    }\n</style>\n<table border=\"1\" class=\"dataframe\">\n  <thead>\n    <tr style=\"text-align: right;\">\n      <th></th>\n      <th>OA11CD</th>\n      <th>OAC11CD</th>\n      <th>OAC11NM</th>\n      <th>LSOA11CD</th>\n      <th>LSOA11NM</th>\n      <th>SOAC11CD</th>\n      <th>SOAC11NM</th>\n      <th>MSOA11CD</th>\n      <th>MSOA11NM</th>\n      <th>LAD17CD</th>\n      <th>LAD17NM</th>\n      <th>LACCD</th>\n      <th>LACNM</th>\n      <th>RGN11CD</th>\n      <th>RGN11NM</th>\n      <th>CTRY11CD</th>\n      <th>CTRY11NM</th>\n      <th>FID</th>\n    </tr>\n  </thead>\n  <tbody>\n    <tr>\n      <th>0</th>\n      <td>E00070834</td>\n      <td>1a2</td>\n      <td>Established Farming Communities</td>\n      <td>E01014030</td>\n      <td>Herefordshire 009D</td>\n      <td>2b</td>\n      <td>Prospering countryside life</td>\n      <td>E02002913</td>\n      <td>Herefordshire 009</td>\n      <td>E06000019</td>\n      <td>Herefordshire, County of</td>\n      <td>3a2r</td>\n      <td>Sparse English and Welsh Countryside</td>\n      <td>E12000005</td>\n      <td>West Midlands</td>\n      <td>E92000001</td>\n      <td>England</td>\n      <td>11001</td>\n    </tr>\n    <tr>\n      <th>1</th>\n      <td>E00070835</td>\n      <td>1a2</td>\n      <td>Established Farming Communities</td>\n      <td>E01014028</td>\n      <td>Herefordshire 009B</td>\n      <td>2a</td>\n      <td>Ageing rural neighbourhoods</td>\n      <td>E02002913</td>\n      <td>Herefordshire 009</td>\n      <td>E06000019</td>\n      <td>Herefordshire, County of</td>\n      <td>3a2r</td>\n      <td>Sparse English and Welsh Countryside</td>\n      <td>E12000005</td>\n      <td>West Midlands</td>\n      <td>E92000001</td>\n      <td>England</td>\n      <td>11002</td>\n    </tr>\n  </tbody>\n</table>\n</div>"
     },
     "metadata": {},
     "execution_count": 44
    }
   ],
   "source": [
    "classifier_df.head(2)"
   ]
  },
  {
   "source": [
    "### Changes to output-area-classification dataframe \n",
    "* The columns OA11CD, OAC11CD and OAC11NM are not needed since they are smaller than LSOAs.\n",
    "* The columns RGN11CD and RGN11NM are regions which are also not needed.\n",
    "* The columns SOAC11CD and SOAC11NM are not needed.\n",
    "* the columns LACCD and LACNM are not needed.\n",
    "* The column CTRY11CD is country codes which is also not needed since we are only interested in England.\n",
    "* FID is not needed.\n",
    "I will drop all these columns from the dataframe."
   ],
   "cell_type": "markdown",
   "metadata": {}
  },
  {
   "cell_type": "code",
   "execution_count": 45,
   "metadata": {},
   "outputs": [
    {
     "output_type": "execute_result",
     "data": {
      "text/plain": [
       "    LSOA11CD            LSOA11NM   MSOA11CD           MSOA11NM    LAD17CD  \\\n",
       "0  E01014030  Herefordshire 009D  E02002913  Herefordshire 009  E06000019   \n",
       "1  E01014028  Herefordshire 009B  E02002913  Herefordshire 009  E06000019   \n",
       "\n",
       "                    LAD17NM CTRY11NM  \n",
       "0  Herefordshire, County of  England  \n",
       "1  Herefordshire, County of  England  "
      ],
      "text/html": "<div>\n<style scoped>\n    .dataframe tbody tr th:only-of-type {\n        vertical-align: middle;\n    }\n\n    .dataframe tbody tr th {\n        vertical-align: top;\n    }\n\n    .dataframe thead th {\n        text-align: right;\n    }\n</style>\n<table border=\"1\" class=\"dataframe\">\n  <thead>\n    <tr style=\"text-align: right;\">\n      <th></th>\n      <th>LSOA11CD</th>\n      <th>LSOA11NM</th>\n      <th>MSOA11CD</th>\n      <th>MSOA11NM</th>\n      <th>LAD17CD</th>\n      <th>LAD17NM</th>\n      <th>CTRY11NM</th>\n    </tr>\n  </thead>\n  <tbody>\n    <tr>\n      <th>0</th>\n      <td>E01014030</td>\n      <td>Herefordshire 009D</td>\n      <td>E02002913</td>\n      <td>Herefordshire 009</td>\n      <td>E06000019</td>\n      <td>Herefordshire, County of</td>\n      <td>England</td>\n    </tr>\n    <tr>\n      <th>1</th>\n      <td>E01014028</td>\n      <td>Herefordshire 009B</td>\n      <td>E02002913</td>\n      <td>Herefordshire 009</td>\n      <td>E06000019</td>\n      <td>Herefordshire, County of</td>\n      <td>England</td>\n    </tr>\n  </tbody>\n</table>\n</div>"
     },
     "metadata": {},
     "execution_count": 45
    }
   ],
   "source": [
    "classifier_df.drop(columns=['OA11CD', 'OAC11CD', 'OAC11NM', 'RGN11CD', 'RGN11NM', 'SOAC11CD','SOAC11NM', 'LACCD', 'LACNM', 'CTRY11CD', 'FID'], inplace=True)\n",
    "classifier_df.head(2)"
   ]
  },
  {
   "cell_type": "code",
   "execution_count": 46,
   "metadata": {},
   "outputs": [
    {
     "output_type": "stream",
     "name": "stdout",
     "text": [
      "<class 'pandas.core.frame.DataFrame'>\nInt64Index: 171372 entries, 0 to 173999\nData columns (total 7 columns):\n #   Column    Non-Null Count   Dtype \n---  ------    --------------   ----- \n 0   LSOA11CD  171372 non-null  object\n 1   LSOA11NM  171372 non-null  object\n 2   MSOA11CD  171372 non-null  object\n 3   MSOA11NM  171372 non-null  object\n 4   LAD17CD   171372 non-null  object\n 5   LAD17NM   171372 non-null  object\n 6   CTRY11NM  171372 non-null  object\ndtypes: object(7)\nmemory usage: 10.5+ MB\n"
     ]
    }
   ],
   "source": [
    "classifier_df.info()"
   ]
  },
  {
   "source": [
    "The dataframe has data for England, Scotland and Wales. We only need England for this study."
   ],
   "cell_type": "markdown",
   "metadata": {}
  },
  {
   "cell_type": "code",
   "execution_count": 48,
   "metadata": {},
   "outputs": [],
   "source": [
    "classifier_df = classifier_df[classifier_df[\"CTRY11NM\"]==\"England\"]"
   ]
  },
  {
   "cell_type": "code",
   "execution_count": 50,
   "metadata": {},
   "outputs": [],
   "source": [
    "# The CTRY11NM column is no longer needed and is removed\n",
    "classifier_df.drop(columns=[\"CTRY11NM\"], inplace=True)"
   ]
  },
  {
   "source": [
    "The dataframe has a lot of duplications."
   ],
   "cell_type": "markdown",
   "metadata": {}
  },
  {
   "cell_type": "code",
   "execution_count": 54,
   "metadata": {},
   "outputs": [],
   "source": [
    "classifier_df = classifier_df.drop_duplicates()"
   ]
  },
  {
   "cell_type": "code",
   "execution_count": 55,
   "metadata": {},
   "outputs": [
    {
     "output_type": "stream",
     "name": "stdout",
     "text": [
      "<class 'pandas.core.frame.DataFrame'>\nInt64Index: 32844 entries, 0 to 173846\nData columns (total 6 columns):\n #   Column    Non-Null Count  Dtype \n---  ------    --------------  ----- \n 0   LSOA11CD  32844 non-null  object\n 1   LSOA11NM  32844 non-null  object\n 2   MSOA11CD  32844 non-null  object\n 3   MSOA11NM  32844 non-null  object\n 4   LAD17CD   32844 non-null  object\n 5   LAD17NM   32844 non-null  object\ndtypes: object(6)\nmemory usage: 1.8+ MB\n"
     ]
    }
   ],
   "source": [
    "classifier_df.info()"
   ]
  },
  {
   "cell_type": "code",
   "execution_count": 58,
   "metadata": {},
   "outputs": [
    {
     "output_type": "execute_result",
     "data": {
      "text/plain": [
       "True"
      ]
     },
     "metadata": {},
     "execution_count": 58
    }
   ],
   "source": [
    "# Double check to make sure that the LSOAs are all unique. \n",
    "len(classifier_df.LSOA11NM.unique()) == 32844"
   ]
  },
  {
   "cell_type": "code",
   "execution_count": 60,
   "metadata": {},
   "outputs": [],
   "source": [
    "# MERGE classififier_df with dod_df"
   ]
  }
 ]
}